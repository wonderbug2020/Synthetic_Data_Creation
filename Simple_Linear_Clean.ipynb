{
 "cells": [
  {
   "cell_type": "code",
   "execution_count": null,
   "metadata": {},
   "outputs": [],
   "source": [
    "#Import the libraries to use\n",
    "import pandas as pd\n",
    "import random\n",
    "import matplotlib.pyplot as plt"
   ]
  },
  {
   "cell_type": "code",
   "execution_count": null,
   "metadata": {},
   "outputs": [],
   "source": [
    "#Set initial conditions\n",
    "y_increment = .25\n",
    "x_increment = y_increment*2\n",
    "data_points = 2000"
   ]
  },
  {
   "cell_type": "code",
   "execution_count": null,
   "metadata": {},
   "outputs": [],
   "source": [
    "#This function is an adder to mix up the X and Y from it's origin\n",
    "def get_random_adder():\n",
    "    positive_negative_choice = [-1,1]\n",
    "    random_positive_negative = random.random()*random.choice(positive_negative_choice)\n",
    "    return(float(random_positive_negative))"
   ]
  },
  {
   "cell_type": "code",
   "execution_count": null,
   "metadata": {},
   "outputs": [],
   "source": [
    "#This function is used to spread out the Y value and add in outliers\n",
    "def get_random_multi():\n",
    "    population = [1,1.5,2,2.5,3,4,5,10]\n",
    "    weight = [32.5,20,15,10,9,7.5,5,.5]\n",
    "    multi = random.choices(population,weight,k=1)\n",
    "    return(multi[0])"
   ]
  },
  {
   "cell_type": "code",
   "execution_count": null,
   "metadata": {},
   "outputs": [],
   "source": [
    "#This function is used to remove a certain percentage of the data, or to thin it\n",
    "def get_removal_chance(removal_percent=.2):\n",
    "    rem = removal_percent\n",
    "    binary_lst = [0,1]\n",
    "    removal_weight = [rem,1-rem]\n",
    "    removal = random.choices(binary_lst,removal_weight)[0]\n",
    "    return(removal)"
   ]
  },
  {
   "cell_type": "code",
   "execution_count": null,
   "metadata": {},
   "outputs": [],
   "source": [
    "#Creates the dataframe\n",
    "x=[]\n",
    "y=[]\n",
    "x_shift=[]\n",
    "y_shift=[]\n",
    "remove=[]\n",
    "for point in range(data_points):\n",
    "    x.append((point+1)*x_increment)\n",
    "    y.append((point+1)*y_increment)\n",
    "    x_shift.append(x[point]+get_random_adder())\n",
    "    y_shift.append(y[point]+(70*get_random_adder()*get_random_multi()))\n",
    "    remove.append(get_removal_chance(.8))\n",
    "    \n",
    "dict = {'variable':x,'solution':y,'adjusted_variable':x_shift,\n",
    "        'adjusted_solution':y_shift,'removal_odds':remove} \n",
    "simple_linear=pd.DataFrame(dict)"
   ]
  },
  {
   "cell_type": "code",
   "execution_count": null,
   "metadata": {},
   "outputs": [],
   "source": [
    "plt.scatter(simple_linear['variable'],simple_linear['adjusted_solution'])\n",
    "plt.plot(simple_linear['variable'],simple_linear['solution'],color='red')"
   ]
  },
  {
   "cell_type": "code",
   "execution_count": null,
   "metadata": {},
   "outputs": [],
   "source": [
    "simple_linear_light = simple_linear.loc[simple_linear['removal_odds']==1]\n",
    "plt.scatter(simple_linear_light['variable'],simple_linear_light['adjusted_solution'])\n",
    "plt.plot(simple_linear_light['variable'],simple_linear_light['solution'],color='red')"
   ]
  },
  {
   "cell_type": "code",
   "execution_count": null,
   "metadata": {},
   "outputs": [],
   "source": [
    "simple_linear_light.head()"
   ]
  },
  {
   "cell_type": "code",
   "execution_count": null,
   "metadata": {},
   "outputs": [],
   "source": [
    "simple_linear_light['answer'] = simple_linear_light['variable'].apply(lambda x: 1 if x >= 750 else 0)"
   ]
  },
  {
   "cell_type": "code",
   "execution_count": null,
   "metadata": {},
   "outputs": [],
   "source": [
    "simple_linear_light.sample(10)"
   ]
  },
  {
   "cell_type": "code",
   "execution_count": null,
   "metadata": {},
   "outputs": [],
   "source": [
    "plt.scatter(simple_linear_light['variable'],simple_linear_light['adjusted_solution'],c=simple_linear_light['answer'])\n",
    "plt.plot(simple_linear_light['variable'],simple_linear_light['solution'],color='red')"
   ]
  },
  {
   "cell_type": "code",
   "execution_count": null,
   "metadata": {},
   "outputs": [],
   "source": []
  }
 ],
 "metadata": {
  "kernelspec": {
   "display_name": "Python 3",
   "language": "python",
   "name": "python3"
  },
  "language_info": {
   "codemirror_mode": {
    "name": "ipython",
    "version": 3
   },
   "file_extension": ".py",
   "mimetype": "text/x-python",
   "name": "python",
   "nbconvert_exporter": "python",
   "pygments_lexer": "ipython3",
   "version": "3.8.3"
  }
 },
 "nbformat": 4,
 "nbformat_minor": 4
}
