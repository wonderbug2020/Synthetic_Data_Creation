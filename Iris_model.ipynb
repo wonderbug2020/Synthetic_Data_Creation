{
 "cells": [
  {
   "cell_type": "code",
   "execution_count": 1,
   "metadata": {},
   "outputs": [],
   "source": [
    "import pandas as pd\n",
    "import matplotlib.pyplot as plt"
   ]
  },
  {
   "cell_type": "code",
   "execution_count": 2,
   "metadata": {},
   "outputs": [],
   "source": [
    "iris_data = pd.read_csv('data_folder/fake_iris_data.csv')"
   ]
  },
  {
   "cell_type": "code",
   "execution_count": 4,
   "metadata": {},
   "outputs": [
    {
     "data": {
      "text/html": [
       "<div>\n",
       "<style scoped>\n",
       "    .dataframe tbody tr th:only-of-type {\n",
       "        vertical-align: middle;\n",
       "    }\n",
       "\n",
       "    .dataframe tbody tr th {\n",
       "        vertical-align: top;\n",
       "    }\n",
       "\n",
       "    .dataframe thead th {\n",
       "        text-align: right;\n",
       "    }\n",
       "</style>\n",
       "<table border=\"1\" class=\"dataframe\">\n",
       "  <thead>\n",
       "    <tr style=\"text-align: right;\">\n",
       "      <th></th>\n",
       "      <th>nrm_raw</th>\n",
       "      <th>par_1</th>\n",
       "      <th>par_2</th>\n",
       "      <th>Type</th>\n",
       "    </tr>\n",
       "  </thead>\n",
       "  <tbody>\n",
       "    <tr>\n",
       "      <th>41993</th>\n",
       "      <td>0.364037</td>\n",
       "      <td>8.866238</td>\n",
       "      <td>12.276330</td>\n",
       "      <td>Plant_3</td>\n",
       "    </tr>\n",
       "    <tr>\n",
       "      <th>2821</th>\n",
       "      <td>0.469047</td>\n",
       "      <td>6.831069</td>\n",
       "      <td>13.275945</td>\n",
       "      <td>Plant_1</td>\n",
       "    </tr>\n",
       "    <tr>\n",
       "      <th>9626</th>\n",
       "      <td>0.397307</td>\n",
       "      <td>6.497476</td>\n",
       "      <td>12.293102</td>\n",
       "      <td>Plant_1</td>\n",
       "    </tr>\n",
       "    <tr>\n",
       "      <th>34932</th>\n",
       "      <td>0.498438</td>\n",
       "      <td>8.016646</td>\n",
       "      <td>10.863679</td>\n",
       "      <td>Plant_2</td>\n",
       "    </tr>\n",
       "    <tr>\n",
       "      <th>43635</th>\n",
       "      <td>0.365363</td>\n",
       "      <td>8.874859</td>\n",
       "      <td>12.288267</td>\n",
       "      <td>Plant_3</td>\n",
       "    </tr>\n",
       "    <tr>\n",
       "      <th>3047</th>\n",
       "      <td>0.438183</td>\n",
       "      <td>6.687552</td>\n",
       "      <td>12.853110</td>\n",
       "      <td>Plant_1</td>\n",
       "    </tr>\n",
       "    <tr>\n",
       "      <th>45422</th>\n",
       "      <td>0.683371</td>\n",
       "      <td>10.941913</td>\n",
       "      <td>15.150341</td>\n",
       "      <td>Plant_3</td>\n",
       "    </tr>\n",
       "    <tr>\n",
       "      <th>16574</th>\n",
       "      <td>0.506173</td>\n",
       "      <td>7.003705</td>\n",
       "      <td>13.784571</td>\n",
       "      <td>Plant_1</td>\n",
       "    </tr>\n",
       "    <tr>\n",
       "      <th>8520</th>\n",
       "      <td>0.499783</td>\n",
       "      <td>6.973990</td>\n",
       "      <td>13.697025</td>\n",
       "      <td>Plant_1</td>\n",
       "    </tr>\n",
       "    <tr>\n",
       "      <th>10609</th>\n",
       "      <td>0.454352</td>\n",
       "      <td>6.762738</td>\n",
       "      <td>13.074624</td>\n",
       "      <td>Plant_1</td>\n",
       "    </tr>\n",
       "  </tbody>\n",
       "</table>\n",
       "</div>"
      ],
      "text/plain": [
       "        nrm_raw      par_1      par_2     Type\n",
       "41993  0.364037   8.866238  12.276330  Plant_3\n",
       "2821   0.469047   6.831069  13.275945  Plant_1\n",
       "9626   0.397307   6.497476  12.293102  Plant_1\n",
       "34932  0.498438   8.016646  10.863679  Plant_2\n",
       "43635  0.365363   8.874859  12.288267  Plant_3\n",
       "3047   0.438183   6.687552  12.853110  Plant_1\n",
       "45422  0.683371  10.941913  15.150341  Plant_3\n",
       "16574  0.506173   7.003705  13.784571  Plant_1\n",
       "8520   0.499783   6.973990  13.697025  Plant_1\n",
       "10609  0.454352   6.762738  13.074624  Plant_1"
      ]
     },
     "execution_count": 4,
     "metadata": {},
     "output_type": "execute_result"
    }
   ],
   "source": [
    "iris_data.sample(10)"
   ]
  },
  {
   "cell_type": "code",
   "execution_count": 5,
   "metadata": {},
   "outputs": [],
   "source": [
    "X = iris_data.iloc[:,:-1].values\n",
    "y = iris_data.iloc[:,-1].values"
   ]
  },
  {
   "cell_type": "code",
   "execution_count": 6,
   "metadata": {},
   "outputs": [],
   "source": [
    "from sklearn.model_selection import train_test_split\n",
    "X_train, X_test, y_train, y_test = train_test_split(X, y, test_size=0.25, random_state=101)"
   ]
  },
  {
   "cell_type": "code",
   "execution_count": 8,
   "metadata": {},
   "outputs": [],
   "source": [
    "from sklearn.ensemble import RandomForestClassifier\n",
    "rfc = RandomForestClassifier(n_estimators=10, criterion = 'entropy', random_state = 0)\n",
    "rfc.fit(X_train,y_train)\n",
    "y_pred = rfc.predict(X_test)"
   ]
  },
  {
   "cell_type": "code",
   "execution_count": 9,
   "metadata": {},
   "outputs": [
    {
     "name": "stdout",
     "output_type": "stream",
     "text": [
      "[[4987    0    0]\n",
      " [   1 5073    0]\n",
      " [   0    1 4939]]\n"
     ]
    },
    {
     "data": {
      "text/plain": [
       "0.999866675554963"
      ]
     },
     "execution_count": 9,
     "metadata": {},
     "output_type": "execute_result"
    }
   ],
   "source": [
    "from sklearn.metrics import confusion_matrix, accuracy_score\n",
    "cm = confusion_matrix(y_test, y_pred)\n",
    "print(cm)\n",
    "accuracy_score(y_test, y_pred)"
   ]
  },
  {
   "cell_type": "code",
   "execution_count": 11,
   "metadata": {},
   "outputs": [],
   "source": [
    "from sklearn.preprocessing import StandardScaler\n",
    "sc = StandardScaler()\n",
    "X_train = sc.fit_transform(X_train)\n",
    "X_test = sc.transform(X_test)"
   ]
  },
  {
   "cell_type": "code",
   "execution_count": 12,
   "metadata": {},
   "outputs": [],
   "source": [
    "from sklearn.linear_model import LogisticRegression\n",
    "log_cla = LogisticRegression(random_state = 0)\n",
    "log_cla.fit(X_train, y_train)\n",
    "log_pred = log_cla.predict(X_test)"
   ]
  },
  {
   "cell_type": "code",
   "execution_count": 14,
   "metadata": {},
   "outputs": [
    {
     "name": "stdout",
     "output_type": "stream",
     "text": [
      "[[4987    0    0]\n",
      " [   0 5074    0]\n",
      " [   0    0 4940]]\n"
     ]
    },
    {
     "data": {
      "text/plain": [
       "1.0"
      ]
     },
     "execution_count": 14,
     "metadata": {},
     "output_type": "execute_result"
    }
   ],
   "source": [
    "from sklearn.metrics import confusion_matrix, accuracy_score\n",
    "cm = confusion_matrix(y_test, log_pred)\n",
    "print(cm)\n",
    "accuracy_score(y_test, log_pred)"
   ]
  },
  {
   "cell_type": "code",
   "execution_count": null,
   "metadata": {},
   "outputs": [],
   "source": []
  }
 ],
 "metadata": {
  "kernelspec": {
   "display_name": "Python 3",
   "language": "python",
   "name": "python3"
  },
  "language_info": {
   "codemirror_mode": {
    "name": "ipython",
    "version": 3
   },
   "file_extension": ".py",
   "mimetype": "text/x-python",
   "name": "python",
   "nbconvert_exporter": "python",
   "pygments_lexer": "ipython3",
   "version": "3.8.3"
  }
 },
 "nbformat": 4,
 "nbformat_minor": 4
}
