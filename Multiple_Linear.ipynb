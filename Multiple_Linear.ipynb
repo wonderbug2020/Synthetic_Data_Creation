{
 "cells": [
  {
   "cell_type": "code",
   "execution_count": 1,
   "metadata": {},
   "outputs": [],
   "source": [
    "#Import the libraries to use\n",
    "import pandas as pd\n",
    "import random\n",
    "import matplotlib.pyplot as plt"
   ]
  },
  {
   "cell_type": "code",
   "execution_count": 5,
   "metadata": {},
   "outputs": [],
   "source": [
    "y_increment = .25\n",
    "starting_data_points = 12000"
   ]
  },
  {
   "cell_type": "code",
   "execution_count": 7,
   "metadata": {},
   "outputs": [],
   "source": [
    "#This function is used to remove a certain percentage of the data, or to thin it\n",
    "def get_removal_chance(removal_percent=.2):\n",
    "    rem = removal_percent\n",
    "    binary_lst = [0,1]\n",
    "    removal_weight = [rem,1-rem]\n",
    "    removal = random.choices(binary_lst,removal_weight)[0]\n",
    "    return(removal)"
   ]
  },
  {
   "cell_type": "code",
   "execution_count": 8,
   "metadata": {},
   "outputs": [],
   "source": [
    "#I am going to have 3 variables that effect the solution but when making the data I need to work backwards\n",
    "#First I need to populate the solution, y, and then set the relationship with the variables\n",
    "#One variable will have a ratio of 1.75, another 42.69, to have a scale difference, and the last, -2.5\n",
    "w=[]\n",
    "x=[]\n",
    "y=[]\n",
    "z=[]\n",
    "remove=[]\n",
    "for point in range(starting_data_points):\n",
    "    y.append((point+1)*y_increment)\n",
    "    w.append(y[point]*(1/1.75))\n",
    "    x.append(y[point]*(1/42.69))\n",
    "    z.append(y[point]*(1/-2.5))\n",
    "    remove.append(get_removal_chance(.75))\n",
    "\n",
    "dict = {'solution':y,'var_1':w,'var_2':x,'var_3':z,'removal_odds':remove}\n",
    "multiple_linear=pd.DataFrame(dict)"
   ]
  },
  {
   "cell_type": "code",
   "execution_count": null,
   "metadata": {},
   "outputs": [],
   "source": []
  },
  {
   "cell_type": "code",
   "execution_count": null,
   "metadata": {},
   "outputs": [],
   "source": []
  }
 ],
 "metadata": {
  "kernelspec": {
   "display_name": "Python 3",
   "language": "python",
   "name": "python3"
  },
  "language_info": {
   "codemirror_mode": {
    "name": "ipython",
    "version": 3
   },
   "file_extension": ".py",
   "mimetype": "text/x-python",
   "name": "python",
   "nbconvert_exporter": "python",
   "pygments_lexer": "ipython3",
   "version": "3.8.3"
  }
 },
 "nbformat": 4,
 "nbformat_minor": 4
}
