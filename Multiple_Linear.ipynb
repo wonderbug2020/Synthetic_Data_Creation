{
 "cells": [
  {
   "cell_type": "code",
   "execution_count": 1,
   "metadata": {},
   "outputs": [],
   "source": [
    "#Import the libraries to use\n",
    "import pandas as pd\n",
    "import random\n",
    "import matplotlib.pyplot as plt"
   ]
  },
  {
   "cell_type": "code",
   "execution_count": 5,
   "metadata": {},
   "outputs": [],
   "source": [
    "y_increment = .25\n",
    "starting_data_points = 12000"
   ]
  },
  {
   "cell_type": "code",
   "execution_count": 7,
   "metadata": {},
   "outputs": [],
   "source": [
    "#This function is used to remove a certain percentage of the data, or to thin it\n",
    "def get_removal_chance(removal_percent=.2):\n",
    "    rem = removal_percent\n",
    "    binary_lst = [0,1]\n",
    "    removal_weight = [rem,1-rem]\n",
    "    removal = random.choices(binary_lst,removal_weight)[0]\n",
    "    return(removal)"
   ]
  },
  {
   "cell_type": "code",
   "execution_count": 18,
   "metadata": {},
   "outputs": [],
   "source": [
    "#I am going to have 3 variables that effect the solution but when making the data I need to work backwards\n",
    "#First I need to populate the solution, y, and then set the relationship with the variables\n",
    "#One variable will have a ratio of 1.75, another 42.69, to have a scale difference, and the last, -2.5\n",
    "w=[]\n",
    "x=[]\n",
    "y=[]\n",
    "z=[]\n",
    "remove=[]\n",
    "for point in range(starting_data_points):\n",
    "    y.append((point+1)*y_increment)\n",
    "    w.append(y[point]*(1.75))\n",
    "    x.append(y[point]*(69.42))\n",
    "    z.append(y[point]*(-2.5))\n",
    "    remove.append(get_removal_chance(.75))\n",
    "\n",
    "dict = {'solution':y,'var_1':w,'var_2':x,'var_3':z,'removal_odds':remove}\n",
    "m_l=pd.DataFrame(dict)"
   ]
  },
  {
   "cell_type": "code",
   "execution_count": 19,
   "metadata": {},
   "outputs": [],
   "source": [
    "var_1 = 1.6*m_l['var_1']\n",
    "var_2 = .03*m_l['var_2']\n",
    "var_3 = 1.8*m_l['var_3']\n",
    "m_l['new_solution'] = var_1 + var_2 + var_3                                  "
   ]
  },
  {
   "cell_type": "code",
   "execution_count": 29,
   "metadata": {},
   "outputs": [],
   "source": [
    "m_l['decider'] = m_l['new_solution'].apply(lambda x: 1 if x >= 625 else 0)\n",
    "#simple_linear_light['answer'] = simple_linear_light['variable'].apply(lambda x: 1 if x >= 750 else 0)"
   ]
  },
  {
   "cell_type": "code",
   "execution_count": 30,
   "metadata": {},
   "outputs": [
    {
     "data": {
      "text/html": [
       "<div>\n",
       "<style scoped>\n",
       "    .dataframe tbody tr th:only-of-type {\n",
       "        vertical-align: middle;\n",
       "    }\n",
       "\n",
       "    .dataframe tbody tr th {\n",
       "        vertical-align: top;\n",
       "    }\n",
       "\n",
       "    .dataframe thead th {\n",
       "        text-align: right;\n",
       "    }\n",
       "</style>\n",
       "<table border=\"1\" class=\"dataframe\">\n",
       "  <thead>\n",
       "    <tr style=\"text-align: right;\">\n",
       "      <th></th>\n",
       "      <th>solution</th>\n",
       "      <th>var_1</th>\n",
       "      <th>var_2</th>\n",
       "      <th>var_3</th>\n",
       "      <th>removal_odds</th>\n",
       "      <th>new_solution</th>\n",
       "      <th>decider</th>\n",
       "    </tr>\n",
       "  </thead>\n",
       "  <tbody>\n",
       "    <tr>\n",
       "      <th>count</th>\n",
       "      <td>12000.000000</td>\n",
       "      <td>12000.000000</td>\n",
       "      <td>12000.000000</td>\n",
       "      <td>12000.000000</td>\n",
       "      <td>12000.000000</td>\n",
       "      <td>12000.000000</td>\n",
       "      <td>12000.000000</td>\n",
       "    </tr>\n",
       "    <tr>\n",
       "      <th>mean</th>\n",
       "      <td>1500.125000</td>\n",
       "      <td>2625.218750</td>\n",
       "      <td>104138.677500</td>\n",
       "      <td>-3750.312500</td>\n",
       "      <td>0.247083</td>\n",
       "      <td>573.947825</td>\n",
       "      <td>0.455500</td>\n",
       "    </tr>\n",
       "    <tr>\n",
       "      <th>std</th>\n",
       "      <td>866.061487</td>\n",
       "      <td>1515.607603</td>\n",
       "      <td>60121.988457</td>\n",
       "      <td>2165.153719</td>\n",
       "      <td>0.431334</td>\n",
       "      <td>331.355125</td>\n",
       "      <td>0.498037</td>\n",
       "    </tr>\n",
       "    <tr>\n",
       "      <th>min</th>\n",
       "      <td>0.250000</td>\n",
       "      <td>0.437500</td>\n",
       "      <td>17.355000</td>\n",
       "      <td>-7500.000000</td>\n",
       "      <td>0.000000</td>\n",
       "      <td>0.095650</td>\n",
       "      <td>0.000000</td>\n",
       "    </tr>\n",
       "    <tr>\n",
       "      <th>25%</th>\n",
       "      <td>750.187500</td>\n",
       "      <td>1312.828125</td>\n",
       "      <td>52078.016250</td>\n",
       "      <td>-5625.156250</td>\n",
       "      <td>0.000000</td>\n",
       "      <td>287.021737</td>\n",
       "      <td>0.000000</td>\n",
       "    </tr>\n",
       "    <tr>\n",
       "      <th>50%</th>\n",
       "      <td>1500.125000</td>\n",
       "      <td>2625.218750</td>\n",
       "      <td>104138.677500</td>\n",
       "      <td>-3750.312500</td>\n",
       "      <td>0.000000</td>\n",
       "      <td>573.947825</td>\n",
       "      <td>0.000000</td>\n",
       "    </tr>\n",
       "    <tr>\n",
       "      <th>75%</th>\n",
       "      <td>2250.062500</td>\n",
       "      <td>3937.609375</td>\n",
       "      <td>156199.338750</td>\n",
       "      <td>-1875.468750</td>\n",
       "      <td>0.000000</td>\n",
       "      <td>860.873912</td>\n",
       "      <td>1.000000</td>\n",
       "    </tr>\n",
       "    <tr>\n",
       "      <th>max</th>\n",
       "      <td>3000.000000</td>\n",
       "      <td>5250.000000</td>\n",
       "      <td>208260.000000</td>\n",
       "      <td>-0.625000</td>\n",
       "      <td>1.000000</td>\n",
       "      <td>1147.800000</td>\n",
       "      <td>1.000000</td>\n",
       "    </tr>\n",
       "  </tbody>\n",
       "</table>\n",
       "</div>"
      ],
      "text/plain": [
       "           solution         var_1          var_2         var_3  removal_odds  \\\n",
       "count  12000.000000  12000.000000   12000.000000  12000.000000  12000.000000   \n",
       "mean    1500.125000   2625.218750  104138.677500  -3750.312500      0.247083   \n",
       "std      866.061487   1515.607603   60121.988457   2165.153719      0.431334   \n",
       "min        0.250000      0.437500      17.355000  -7500.000000      0.000000   \n",
       "25%      750.187500   1312.828125   52078.016250  -5625.156250      0.000000   \n",
       "50%     1500.125000   2625.218750  104138.677500  -3750.312500      0.000000   \n",
       "75%     2250.062500   3937.609375  156199.338750  -1875.468750      0.000000   \n",
       "max     3000.000000   5250.000000  208260.000000     -0.625000      1.000000   \n",
       "\n",
       "       new_solution       decider  \n",
       "count  12000.000000  12000.000000  \n",
       "mean     573.947825      0.455500  \n",
       "std      331.355125      0.498037  \n",
       "min        0.095650      0.000000  \n",
       "25%      287.021737      0.000000  \n",
       "50%      573.947825      0.000000  \n",
       "75%      860.873912      1.000000  \n",
       "max     1147.800000      1.000000  "
      ]
     },
     "execution_count": 30,
     "metadata": {},
     "output_type": "execute_result"
    }
   ],
   "source": [
    "m_l.describe()"
   ]
  },
  {
   "cell_type": "code",
   "execution_count": 31,
   "metadata": {},
   "outputs": [
    {
     "data": {
      "text/plain": [
       "<matplotlib.collections.PathCollection at 0x221ee0a4700>"
      ]
     },
     "execution_count": 31,
     "metadata": {},
     "output_type": "execute_result"
    },
    {
     "data": {
      "image/png": "[encoded data removed]",
      "text/plain": [
       "<Figure size 432x288 with 1 Axes>"
      ]
     },
     "metadata": {
      "needs_background": "light"
     },
     "output_type": "display_data"
    }
   ],
   "source": [
    "plt.scatter(m_l['solution'],m_l['new_solution'],c='red')\n",
    "plt.scatter(m_l['solution'],m_l['var_1'],c='green')\n",
    "plt.scatter(m_l['solution'],m_l['var_2'],c='orange')\n",
    "plt.scatter(m_l['solution'],m_l['var_3'],c='blue')"
   ]
  },
  {
   "cell_type": "code",
   "execution_count": 46,
   "metadata": {},
   "outputs": [],
   "source": [
    "def randomizer(stabilizer):\n",
    "    pos_or_neg_lst = [-1,1]\n",
    "    population = [1,1.5,2,2.5,3,4,5,10]\n",
    "    weight = [32.5,20,15,10,9,7.5,5,.5]\n",
    "    rand = random.random()\n",
    "    get_pos_or_neg = float(random.choice(pos_or_neg_lst))\n",
    "    multiplier = random.choices(population,weight,k=1)\n",
    "    random_number = stabilizer*rand*get_pos_or_neg*multiplier[0]\n",
    "    return(random_number)"
   ]
  },
  {
   "cell_type": "code",
   "execution_count": 43,
   "metadata": {},
   "outputs": [],
   "source": [
    "#m_l['var_1'].quantile(.25)\n",
    "var_1_10 = m_l['var_1'].quantile(.10)\n",
    "var_2_10 = m_l['var_2'].quantile(.10)\n",
    "var_3_10 = m_l['var_3'].quantile(.10)"
   ]
  },
  {
   "cell_type": "code",
   "execution_count": null,
   "metadata": {},
   "outputs": [],
   "source": [
    "m_l['new_var_1'] = m_"
   ]
  },
  {
   "cell_type": "code",
   "execution_count": null,
   "metadata": {},
   "outputs": [],
   "source": []
  },
  {
   "cell_type": "code",
   "execution_count": null,
   "metadata": {},
   "outputs": [],
   "source": []
  }
 ],
 "metadata": {
  "kernelspec": {
   "display_name": "Python 3",
   "language": "python",
   "name": "python3"
  },
  "language_info": {
   "codemirror_mode": {
    "name": "ipython",
    "version": 3
   },
   "file_extension": ".py",
   "mimetype": "text/x-python",
   "name": "python",
   "nbconvert_exporter": "python",
   "pygments_lexer": "ipython3",
   "version": "3.8.3"
  }
 },
 "nbformat": 4,
 "nbformat_minor": 4
}
