{
 "cells": [
  {
   "cell_type": "code",
   "execution_count": null,
   "metadata": {},
   "outputs": [],
   "source": [
    "#Import the libraries to use\n",
    "import pandas as pd\n",
    "import random\n",
    "import matplotlib.pyplot as plt"
   ]
  },
  {
   "cell_type": "code",
   "execution_count": null,
   "metadata": {},
   "outputs": [],
   "source": [
    "y_increment = .25\n",
    "starting_data_points = 12000"
   ]
  },
  {
   "cell_type": "code",
   "execution_count": null,
   "metadata": {},
   "outputs": [],
   "source": [
    "#This function is used to remove a certain percentage of the data, or to thin it\n",
    "def get_removal_chance(removal_percent=.2):\n",
    "    rem = removal_percent\n",
    "    binary_lst = [0,1]\n",
    "    removal_weight = [rem,1-rem]\n",
    "    removal = random.choices(binary_lst,removal_weight)[0]\n",
    "    return(removal)"
   ]
  },
  {
   "cell_type": "code",
   "execution_count": null,
   "metadata": {},
   "outputs": [],
   "source": [
    "#I am going to have 3 variables that effect the solution but when making the data I need to work backwards\n",
    "#First I need to populate the solution, y, and then set the relationship with the variables\n",
    "#One variable will have a ratio of 1.75, another 42.69, to have a scale difference, and the last, -2.5\n",
    "w=[]\n",
    "x=[]\n",
    "y=[]\n",
    "z=[]\n",
    "remove=[]\n",
    "for point in range(starting_data_points):\n",
    "    y.append((point+1)*y_increment)\n",
    "    w.append(y[point]*(1.75))\n",
    "    x.append(y[point]*(69.42))\n",
    "    z.append(y[point]*(-2.5))\n",
    "    remove.append(get_removal_chance(.75))\n",
    "\n",
    "dict = {'solution':y,'var_1':w,'var_2':x,'var_3':z,'removal_odds':remove}\n",
    "m_l=pd.DataFrame(dict)"
   ]
  },
  {
   "cell_type": "code",
   "execution_count": null,
   "metadata": {},
   "outputs": [],
   "source": [
    "var_1 = 1.6*m_l['var_1']\n",
    "var_2 = .03*m_l['var_2']\n",
    "var_3 = 1.8*m_l['var_3']\n",
    "m_l['new_solution'] = var_1 + var_2 + var_3                                  "
   ]
  },
  {
   "cell_type": "code",
   "execution_count": null,
   "metadata": {},
   "outputs": [],
   "source": [
    "m_l['decider'] = m_l['new_solution'].apply(lambda x: 1 if x >= 625 else 0)\n",
    "#simple_linear_light['answer'] = simple_linear_light['variable'].apply(lambda x: 1 if x >= 750 else 0)"
   ]
  },
  {
   "cell_type": "code",
   "execution_count": null,
   "metadata": {},
   "outputs": [],
   "source": [
    "m_l.describe()"
   ]
  },
  {
   "cell_type": "code",
   "execution_count": null,
   "metadata": {},
   "outputs": [],
   "source": [
    "plt.scatter(m_l['solution'],m_l['new_solution'],c='red')\n",
    "plt.scatter(m_l['solution'],m_l['var_1'],c='green')\n",
    "plt.scatter(m_l['solution'],m_l['var_2'],c='orange')\n",
    "plt.scatter(m_l['solution'],m_l['var_3'],c='blue')"
   ]
  },
  {
   "cell_type": "code",
   "execution_count": null,
   "metadata": {},
   "outputs": [],
   "source": [
    "def randomizer(stabilizer):\n",
    "    pos_or_neg_lst = [-1,1]\n",
    "    population = [1,1.5,2,2.5,3,4,5,10]\n",
    "    weight = [32.5,20,15,10,9,7.5,5,.5]\n",
    "    rand = random.random()\n",
    "    get_pos_or_neg = float(random.choice(pos_or_neg_lst))\n",
    "    multiplier = random.choices(population,weight,k=1)\n",
    "    random_number = stabilizer*rand*get_pos_or_neg*multiplier[0]\n",
    "    return(random_number)"
   ]
  },
  {
   "cell_type": "code",
   "execution_count": null,
   "metadata": {},
   "outputs": [],
   "source": [
    "#m_l['var_1'].quantile(.25)\n",
    "var_1_05 = m_l['var_1'].quantile(.2)\n",
    "var_2_05 = m_l['var_2'].quantile(.2)\n",
    "var_3_05 = m_l['var_3'].quantile(.8)"
   ]
  },
  {
   "cell_type": "code",
   "execution_count": null,
   "metadata": {},
   "outputs": [],
   "source": [
    "var_1_rand=[]\n",
    "var_2_rand=[]\n",
    "var_3_rand=[]\n",
    "for point in range(starting_data_points):\n",
    "    var_1_rand.append(randomizer(var_1_05))\n",
    "    var_2_rand.append(randomizer(var_2_05))\n",
    "    var_3_rand.append(randomizer(var_3_05))\n",
    "\n",
    "dict_2 = {'var_1_rand':var_1_rand,'var_2_rand':var_2_rand,'var_3_rand':var_3_rand}\n",
    "m_l_2=pd.DataFrame(dict_2)"
   ]
  },
  {
   "cell_type": "code",
   "execution_count": null,
   "metadata": {},
   "outputs": [],
   "source": [
    "m_l_3 = pd.concat([m_l,m_l_2], axis=1)"
   ]
  },
  {
   "cell_type": "code",
   "execution_count": null,
   "metadata": {},
   "outputs": [],
   "source": [
    "m_l_3.head()"
   ]
  },
  {
   "cell_type": "code",
   "execution_count": null,
   "metadata": {},
   "outputs": [],
   "source": [
    "m_l_3['new_var_1'] = m_l_3.var_1 + m_l_3.var_1_rand\n",
    "m_l_3['new_var_2'] = m_l_3.var_2 + m_l_3.var_2_rand\n",
    "m_l_3['new_var_3'] = m_l_3.var_3 + m_l_3.var_3_rand"
   ]
  },
  {
   "cell_type": "code",
   "execution_count": null,
   "metadata": {},
   "outputs": [],
   "source": [
    "m_l_3.sample(8)"
   ]
  },
  {
   "cell_type": "code",
   "execution_count": null,
   "metadata": {},
   "outputs": [],
   "source": [
    "plt.scatter(m_l_3['solution'],m_l_3['new_solution'],c='red')\n",
    "plt.scatter(m_l_3['solution'],m_l_3['new_var_1'],c='green')\n",
    "#plt.scatter(m_l['solution'],m_l['var_2'],c='orange')\n",
    "plt.scatter(m_l_3['solution'],m_l_3['new_var_3'],c='blue')"
   ]
  },
  {
   "cell_type": "code",
   "execution_count": null,
   "metadata": {},
   "outputs": [],
   "source": [
    "var_1 = 1.6*m_l_3['new_var_1']\n",
    "var_2 = .03*m_l_3['new_var_2']\n",
    "var_3 = 1.8*m_l_3['new_var_3']\n",
    "m_l_3['final_results'] = var_1 + var_2 + var_3         "
   ]
  },
  {
   "cell_type": "code",
   "execution_count": null,
   "metadata": {},
   "outputs": [],
   "source": [
    "m_l_3.head()"
   ]
  },
  {
   "cell_type": "code",
   "execution_count": null,
   "metadata": {},
   "outputs": [],
   "source": [
    "plt.scatter(m_l_3['solution'],m_l_3['final_results'])"
   ]
  },
  {
   "cell_type": "code",
   "execution_count": null,
   "metadata": {},
   "outputs": [],
   "source": [
    "df_raw = m_l_3.loc[m_l_3['removal_odds']==1]"
   ]
  },
  {
   "cell_type": "code",
   "execution_count": null,
   "metadata": {},
   "outputs": [],
   "source": [
    "plt.scatter(df_raw['solution'],df_raw['final_results'])"
   ]
  },
  {
   "cell_type": "code",
   "execution_count": null,
   "metadata": {},
   "outputs": [],
   "source": []
  }
 ],
 "metadata": {
  "kernelspec": {
   "display_name": "Python 3",
   "language": "python",
   "name": "python3"
  },
  "language_info": {
   "codemirror_mode": {
    "name": "ipython",
    "version": 3
   },
   "file_extension": ".py",
   "mimetype": "text/x-python",
   "name": "python",
   "nbconvert_exporter": "python",
   "pygments_lexer": "ipython3",
   "version": "3.8.3"
  }
 },
 "nbformat": 4,
 "nbformat_minor": 4
}
