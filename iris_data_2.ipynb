{
 "cells": [
  {
   "cell_type": "code",
   "execution_count": 1,
   "metadata": {},
   "outputs": [],
   "source": [
    "#Import libraries\n",
    "import random\n",
    "import pandas as pd\n",
    "import matplotlib.pyplot as plt"
   ]
  },
  {
   "cell_type": "code",
   "execution_count": 2,
   "metadata": {},
   "outputs": [],
   "source": [
    "#Setting the variables for my initial data\n",
    "mean = .5\n",
    "std = mean/6\n",
    "datapoints = 20000"
   ]
  },
  {
   "cell_type": "code",
   "execution_count": 3,
   "metadata": {},
   "outputs": [],
   "source": [
    "#Function to get a list with a gaussian distribution\n",
    "def get_gaussian_dist(mean,std,datapoints):\n",
    "    gauss_lst = []\n",
    "    while len(gauss_lst) < datapoints:\n",
    "        sample = random.gauss(mean, std)\n",
    "        if sample >= 0 and sample <= 1:\n",
    "            gauss_lst.append(sample)\n",
    "    return gauss_lst    \n",
    "\n",
    "#Function to calculate the multiplier for water based on 3 regions\n",
    "def get_waterfall(datapoints):\n",
    "    pop = [-.02,0,.02]\n",
    "    wei = [3,3,3]    \n",
    "    lst = []\n",
    "    for points in range(datapoints):\n",
    "        multi = random.choices(pop,wei,k=1)\n",
    "        lst.append(multi[0])\n",
    "    return(lst)"
   ]
  },
  {
   "cell_type": "code",
   "execution_count": 4,
   "metadata": {},
   "outputs": [],
   "source": [
    "def make_dataframe(mean,std,datapoints,plant,base,multi):\n",
    "    gauss_1 = get_gaussian_dist(mean,std,datapoints)\n",
    "    gauss_2 = get_gaussian_dist(mean,std,datapoints)\n",
    "    gauss_3 = get_gaussian_dist(mean,std,datapoints)\n",
    "    gauss_4 = get_gaussian_dist(mean,std,datapoints)\n",
    "    water_1 = get_waterfall(datapoints)\n",
    "    water_2 = get_waterfall(datapoints)\n",
    "    dict = {'Base_gauss_1':gauss_1,'Sun_gauss_1':gauss_2,'Base_gauss_2':gauss_3,'Sun_gauss_2':gauss_4,\n",
    "            'Water_multi_1':water_1,'Water_multi_2':water_2}\n",
    "    df=pd.DataFrame(dict)\n",
    "    df['var_1'] = (((df['Base_gauss_1'] * multi) + base) + df['Sun_gauss_1']) * (df['Water_multi_1'] + 1)\n",
    "    df['var_2'] = (((df['Base_gauss_2'] * multi) + base) + df['Sun_gauss_2']) * (df['Water_multi_2'] + 1)\n",
    "    df['plant_type'] = plant\n",
    "    return(df)"
   ]
  },
  {
   "cell_type": "code",
   "execution_count": 5,
   "metadata": {},
   "outputs": [],
   "source": [
    "plant_1 = make_dataframe(mean,std,datapoints,'plant_1',9.9,1)\n",
    "plant_2 = make_dataframe(mean,std,datapoints,'plant_2',10.1,1)\n",
    "plant_3 = make_dataframe(mean,std,datapoints,'plant_3',9.8,1.4)"
   ]
  },
  {
   "cell_type": "code",
   "execution_count": 6,
   "metadata": {},
   "outputs": [],
   "source": [
    "fake_iris = pd.concat([plant_1,plant_2,plant_3])"
   ]
  },
  {
   "cell_type": "code",
   "execution_count": 7,
   "metadata": {},
   "outputs": [
    {
     "data": {
      "text/html": [
       "<div>\n",
       "<style scoped>\n",
       "    .dataframe tbody tr th:only-of-type {\n",
       "        vertical-align: middle;\n",
       "    }\n",
       "\n",
       "    .dataframe tbody tr th {\n",
       "        vertical-align: top;\n",
       "    }\n",
       "\n",
       "    .dataframe thead th {\n",
       "        text-align: right;\n",
       "    }\n",
       "</style>\n",
       "<table border=\"1\" class=\"dataframe\">\n",
       "  <thead>\n",
       "    <tr style=\"text-align: right;\">\n",
       "      <th></th>\n",
       "      <th>Base_gauss_1</th>\n",
       "      <th>Sun_gauss_1</th>\n",
       "      <th>Base_gauss_2</th>\n",
       "      <th>Sun_gauss_2</th>\n",
       "      <th>Water_multi_1</th>\n",
       "      <th>Water_multi_2</th>\n",
       "      <th>var_1</th>\n",
       "      <th>var_2</th>\n",
       "      <th>plant_type</th>\n",
       "    </tr>\n",
       "  </thead>\n",
       "  <tbody>\n",
       "    <tr>\n",
       "      <th>15936</th>\n",
       "      <td>0.395124</td>\n",
       "      <td>0.484125</td>\n",
       "      <td>0.604513</td>\n",
       "      <td>0.550948</td>\n",
       "      <td>0.02</td>\n",
       "      <td>0.00</td>\n",
       "      <td>11.198834</td>\n",
       "      <td>11.255461</td>\n",
       "      <td>plant_2</td>\n",
       "    </tr>\n",
       "    <tr>\n",
       "      <th>18607</th>\n",
       "      <td>0.604550</td>\n",
       "      <td>0.612786</td>\n",
       "      <td>0.585795</td>\n",
       "      <td>0.305896</td>\n",
       "      <td>0.02</td>\n",
       "      <td>0.00</td>\n",
       "      <td>11.339682</td>\n",
       "      <td>10.791691</td>\n",
       "      <td>plant_1</td>\n",
       "    </tr>\n",
       "    <tr>\n",
       "      <th>17373</th>\n",
       "      <td>0.424946</td>\n",
       "      <td>0.615534</td>\n",
       "      <td>0.421440</td>\n",
       "      <td>0.367521</td>\n",
       "      <td>0.02</td>\n",
       "      <td>-0.02</td>\n",
       "      <td>11.159290</td>\n",
       "      <td>10.475182</td>\n",
       "      <td>plant_1</td>\n",
       "    </tr>\n",
       "    <tr>\n",
       "      <th>15389</th>\n",
       "      <td>0.582242</td>\n",
       "      <td>0.530683</td>\n",
       "      <td>0.514076</td>\n",
       "      <td>0.519660</td>\n",
       "      <td>0.00</td>\n",
       "      <td>0.00</td>\n",
       "      <td>11.212925</td>\n",
       "      <td>11.133735</td>\n",
       "      <td>plant_2</td>\n",
       "    </tr>\n",
       "    <tr>\n",
       "      <th>19127</th>\n",
       "      <td>0.560389</td>\n",
       "      <td>0.582714</td>\n",
       "      <td>0.482259</td>\n",
       "      <td>0.461741</td>\n",
       "      <td>-0.02</td>\n",
       "      <td>0.00</td>\n",
       "      <td>11.018241</td>\n",
       "      <td>11.044000</td>\n",
       "      <td>plant_2</td>\n",
       "    </tr>\n",
       "    <tr>\n",
       "      <th>17935</th>\n",
       "      <td>0.345111</td>\n",
       "      <td>0.512624</td>\n",
       "      <td>0.427216</td>\n",
       "      <td>0.503947</td>\n",
       "      <td>0.02</td>\n",
       "      <td>0.00</td>\n",
       "      <td>11.176890</td>\n",
       "      <td>11.031163</td>\n",
       "      <td>plant_2</td>\n",
       "    </tr>\n",
       "    <tr>\n",
       "      <th>537</th>\n",
       "      <td>0.472772</td>\n",
       "      <td>0.364713</td>\n",
       "      <td>0.727126</td>\n",
       "      <td>0.712170</td>\n",
       "      <td>-0.02</td>\n",
       "      <td>0.00</td>\n",
       "      <td>10.718735</td>\n",
       "      <td>11.539295</td>\n",
       "      <td>plant_2</td>\n",
       "    </tr>\n",
       "    <tr>\n",
       "      <th>1729</th>\n",
       "      <td>0.314419</td>\n",
       "      <td>0.416602</td>\n",
       "      <td>0.429011</td>\n",
       "      <td>0.473309</td>\n",
       "      <td>0.00</td>\n",
       "      <td>0.00</td>\n",
       "      <td>10.831021</td>\n",
       "      <td>11.002320</td>\n",
       "      <td>plant_2</td>\n",
       "    </tr>\n",
       "    <tr>\n",
       "      <th>14005</th>\n",
       "      <td>0.394987</td>\n",
       "      <td>0.503552</td>\n",
       "      <td>0.526564</td>\n",
       "      <td>0.465583</td>\n",
       "      <td>0.02</td>\n",
       "      <td>0.02</td>\n",
       "      <td>11.073665</td>\n",
       "      <td>11.222828</td>\n",
       "      <td>plant_3</td>\n",
       "    </tr>\n",
       "    <tr>\n",
       "      <th>17898</th>\n",
       "      <td>0.477388</td>\n",
       "      <td>0.461221</td>\n",
       "      <td>0.542962</td>\n",
       "      <td>0.526038</td>\n",
       "      <td>0.00</td>\n",
       "      <td>0.00</td>\n",
       "      <td>10.838609</td>\n",
       "      <td>10.969000</td>\n",
       "      <td>plant_1</td>\n",
       "    </tr>\n",
       "  </tbody>\n",
       "</table>\n",
       "</div>"
      ],
      "text/plain": [
       "       Base_gauss_1  Sun_gauss_1  Base_gauss_2  Sun_gauss_2  Water_multi_1  \\\n",
       "15936      0.395124     0.484125      0.604513     0.550948           0.02   \n",
       "18607      0.604550     0.612786      0.585795     0.305896           0.02   \n",
       "17373      0.424946     0.615534      0.421440     0.367521           0.02   \n",
       "15389      0.582242     0.530683      0.514076     0.519660           0.00   \n",
       "19127      0.560389     0.582714      0.482259     0.461741          -0.02   \n",
       "17935      0.345111     0.512624      0.427216     0.503947           0.02   \n",
       "537        0.472772     0.364713      0.727126     0.712170          -0.02   \n",
       "1729       0.314419     0.416602      0.429011     0.473309           0.00   \n",
       "14005      0.394987     0.503552      0.526564     0.465583           0.02   \n",
       "17898      0.477388     0.461221      0.542962     0.526038           0.00   \n",
       "\n",
       "       Water_multi_2      var_1      var_2 plant_type  \n",
       "15936           0.00  11.198834  11.255461    plant_2  \n",
       "18607           0.00  11.339682  10.791691    plant_1  \n",
       "17373          -0.02  11.159290  10.475182    plant_1  \n",
       "15389           0.00  11.212925  11.133735    plant_2  \n",
       "19127           0.00  11.018241  11.044000    plant_2  \n",
       "17935           0.00  11.176890  11.031163    plant_2  \n",
       "537             0.00  10.718735  11.539295    plant_2  \n",
       "1729            0.00  10.831021  11.002320    plant_2  \n",
       "14005           0.02  11.073665  11.222828    plant_3  \n",
       "17898           0.00  10.838609  10.969000    plant_1  "
      ]
     },
     "execution_count": 7,
     "metadata": {},
     "output_type": "execute_result"
    }
   ],
   "source": [
    "fake_iris.sample(10)"
   ]
  },
  {
   "cell_type": "code",
   "execution_count": 8,
   "metadata": {},
   "outputs": [
    {
     "data": {
      "image/png": "[encoded data removed]",
      "text/plain": [
       "<Figure size 432x288 with 1 Axes>"
      ]
     },
     "metadata": {
      "needs_background": "light"
     },
     "output_type": "display_data"
    }
   ],
   "source": [
    "plt.hist(plant_1['var_1'], bins = 50, color='blue',alpha=.5);\n",
    "plt.hist(plant_2['var_1'], bins = 50, color='orange',alpha=.5);\n",
    "plt.hist(plant_3['var_1'], bins = 50, color='green',alpha=.5);"
   ]
  },
  {
   "cell_type": "code",
   "execution_count": 9,
   "metadata": {},
   "outputs": [
    {
     "data": {
      "image/png": "[encoded data removed]",
      "text/plain": [
       "<Figure size 432x288 with 1 Axes>"
      ]
     },
     "metadata": {
      "needs_background": "light"
     },
     "output_type": "display_data"
    }
   ],
   "source": [
    "plt.hist(plant_1['var_2'], bins = 50, color='blue',alpha=.5);\n",
    "plt.hist(plant_2['var_2'], bins = 50, color='orange',alpha=.5);\n",
    "plt.hist(plant_3['var_2'], bins = 50, color='green',alpha=.5);"
   ]
  },
  {
   "cell_type": "code",
   "execution_count": 10,
   "metadata": {},
   "outputs": [
    {
     "data": {
      "text/html": [
       "<div>\n",
       "<style scoped>\n",
       "    .dataframe tbody tr th:only-of-type {\n",
       "        vertical-align: middle;\n",
       "    }\n",
       "\n",
       "    .dataframe tbody tr th {\n",
       "        vertical-align: top;\n",
       "    }\n",
       "\n",
       "    .dataframe thead th {\n",
       "        text-align: right;\n",
       "    }\n",
       "</style>\n",
       "<table border=\"1\" class=\"dataframe\">\n",
       "  <thead>\n",
       "    <tr style=\"text-align: right;\">\n",
       "      <th></th>\n",
       "      <th>Base_gauss_1</th>\n",
       "      <th>Sun_gauss_1</th>\n",
       "      <th>Base_gauss_2</th>\n",
       "      <th>Sun_gauss_2</th>\n",
       "      <th>Water_multi_1</th>\n",
       "      <th>Water_multi_2</th>\n",
       "      <th>var_1</th>\n",
       "      <th>var_2</th>\n",
       "      <th>plant_type</th>\n",
       "    </tr>\n",
       "  </thead>\n",
       "  <tbody>\n",
       "    <tr>\n",
       "      <th>10575</th>\n",
       "      <td>0.369327</td>\n",
       "      <td>0.528410</td>\n",
       "      <td>0.384426</td>\n",
       "      <td>0.441124</td>\n",
       "      <td>0.00</td>\n",
       "      <td>0.00</td>\n",
       "      <td>10.845468</td>\n",
       "      <td>10.779320</td>\n",
       "      <td>plant_3</td>\n",
       "    </tr>\n",
       "    <tr>\n",
       "      <th>12891</th>\n",
       "      <td>0.547999</td>\n",
       "      <td>0.441020</td>\n",
       "      <td>0.475791</td>\n",
       "      <td>0.471009</td>\n",
       "      <td>0.00</td>\n",
       "      <td>0.02</td>\n",
       "      <td>10.889019</td>\n",
       "      <td>11.063737</td>\n",
       "      <td>plant_1</td>\n",
       "    </tr>\n",
       "    <tr>\n",
       "      <th>14539</th>\n",
       "      <td>0.641536</td>\n",
       "      <td>0.645518</td>\n",
       "      <td>0.368575</td>\n",
       "      <td>0.579801</td>\n",
       "      <td>0.00</td>\n",
       "      <td>-0.02</td>\n",
       "      <td>11.387054</td>\n",
       "      <td>10.827408</td>\n",
       "      <td>plant_2</td>\n",
       "    </tr>\n",
       "    <tr>\n",
       "      <th>7930</th>\n",
       "      <td>0.498434</td>\n",
       "      <td>0.528499</td>\n",
       "      <td>0.437226</td>\n",
       "      <td>0.648530</td>\n",
       "      <td>0.00</td>\n",
       "      <td>0.00</td>\n",
       "      <td>11.026306</td>\n",
       "      <td>11.060647</td>\n",
       "      <td>plant_3</td>\n",
       "    </tr>\n",
       "    <tr>\n",
       "      <th>12923</th>\n",
       "      <td>0.441506</td>\n",
       "      <td>0.382432</td>\n",
       "      <td>0.545826</td>\n",
       "      <td>0.637818</td>\n",
       "      <td>0.02</td>\n",
       "      <td>0.02</td>\n",
       "      <td>11.016551</td>\n",
       "      <td>11.426014</td>\n",
       "      <td>plant_3</td>\n",
       "    </tr>\n",
       "  </tbody>\n",
       "</table>\n",
       "</div>"
      ],
      "text/plain": [
       "       Base_gauss_1  Sun_gauss_1  Base_gauss_2  Sun_gauss_2  Water_multi_1  \\\n",
       "10575      0.369327     0.528410      0.384426     0.441124           0.00   \n",
       "12891      0.547999     0.441020      0.475791     0.471009           0.00   \n",
       "14539      0.641536     0.645518      0.368575     0.579801           0.00   \n",
       "7930       0.498434     0.528499      0.437226     0.648530           0.00   \n",
       "12923      0.441506     0.382432      0.545826     0.637818           0.02   \n",
       "\n",
       "       Water_multi_2      var_1      var_2 plant_type  \n",
       "10575           0.00  10.845468  10.779320    plant_3  \n",
       "12891           0.02  10.889019  11.063737    plant_1  \n",
       "14539          -0.02  11.387054  10.827408    plant_2  \n",
       "7930            0.00  11.026306  11.060647    plant_3  \n",
       "12923           0.02  11.016551  11.426014    plant_3  "
      ]
     },
     "execution_count": 10,
     "metadata": {},
     "output_type": "execute_result"
    }
   ],
   "source": [
    "fake_iris.sample(5)"
   ]
  },
  {
   "cell_type": "code",
   "execution_count": 15,
   "metadata": {},
   "outputs": [],
   "source": [
    "test_df = fake_iris[['var_1','var_2','plant_type']].copy()"
   ]
  },
  {
   "cell_type": "code",
   "execution_count": 16,
   "metadata": {},
   "outputs": [
    {
     "data": {
      "text/html": [
       "<div>\n",
       "<style scoped>\n",
       "    .dataframe tbody tr th:only-of-type {\n",
       "        vertical-align: middle;\n",
       "    }\n",
       "\n",
       "    .dataframe tbody tr th {\n",
       "        vertical-align: top;\n",
       "    }\n",
       "\n",
       "    .dataframe thead th {\n",
       "        text-align: right;\n",
       "    }\n",
       "</style>\n",
       "<table border=\"1\" class=\"dataframe\">\n",
       "  <thead>\n",
       "    <tr style=\"text-align: right;\">\n",
       "      <th></th>\n",
       "      <th>var_1</th>\n",
       "      <th>var_2</th>\n",
       "      <th>plant_type</th>\n",
       "    </tr>\n",
       "  </thead>\n",
       "  <tbody>\n",
       "    <tr>\n",
       "      <th>9474</th>\n",
       "      <td>10.583706</td>\n",
       "      <td>10.903356</td>\n",
       "      <td>plant_1</td>\n",
       "    </tr>\n",
       "    <tr>\n",
       "      <th>12993</th>\n",
       "      <td>11.083627</td>\n",
       "      <td>11.011201</td>\n",
       "      <td>plant_2</td>\n",
       "    </tr>\n",
       "    <tr>\n",
       "      <th>13676</th>\n",
       "      <td>10.849023</td>\n",
       "      <td>10.894505</td>\n",
       "      <td>plant_1</td>\n",
       "    </tr>\n",
       "    <tr>\n",
       "      <th>4782</th>\n",
       "      <td>10.881528</td>\n",
       "      <td>11.482289</td>\n",
       "      <td>plant_2</td>\n",
       "    </tr>\n",
       "    <tr>\n",
       "      <th>3919</th>\n",
       "      <td>11.074500</td>\n",
       "      <td>11.205095</td>\n",
       "      <td>plant_3</td>\n",
       "    </tr>\n",
       "  </tbody>\n",
       "</table>\n",
       "</div>"
      ],
      "text/plain": [
       "           var_1      var_2 plant_type\n",
       "9474   10.583706  10.903356    plant_1\n",
       "12993  11.083627  11.011201    plant_2\n",
       "13676  10.849023  10.894505    plant_1\n",
       "4782   10.881528  11.482289    plant_2\n",
       "3919   11.074500  11.205095    plant_3"
      ]
     },
     "execution_count": 16,
     "metadata": {},
     "output_type": "execute_result"
    }
   ],
   "source": [
    "test_df.sample(5)"
   ]
  },
  {
   "cell_type": "code",
   "execution_count": 17,
   "metadata": {},
   "outputs": [],
   "source": [
    "X = test_df.iloc[:,:-1].values\n",
    "y = test_df.iloc[:,-1].values"
   ]
  },
  {
   "cell_type": "code",
   "execution_count": 18,
   "metadata": {},
   "outputs": [],
   "source": [
    "from sklearn.model_selection import train_test_split\n",
    "X_train, X_test, y_train, y_test = train_test_split(X, y, test_size=0.25, random_state=101)"
   ]
  },
  {
   "cell_type": "code",
   "execution_count": 19,
   "metadata": {},
   "outputs": [],
   "source": [
    "from sklearn.ensemble import RandomForestClassifier\n",
    "rfc = RandomForestClassifier(n_estimators=10, criterion = 'entropy', random_state = 0)\n",
    "rfc.fit(X_train,y_train)\n",
    "y_pred = rfc.predict(X_test)"
   ]
  },
  {
   "cell_type": "code",
   "execution_count": 20,
   "metadata": {},
   "outputs": [
    {
     "name": "stdout",
     "output_type": "stream",
     "text": [
      "[[2705  980 1325]\n",
      " [1089 2554 1353]\n",
      " [1850 1673 1471]]\n"
     ]
    },
    {
     "data": {
      "text/plain": [
       "0.44866666666666666"
      ]
     },
     "execution_count": 20,
     "metadata": {},
     "output_type": "execute_result"
    }
   ],
   "source": [
    "from sklearn.metrics import confusion_matrix, accuracy_score\n",
    "cm = confusion_matrix(y_test, y_pred)\n",
    "print(cm)\n",
    "accuracy_score(y_test, y_pred)"
   ]
  },
  {
   "cell_type": "code",
   "execution_count": 21,
   "metadata": {},
   "outputs": [],
   "source": [
    "from sklearn.preprocessing import StandardScaler\n",
    "sc = StandardScaler()\n",
    "X_train = sc.fit_transform(X_train)\n",
    "X_test = sc.transform(X_test)"
   ]
  },
  {
   "cell_type": "code",
   "execution_count": 22,
   "metadata": {},
   "outputs": [],
   "source": [
    "from sklearn.linear_model import LogisticRegression\n",
    "log_cla = LogisticRegression(random_state = 0)\n",
    "log_cla.fit(X_train, y_train)\n",
    "log_pred = log_cla.predict(X_test)"
   ]
  },
  {
   "cell_type": "code",
   "execution_count": 23,
   "metadata": {},
   "outputs": [
    {
     "name": "stdout",
     "output_type": "stream",
     "text": [
      "[[3174  780 1056]\n",
      " [ 855 3105 1036]\n",
      " [1886 1930 1178]]\n"
     ]
    },
    {
     "data": {
      "text/plain": [
       "0.4971333333333333"
      ]
     },
     "execution_count": 23,
     "metadata": {},
     "output_type": "execute_result"
    }
   ],
   "source": [
    "from sklearn.metrics import confusion_matrix, accuracy_score\n",
    "cm = confusion_matrix(y_test, log_pred)\n",
    "print(cm)\n",
    "accuracy_score(y_test, log_pred)"
   ]
  },
  {
   "cell_type": "code",
   "execution_count": null,
   "metadata": {
    "scrolled": true
   },
   "outputs": [],
   "source": []
  },
  {
   "cell_type": "code",
   "execution_count": null,
   "metadata": {},
   "outputs": [],
   "source": []
  },
  {
   "cell_type": "code",
   "execution_count": null,
   "metadata": {},
   "outputs": [],
   "source": []
  },
  {
   "cell_type": "code",
   "execution_count": null,
   "metadata": {},
   "outputs": [],
   "source": []
  }
 ],
 "metadata": {
  "kernelspec": {
   "display_name": "Python 3",
   "language": "python",
   "name": "python3"
  },
  "language_info": {
   "codemirror_mode": {
    "name": "ipython",
    "version": 3
   },
   "file_extension": ".py",
   "mimetype": "text/x-python",
   "name": "python",
   "nbconvert_exporter": "python",
   "pygments_lexer": "ipython3",
   "version": "3.8.3"
  }
 },
 "nbformat": 4,
 "nbformat_minor": 4
}
