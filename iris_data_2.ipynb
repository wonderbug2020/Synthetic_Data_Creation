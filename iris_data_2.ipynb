{
 "cells": [
  {
   "cell_type": "code",
   "execution_count": 1,
   "metadata": {},
   "outputs": [],
   "source": [
    "#Import libraries\n",
    "import random\n",
    "import pandas as pd\n",
    "import matplotlib.pyplot as plt"
   ]
  },
  {
   "cell_type": "code",
   "execution_count": 2,
   "metadata": {},
   "outputs": [],
   "source": [
    "#Setting the variables for my initial data\n",
    "mean = .5\n",
    "std = mean/6\n",
    "datapoints = 20000"
   ]
  },
  {
   "cell_type": "code",
   "execution_count": 3,
   "metadata": {},
   "outputs": [],
   "source": [
    "#Function to get a list with a gaussian distribution\n",
    "def get_gaussian_dist(mean,std,datapoints):\n",
    "    gauss_lst = []\n",
    "    while len(gauss_lst) < datapoints:\n",
    "        sample = random.gauss(mean, std)\n",
    "        if sample >= 0 and sample <= 1:\n",
    "            gauss_lst.append(sample)\n",
    "    return gauss_lst    \n",
    "\n",
    "#Function to calculate the multiplier for water based on 3 regions\n",
    "def get_waterfall(datapoints):\n",
    "    pop = [-.02,0,.02]\n",
    "    wei = [3,3,3]    \n",
    "    lst = []\n",
    "    for points in range(datapoints):\n",
    "        multi = random.choices(pop,wei,k=1)\n",
    "        lst.append(multi[0])\n",
    "    return(lst)"
   ]
  },
  {
   "cell_type": "code",
   "execution_count": 5,
   "metadata": {},
   "outputs": [],
   "source": [
    "def make_dataframe(mean,std,datapoints,var):\n",
    "    gauss_1 = get_gaussian_dist(mean,std,datapoints)\n",
    "    gauss_2 = get_gaussian_dist(mean,std,datapoints)\n",
    "    water = get_waterfall(datapoints)\n",
    "    dict = {'Base_Gauss':gauss_1,'Sun_gauss':gauss_2,'Water_multi':water}\n",
    "    df=pd.DataFrame(dict)\n",
    "    df['plant_type'] = var\n",
    "    return(df)"
   ]
  },
  {
   "cell_type": "code",
   "execution_count": 6,
   "metadata": {},
   "outputs": [],
   "source": []
  },
  {
   "cell_type": "code",
   "execution_count": null,
   "metadata": {},
   "outputs": [],
   "source": [
    "plant_1 = make_dataframe(mean,std,datapoints,'plant_1')"
   ]
  },
  {
   "cell_type": "code",
   "execution_count": 7,
   "metadata": {},
   "outputs": [
    {
     "data": {
      "text/html": [
       "<div>\n",
       "<style scoped>\n",
       "    .dataframe tbody tr th:only-of-type {\n",
       "        vertical-align: middle;\n",
       "    }\n",
       "\n",
       "    .dataframe tbody tr th {\n",
       "        vertical-align: top;\n",
       "    }\n",
       "\n",
       "    .dataframe thead th {\n",
       "        text-align: right;\n",
       "    }\n",
       "</style>\n",
       "<table border=\"1\" class=\"dataframe\">\n",
       "  <thead>\n",
       "    <tr style=\"text-align: right;\">\n",
       "      <th></th>\n",
       "      <th>Base_Gauss</th>\n",
       "      <th>Sun_gauss</th>\n",
       "      <th>Water_multi</th>\n",
       "      <th>plant_type</th>\n",
       "    </tr>\n",
       "  </thead>\n",
       "  <tbody>\n",
       "    <tr>\n",
       "      <th>19078</th>\n",
       "      <td>0.559917</td>\n",
       "      <td>0.727164</td>\n",
       "      <td>0.02</td>\n",
       "      <td>plant_1</td>\n",
       "    </tr>\n",
       "    <tr>\n",
       "      <th>1066</th>\n",
       "      <td>0.513039</td>\n",
       "      <td>0.576531</td>\n",
       "      <td>-0.02</td>\n",
       "      <td>plant_1</td>\n",
       "    </tr>\n",
       "    <tr>\n",
       "      <th>9519</th>\n",
       "      <td>0.437351</td>\n",
       "      <td>0.556809</td>\n",
       "      <td>0.02</td>\n",
       "      <td>plant_1</td>\n",
       "    </tr>\n",
       "    <tr>\n",
       "      <th>1057</th>\n",
       "      <td>0.506574</td>\n",
       "      <td>0.549803</td>\n",
       "      <td>0.00</td>\n",
       "      <td>plant_1</td>\n",
       "    </tr>\n",
       "    <tr>\n",
       "      <th>1895</th>\n",
       "      <td>0.484484</td>\n",
       "      <td>0.465622</td>\n",
       "      <td>0.02</td>\n",
       "      <td>plant_1</td>\n",
       "    </tr>\n",
       "  </tbody>\n",
       "</table>\n",
       "</div>"
      ],
      "text/plain": [
       "       Base_Gauss  Sun_gauss  Water_multi plant_type\n",
       "19078    0.559917   0.727164         0.02    plant_1\n",
       "1066     0.513039   0.576531        -0.02    plant_1\n",
       "9519     0.437351   0.556809         0.02    plant_1\n",
       "1057     0.506574   0.549803         0.00    plant_1\n",
       "1895     0.484484   0.465622         0.02    plant_1"
      ]
     },
     "execution_count": 7,
     "metadata": {},
     "output_type": "execute_result"
    }
   ],
   "source": [
    "plant_1.sample(5)"
   ]
  },
  {
   "cell_type": "code",
   "execution_count": 30,
   "metadata": {},
   "outputs": [],
   "source": [
    "gauss_1 = get_gaussian_dist(mean,std,datapoints)\n",
    "gauss_2 = get_gaussian_dist(mean,std,datapoints)\n",
    "water = get_waterfall(datapoints)\n",
    "\n",
    "dict = {'Base_Gauss':gauss_1,'Sun_gauss':gauss_2,'Water_multi':water}\n",
    "fake_iris=pd.DataFrame(dict)"
   ]
  },
  {
   "cell_type": "code",
   "execution_count": null,
   "metadata": {},
   "outputs": [],
   "source": [
    "fake_iris.sample(5)"
   ]
  },
  {
   "cell_type": "code",
   "execution_count": 31,
   "metadata": {},
   "outputs": [],
   "source": [
    "fake_iris['water_1_base'] = fake_iris['Water_multi'] + 1\n",
    "fake_iris['water_2_base'] = fake_iris['Water_multi'] + 1\n",
    "fake_iris['water_3_base'] = fake_iris['Water_multi'] + 1"
   ]
  },
  {
   "cell_type": "code",
   "execution_count": 32,
   "metadata": {},
   "outputs": [],
   "source": [
    "fake_iris['plant_1_base'] = fake_iris['Base_Gauss'] + 9.9\n",
    "fake_iris['plant_2_base'] = fake_iris['Base_Gauss'] + 10.1\n",
    "fake_iris['plant_3_base'] = (fake_iris['Base_Gauss'] * 1.4) + 9.8"
   ]
  },
  {
   "cell_type": "code",
   "execution_count": 33,
   "metadata": {},
   "outputs": [],
   "source": [
    "fake_iris['var_1'] = (fake_iris['plant_1_base'] + fake_iris['Sun_gauss']) * fake_iris['water_1_base']\n",
    "fake_iris['var_2'] = (fake_iris['plant_2_base'] + fake_iris['Sun_gauss']) * fake_iris['water_2_base']\n",
    "fake_iris['var_3'] = (fake_iris['plant_3_base'] + fake_iris['Sun_gauss']) * fake_iris['water_3_base']"
   ]
  },
  {
   "cell_type": "code",
   "execution_count": null,
   "metadata": {},
   "outputs": [],
   "source": [
    "fake_iris.sample(5)"
   ]
  },
  {
   "cell_type": "code",
   "execution_count": 34,
   "metadata": {},
   "outputs": [
    {
     "data": {
      "image/png": "[encoded data removed]",
      "text/plain": [
       "<Figure size 432x288 with 1 Axes>"
      ]
     },
     "metadata": {
      "needs_background": "light"
     },
     "output_type": "display_data"
    }
   ],
   "source": [
    "plt.hist(fake_iris['plant_1_base'], bins = 50, color='blue',alpha=.5);\n",
    "plt.hist(fake_iris['plant_2_base'], bins = 50, color='orange',alpha=.5);\n",
    "plt.hist(fake_iris['plant_3_base'], bins = 50, color='green',alpha=.5);"
   ]
  },
  {
   "cell_type": "code",
   "execution_count": 36,
   "metadata": {},
   "outputs": [
    {
     "data": {
      "image/png": "[encoded data removed]",
      "text/plain": [
       "<Figure size 432x288 with 1 Axes>"
      ]
     },
     "metadata": {
      "needs_background": "light"
     },
     "output_type": "display_data"
    }
   ],
   "source": [
    "plt.hist(fake_iris['var_1'], bins = 50, color='blue',alpha=.5);\n",
    "plt.hist(fake_iris['var_2'], bins = 50, color='orange',alpha=.5);\n",
    "plt.hist(fake_iris['var_3'], bins = 50, color='green',alpha=.5);"
   ]
  },
  {
   "cell_type": "code",
   "execution_count": null,
   "metadata": {},
   "outputs": [],
   "source": []
  },
  {
   "cell_type": "code",
   "execution_count": null,
   "metadata": {
    "scrolled": true
   },
   "outputs": [],
   "source": []
  },
  {
   "cell_type": "code",
   "execution_count": null,
   "metadata": {},
   "outputs": [],
   "source": []
  },
  {
   "cell_type": "code",
   "execution_count": null,
   "metadata": {},
   "outputs": [],
   "source": []
  },
  {
   "cell_type": "code",
   "execution_count": null,
   "metadata": {},
   "outputs": [],
   "source": []
  }
 ],
 "metadata": {
  "kernelspec": {
   "display_name": "Python 3",
   "language": "python",
   "name": "python3"
  },
  "language_info": {
   "codemirror_mode": {
    "name": "ipython",
    "version": 3
   },
   "file_extension": ".py",
   "mimetype": "text/x-python",
   "name": "python",
   "nbconvert_exporter": "python",
   "pygments_lexer": "ipython3",
   "version": "3.8.3"
  }
 },
 "nbformat": 4,
 "nbformat_minor": 4
}
