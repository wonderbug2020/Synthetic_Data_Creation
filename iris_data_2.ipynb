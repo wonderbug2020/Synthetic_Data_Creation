{
 "cells": [
  {
   "cell_type": "code",
   "execution_count": 1,
   "metadata": {},
   "outputs": [],
   "source": [
    "#Import libraries\n",
    "import random\n",
    "import pandas as pd\n",
    "import matplotlib.pyplot as plt"
   ]
  },
  {
   "cell_type": "code",
   "execution_count": 2,
   "metadata": {},
   "outputs": [],
   "source": [
    "#Setting the variables for my initial data\n",
    "mean = .5\n",
    "std = mean/6\n",
    "datapoints = 20000"
   ]
  },
  {
   "cell_type": "code",
   "execution_count": 3,
   "metadata": {},
   "outputs": [],
   "source": [
    "#Function to get a list with a gaussian distribution\n",
    "def get_gaussian_dist(mean,std,datapoints):\n",
    "    gauss_lst = []\n",
    "    while len(gauss_lst) < datapoints:\n",
    "        sample = random.gauss(mean, std)\n",
    "        if sample >= 0 and sample <= 1:\n",
    "            gauss_lst.append(sample)\n",
    "    return gauss_lst    \n",
    "\n",
    "#Function to calculate the multiplier for water based on 3 regions\n",
    "def get_waterfall(datapoints):\n",
    "    pop = [-.1,0,.1]\n",
    "    wei = [3,3,3]    \n",
    "    lst = []\n",
    "    for points in range(datapoints):\n",
    "        multi = random.choices(pop,wei,k=1)\n",
    "        lst.append(multi[0])\n",
    "    return(lst)"
   ]
  },
  {
   "cell_type": "code",
   "execution_count": 4,
   "metadata": {},
   "outputs": [],
   "source": [
    "gauss_1 = get_gaussian_dist(mean,std,datapoints)\n",
    "gauss_2 = get_gaussian_dist(mean,std,datapoints)\n",
    "water = get_waterfall(datapoints)\n",
    "\n",
    "dict = {'Base_Gauss':gauss_1,'Sun_gauss':gauss_2,'Water_multi':water}\n",
    "fake_iris=pd.DataFrame(dict)"
   ]
  },
  {
   "cell_type": "code",
   "execution_count": 6,
   "metadata": {},
   "outputs": [
    {
     "data": {
      "text/html": [
       "<div>\n",
       "<style scoped>\n",
       "    .dataframe tbody tr th:only-of-type {\n",
       "        vertical-align: middle;\n",
       "    }\n",
       "\n",
       "    .dataframe tbody tr th {\n",
       "        vertical-align: top;\n",
       "    }\n",
       "\n",
       "    .dataframe thead th {\n",
       "        text-align: right;\n",
       "    }\n",
       "</style>\n",
       "<table border=\"1\" class=\"dataframe\">\n",
       "  <thead>\n",
       "    <tr style=\"text-align: right;\">\n",
       "      <th></th>\n",
       "      <th>Base_Gauss</th>\n",
       "      <th>Sun_gauss</th>\n",
       "      <th>Water_multi</th>\n",
       "    </tr>\n",
       "  </thead>\n",
       "  <tbody>\n",
       "    <tr>\n",
       "      <th>17409</th>\n",
       "      <td>0.363938</td>\n",
       "      <td>0.575455</td>\n",
       "      <td>-0.1</td>\n",
       "    </tr>\n",
       "    <tr>\n",
       "      <th>3841</th>\n",
       "      <td>0.708698</td>\n",
       "      <td>0.487989</td>\n",
       "      <td>0.0</td>\n",
       "    </tr>\n",
       "    <tr>\n",
       "      <th>1289</th>\n",
       "      <td>0.561722</td>\n",
       "      <td>0.445556</td>\n",
       "      <td>0.0</td>\n",
       "    </tr>\n",
       "    <tr>\n",
       "      <th>10500</th>\n",
       "      <td>0.479331</td>\n",
       "      <td>0.568143</td>\n",
       "      <td>0.0</td>\n",
       "    </tr>\n",
       "    <tr>\n",
       "      <th>13417</th>\n",
       "      <td>0.529981</td>\n",
       "      <td>0.512941</td>\n",
       "      <td>-0.1</td>\n",
       "    </tr>\n",
       "  </tbody>\n",
       "</table>\n",
       "</div>"
      ],
      "text/plain": [
       "       Base_Gauss  Sun_gauss  Water_multi\n",
       "17409    0.363938   0.575455         -0.1\n",
       "3841     0.708698   0.487989          0.0\n",
       "1289     0.561722   0.445556          0.0\n",
       "10500    0.479331   0.568143          0.0\n",
       "13417    0.529981   0.512941         -0.1"
      ]
     },
     "execution_count": 6,
     "metadata": {},
     "output_type": "execute_result"
    }
   ],
   "source": [
    "fake_iris.sample(5)"
   ]
  },
  {
   "cell_type": "code",
   "execution_count": 36,
   "metadata": {},
   "outputs": [],
   "source": [
    "fake_iris['plant_1_base'] = fake_iris['Base_Gauss'] + 9.9\n",
    "fake_iris['plant_2_base'] = fake_iris['Base_Gauss'] + 10.1\n",
    "fake_iris['plant_3_base'] = (fake_iris['Base_Gauss'] * 1.4) + 9.8"
   ]
  },
  {
   "cell_type": "code",
   "execution_count": 37,
   "metadata": {},
   "outputs": [
    {
     "data": {
      "text/html": [
       "<div>\n",
       "<style scoped>\n",
       "    .dataframe tbody tr th:only-of-type {\n",
       "        vertical-align: middle;\n",
       "    }\n",
       "\n",
       "    .dataframe tbody tr th {\n",
       "        vertical-align: top;\n",
       "    }\n",
       "\n",
       "    .dataframe thead th {\n",
       "        text-align: right;\n",
       "    }\n",
       "</style>\n",
       "<table border=\"1\" class=\"dataframe\">\n",
       "  <thead>\n",
       "    <tr style=\"text-align: right;\">\n",
       "      <th></th>\n",
       "      <th>Base_Gauss</th>\n",
       "      <th>Sun_gauss</th>\n",
       "      <th>Water_multi</th>\n",
       "      <th>plant_1_base</th>\n",
       "      <th>plant_2_base</th>\n",
       "      <th>plant_3_base</th>\n",
       "    </tr>\n",
       "  </thead>\n",
       "  <tbody>\n",
       "    <tr>\n",
       "      <th>count</th>\n",
       "      <td>20000.000000</td>\n",
       "      <td>20000.000000</td>\n",
       "      <td>20000.000000</td>\n",
       "      <td>20000.000000</td>\n",
       "      <td>20000.000000</td>\n",
       "      <td>20000.000000</td>\n",
       "    </tr>\n",
       "    <tr>\n",
       "      <th>mean</th>\n",
       "      <td>0.499819</td>\n",
       "      <td>0.500149</td>\n",
       "      <td>0.000800</td>\n",
       "      <td>10.399819</td>\n",
       "      <td>10.599819</td>\n",
       "      <td>10.499746</td>\n",
       "    </tr>\n",
       "    <tr>\n",
       "      <th>std</th>\n",
       "      <td>0.083764</td>\n",
       "      <td>0.083644</td>\n",
       "      <td>0.081644</td>\n",
       "      <td>0.083764</td>\n",
       "      <td>0.083764</td>\n",
       "      <td>0.117269</td>\n",
       "    </tr>\n",
       "    <tr>\n",
       "      <th>min</th>\n",
       "      <td>0.182052</td>\n",
       "      <td>0.189234</td>\n",
       "      <td>-0.100000</td>\n",
       "      <td>10.082052</td>\n",
       "      <td>10.282052</td>\n",
       "      <td>10.054873</td>\n",
       "    </tr>\n",
       "    <tr>\n",
       "      <th>25%</th>\n",
       "      <td>0.443382</td>\n",
       "      <td>0.444215</td>\n",
       "      <td>-0.100000</td>\n",
       "      <td>10.343382</td>\n",
       "      <td>10.543382</td>\n",
       "      <td>10.420735</td>\n",
       "    </tr>\n",
       "    <tr>\n",
       "      <th>50%</th>\n",
       "      <td>0.500725</td>\n",
       "      <td>0.500672</td>\n",
       "      <td>0.000000</td>\n",
       "      <td>10.400725</td>\n",
       "      <td>10.600725</td>\n",
       "      <td>10.501016</td>\n",
       "    </tr>\n",
       "    <tr>\n",
       "      <th>75%</th>\n",
       "      <td>0.556776</td>\n",
       "      <td>0.556300</td>\n",
       "      <td>0.100000</td>\n",
       "      <td>10.456776</td>\n",
       "      <td>10.656776</td>\n",
       "      <td>10.579486</td>\n",
       "    </tr>\n",
       "    <tr>\n",
       "      <th>max</th>\n",
       "      <td>0.862405</td>\n",
       "      <td>0.852127</td>\n",
       "      <td>0.100000</td>\n",
       "      <td>10.762405</td>\n",
       "      <td>10.962405</td>\n",
       "      <td>11.007367</td>\n",
       "    </tr>\n",
       "  </tbody>\n",
       "</table>\n",
       "</div>"
      ],
      "text/plain": [
       "         Base_Gauss     Sun_gauss   Water_multi  plant_1_base  plant_2_base  \\\n",
       "count  20000.000000  20000.000000  20000.000000  20000.000000  20000.000000   \n",
       "mean       0.499819      0.500149      0.000800     10.399819     10.599819   \n",
       "std        0.083764      0.083644      0.081644      0.083764      0.083764   \n",
       "min        0.182052      0.189234     -0.100000     10.082052     10.282052   \n",
       "25%        0.443382      0.444215     -0.100000     10.343382     10.543382   \n",
       "50%        0.500725      0.500672      0.000000     10.400725     10.600725   \n",
       "75%        0.556776      0.556300      0.100000     10.456776     10.656776   \n",
       "max        0.862405      0.852127      0.100000     10.762405     10.962405   \n",
       "\n",
       "       plant_3_base  \n",
       "count  20000.000000  \n",
       "mean      10.499746  \n",
       "std        0.117269  \n",
       "min       10.054873  \n",
       "25%       10.420735  \n",
       "50%       10.501016  \n",
       "75%       10.579486  \n",
       "max       11.007367  "
      ]
     },
     "execution_count": 37,
     "metadata": {},
     "output_type": "execute_result"
    }
   ],
   "source": [
    "fake_iris.describe()"
   ]
  },
  {
   "cell_type": "code",
   "execution_count": 38,
   "metadata": {},
   "outputs": [
    {
     "data": {
      "text/plain": [
       "(array([1.000e+00, 3.000e+00, 4.000e+00, 1.200e+01, 1.200e+01, 1.900e+01,\n",
       "        3.800e+01, 5.300e+01, 7.600e+01, 1.120e+02, 1.290e+02, 2.000e+02,\n",
       "        2.810e+02, 3.780e+02, 4.510e+02, 5.600e+02, 7.040e+02, 8.300e+02,\n",
       "        9.260e+02, 1.023e+03, 1.177e+03, 1.208e+03, 1.255e+03, 1.335e+03,\n",
       "        1.307e+03, 1.194e+03, 1.170e+03, 1.011e+03, 9.610e+02, 7.580e+02,\n",
       "        6.890e+02, 5.290e+02, 4.190e+02, 3.440e+02, 2.690e+02, 1.940e+02,\n",
       "        1.150e+02, 1.010e+02, 5.800e+01, 3.400e+01, 2.500e+01, 1.300e+01,\n",
       "        9.000e+00, 6.000e+00, 4.000e+00, 2.000e+00, 0.000e+00, 0.000e+00,\n",
       "        0.000e+00, 1.000e+00]),\n",
       " array([10.0548735 , 10.07392337, 10.09297325, 10.11202312, 10.13107299,\n",
       "        10.15012287, 10.16917274, 10.18822261, 10.20727249, 10.22632236,\n",
       "        10.24537224, 10.26442211, 10.28347198, 10.30252186, 10.32157173,\n",
       "        10.3406216 , 10.35967148, 10.37872135, 10.39777122, 10.4168211 ,\n",
       "        10.43587097, 10.45492085, 10.47397072, 10.49302059, 10.51207047,\n",
       "        10.53112034, 10.55017021, 10.56922009, 10.58826996, 10.60731983,\n",
       "        10.62636971, 10.64541958, 10.66446946, 10.68351933, 10.7025692 ,\n",
       "        10.72161908, 10.74066895, 10.75971882, 10.7787687 , 10.79781857,\n",
       "        10.81686845, 10.83591832, 10.85496819, 10.87401807, 10.89306794,\n",
       "        10.91211781, 10.93116769, 10.95021756, 10.96926743, 10.98831731,\n",
       "        11.00736718]),\n",
       " <a list of 50 Patch objects>)"
      ]
     },
     "execution_count": 38,
     "metadata": {},
     "output_type": "execute_result"
    },
    {
     "data": {
      "image/png": "[encoded data removed]",
      "text/plain": [
       "<Figure size 432x288 with 1 Axes>"
      ]
     },
     "metadata": {
      "needs_background": "light"
     },
     "output_type": "display_data"
    }
   ],
   "source": [
    "plt.hist(fake_iris['plant_1_base'], bins = 50, color='blue',alpha=.5)\n",
    "plt.hist(fake_iris['plant_2_base'], bins = 50, color='orange',alpha=.5)\n",
    "plt.hist(fake_iris['plant_3_base'], bins = 50, color='green',alpha=.5)"
   ]
  },
  {
   "cell_type": "code",
   "execution_count": null,
   "metadata": {},
   "outputs": [],
   "source": []
  },
  {
   "cell_type": "code",
   "execution_count": null,
   "metadata": {},
   "outputs": [],
   "source": []
  },
  {
   "cell_type": "code",
   "execution_count": null,
   "metadata": {
    "scrolled": true
   },
   "outputs": [],
   "source": []
  },
  {
   "cell_type": "code",
   "execution_count": null,
   "metadata": {},
   "outputs": [],
   "source": []
  },
  {
   "cell_type": "code",
   "execution_count": null,
   "metadata": {},
   "outputs": [],
   "source": []
  },
  {
   "cell_type": "code",
   "execution_count": null,
   "metadata": {},
   "outputs": [],
   "source": []
  }
 ],
 "metadata": {
  "kernelspec": {
   "display_name": "Python 3",
   "language": "python",
   "name": "python3"
  },
  "language_info": {
   "codemirror_mode": {
    "name": "ipython",
    "version": 3
   },
   "file_extension": ".py",
   "mimetype": "text/x-python",
   "name": "python",
   "nbconvert_exporter": "python",
   "pygments_lexer": "ipython3",
   "version": "3.8.3"
  }
 },
 "nbformat": 4,
 "nbformat_minor": 4
}
