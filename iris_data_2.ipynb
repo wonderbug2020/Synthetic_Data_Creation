{
 "cells": [
  {
   "cell_type": "code",
   "execution_count": 1,
   "metadata": {},
   "outputs": [],
   "source": [
    "#Import libraries\n",
    "import random\n",
    "import pandas as pd\n",
    "import matplotlib.pyplot as plt"
   ]
  },
  {
   "cell_type": "code",
   "execution_count": 2,
   "metadata": {},
   "outputs": [],
   "source": [
    "#Setting the variables for my initial data\n",
    "mean = .5\n",
    "std = mean/6\n",
    "datapoints = 20000"
   ]
  },
  {
   "cell_type": "code",
   "execution_count": 3,
   "metadata": {},
   "outputs": [],
   "source": [
    "#Function to get a list with a gaussian distribution\n",
    "def get_gaussian_dist(mean,std,datapoints):\n",
    "    gauss_lst = []\n",
    "    while len(gauss_lst) < datapoints:\n",
    "        sample = random.gauss(mean, std)\n",
    "        if sample >= 0 and sample <= 1:\n",
    "            gauss_lst.append(sample)\n",
    "    return gauss_lst    \n",
    "\n",
    "#Function to calculate the multiplier for water based on 3 regions\n",
    "def get_waterfall(datapoints):\n",
    "    pop = [-.02,0,.02]\n",
    "    wei = [3,3,3]    \n",
    "    lst = []\n",
    "    for points in range(datapoints):\n",
    "        multi = random.choices(pop,wei,k=1)\n",
    "        lst.append(multi[0])\n",
    "    return(lst)"
   ]
  },
  {
   "cell_type": "code",
   "execution_count": 49,
   "metadata": {},
   "outputs": [],
   "source": [
    "def make_dataframe(mean,std,datapoints,plant,base,multi):\n",
    "    gauss_1 = get_gaussian_dist(mean,std,datapoints)\n",
    "    gauss_2 = get_gaussian_dist(mean,std,datapoints)\n",
    "    gauss_3 = get_gaussian_dist(mean,std,datapoints)\n",
    "    gauss_4 = get_gaussian_dist(mean,std,datapoints)\n",
    "    water_1 = get_waterfall(datapoints)\n",
    "    water_2 = get_waterfall(datapoints)\n",
    "    dict = {'Base_gauss_1':gauss_1,'Sun_gauss_1':gauss_2,'Base_gauss_2':gauss_3,'Sun_gauss_2':gauss_4,\n",
    "            'Water_multi_1':water_1,'Water_multi_2':water_2}\n",
    "    df=pd.DataFrame(dict)\n",
    "    df['var_1'] = (((df['Base_gauss_1'] * multi) + base) + df['Sun_gauss_1']) * (df['Water_multi_1'] + 1)\n",
    "    df['var_2'] = (((df['Base_gauss_2'] * multi) + base) + df['Sun_gauss_2']) * (df['Water_multi_2'] + 1)\n",
    "    df['plant_type'] = plant\n",
    "    return(df)"
   ]
  },
  {
   "cell_type": "code",
   "execution_count": 50,
   "metadata": {},
   "outputs": [],
   "source": [
    "plant_1 = make_dataframe(mean,std,datapoints,'plant_1',9.9,1)\n",
    "plant_2 = make_dataframe(mean,std,datapoints,'plant_2',10.1,1)\n",
    "plant_3 = make_dataframe(mean,std,datapoints,'plant_3',9.8,1.4)"
   ]
  },
  {
   "cell_type": "code",
   "execution_count": 51,
   "metadata": {},
   "outputs": [],
   "source": [
    "fake_iris = pd.concat([plant_1,plant_2,plant_3])"
   ]
  },
  {
   "cell_type": "code",
   "execution_count": 52,
   "metadata": {},
   "outputs": [
    {
     "data": {
      "text/html": [
       "<div>\n",
       "<style scoped>\n",
       "    .dataframe tbody tr th:only-of-type {\n",
       "        vertical-align: middle;\n",
       "    }\n",
       "\n",
       "    .dataframe tbody tr th {\n",
       "        vertical-align: top;\n",
       "    }\n",
       "\n",
       "    .dataframe thead th {\n",
       "        text-align: right;\n",
       "    }\n",
       "</style>\n",
       "<table border=\"1\" class=\"dataframe\">\n",
       "  <thead>\n",
       "    <tr style=\"text-align: right;\">\n",
       "      <th></th>\n",
       "      <th>Base_gauss_1</th>\n",
       "      <th>Sun_gauss_1</th>\n",
       "      <th>Base_gauss_2</th>\n",
       "      <th>Sun_gauss_2</th>\n",
       "      <th>Water_multi_1</th>\n",
       "      <th>Water_multi_2</th>\n",
       "      <th>var_1</th>\n",
       "      <th>var_2</th>\n",
       "      <th>plant_type</th>\n",
       "    </tr>\n",
       "  </thead>\n",
       "  <tbody>\n",
       "    <tr>\n",
       "      <th>11673</th>\n",
       "      <td>0.441005</td>\n",
       "      <td>0.554558</td>\n",
       "      <td>0.485475</td>\n",
       "      <td>0.598842</td>\n",
       "      <td>-0.02</td>\n",
       "      <td>-0.02</td>\n",
       "      <td>10.752525</td>\n",
       "      <td>10.856936</td>\n",
       "      <td>plant_3</td>\n",
       "    </tr>\n",
       "    <tr>\n",
       "      <th>14115</th>\n",
       "      <td>0.735176</td>\n",
       "      <td>0.648000</td>\n",
       "      <td>0.538850</td>\n",
       "      <td>0.452617</td>\n",
       "      <td>-0.02</td>\n",
       "      <td>0.02</td>\n",
       "      <td>11.253512</td>\n",
       "      <td>11.313296</td>\n",
       "      <td>plant_2</td>\n",
       "    </tr>\n",
       "    <tr>\n",
       "      <th>2445</th>\n",
       "      <td>0.644854</td>\n",
       "      <td>0.453493</td>\n",
       "      <td>0.503327</td>\n",
       "      <td>0.405001</td>\n",
       "      <td>0.00</td>\n",
       "      <td>-0.02</td>\n",
       "      <td>11.156289</td>\n",
       "      <td>10.691466</td>\n",
       "      <td>plant_3</td>\n",
       "    </tr>\n",
       "    <tr>\n",
       "      <th>1445</th>\n",
       "      <td>0.435390</td>\n",
       "      <td>0.553205</td>\n",
       "      <td>0.510523</td>\n",
       "      <td>0.431041</td>\n",
       "      <td>-0.02</td>\n",
       "      <td>-0.02</td>\n",
       "      <td>10.866822</td>\n",
       "      <td>10.820734</td>\n",
       "      <td>plant_2</td>\n",
       "    </tr>\n",
       "    <tr>\n",
       "      <th>14591</th>\n",
       "      <td>0.352609</td>\n",
       "      <td>0.652402</td>\n",
       "      <td>0.529132</td>\n",
       "      <td>0.560845</td>\n",
       "      <td>-0.02</td>\n",
       "      <td>0.02</td>\n",
       "      <td>10.686910</td>\n",
       "      <td>11.209777</td>\n",
       "      <td>plant_1</td>\n",
       "    </tr>\n",
       "    <tr>\n",
       "      <th>19806</th>\n",
       "      <td>0.442294</td>\n",
       "      <td>0.563773</td>\n",
       "      <td>0.570864</td>\n",
       "      <td>0.368579</td>\n",
       "      <td>0.02</td>\n",
       "      <td>0.02</td>\n",
       "      <td>11.328188</td>\n",
       "      <td>11.260231</td>\n",
       "      <td>plant_2</td>\n",
       "    </tr>\n",
       "    <tr>\n",
       "      <th>18070</th>\n",
       "      <td>0.622419</td>\n",
       "      <td>0.457324</td>\n",
       "      <td>0.326248</td>\n",
       "      <td>0.422376</td>\n",
       "      <td>0.00</td>\n",
       "      <td>0.02</td>\n",
       "      <td>10.979743</td>\n",
       "      <td>10.861597</td>\n",
       "      <td>plant_1</td>\n",
       "    </tr>\n",
       "    <tr>\n",
       "      <th>8735</th>\n",
       "      <td>0.739494</td>\n",
       "      <td>0.437980</td>\n",
       "      <td>0.534416</td>\n",
       "      <td>0.435468</td>\n",
       "      <td>0.02</td>\n",
       "      <td>-0.02</td>\n",
       "      <td>11.498737</td>\n",
       "      <td>10.763977</td>\n",
       "      <td>plant_3</td>\n",
       "    </tr>\n",
       "    <tr>\n",
       "      <th>13236</th>\n",
       "      <td>0.491936</td>\n",
       "      <td>0.551395</td>\n",
       "      <td>0.513474</td>\n",
       "      <td>0.409835</td>\n",
       "      <td>-0.02</td>\n",
       "      <td>0.00</td>\n",
       "      <td>10.920464</td>\n",
       "      <td>11.023309</td>\n",
       "      <td>plant_2</td>\n",
       "    </tr>\n",
       "    <tr>\n",
       "      <th>1166</th>\n",
       "      <td>0.540728</td>\n",
       "      <td>0.443830</td>\n",
       "      <td>0.426277</td>\n",
       "      <td>0.585247</td>\n",
       "      <td>-0.02</td>\n",
       "      <td>0.02</td>\n",
       "      <td>10.666867</td>\n",
       "      <td>11.129755</td>\n",
       "      <td>plant_1</td>\n",
       "    </tr>\n",
       "  </tbody>\n",
       "</table>\n",
       "</div>"
      ],
      "text/plain": [
       "       Base_gauss_1  Sun_gauss_1  Base_gauss_2  Sun_gauss_2  Water_multi_1  \\\n",
       "11673      0.441005     0.554558      0.485475     0.598842          -0.02   \n",
       "14115      0.735176     0.648000      0.538850     0.452617          -0.02   \n",
       "2445       0.644854     0.453493      0.503327     0.405001           0.00   \n",
       "1445       0.435390     0.553205      0.510523     0.431041          -0.02   \n",
       "14591      0.352609     0.652402      0.529132     0.560845          -0.02   \n",
       "19806      0.442294     0.563773      0.570864     0.368579           0.02   \n",
       "18070      0.622419     0.457324      0.326248     0.422376           0.00   \n",
       "8735       0.739494     0.437980      0.534416     0.435468           0.02   \n",
       "13236      0.491936     0.551395      0.513474     0.409835          -0.02   \n",
       "1166       0.540728     0.443830      0.426277     0.585247          -0.02   \n",
       "\n",
       "       Water_multi_2      var_1      var_2 plant_type  \n",
       "11673          -0.02  10.752525  10.856936    plant_3  \n",
       "14115           0.02  11.253512  11.313296    plant_2  \n",
       "2445           -0.02  11.156289  10.691466    plant_3  \n",
       "1445           -0.02  10.866822  10.820734    plant_2  \n",
       "14591           0.02  10.686910  11.209777    plant_1  \n",
       "19806           0.02  11.328188  11.260231    plant_2  \n",
       "18070           0.02  10.979743  10.861597    plant_1  \n",
       "8735           -0.02  11.498737  10.763977    plant_3  \n",
       "13236           0.00  10.920464  11.023309    plant_2  \n",
       "1166            0.02  10.666867  11.129755    plant_1  "
      ]
     },
     "execution_count": 52,
     "metadata": {},
     "output_type": "execute_result"
    }
   ],
   "source": [
    "fake_iris.sample(10)"
   ]
  },
  {
   "cell_type": "code",
   "execution_count": 53,
   "metadata": {},
   "outputs": [
    {
     "data": {
      "image/png": "[encoded data removed]",
      "text/plain": [
       "<Figure size 432x288 with 1 Axes>"
      ]
     },
     "metadata": {
      "needs_background": "light"
     },
     "output_type": "display_data"
    }
   ],
   "source": [
    "plt.hist(plant_1['var_1'], bins = 50, color='blue',alpha=.5);\n",
    "plt.hist(plant_2['var_1'], bins = 50, color='orange',alpha=.5);\n",
    "plt.hist(plant_3['var_1'], bins = 50, color='green',alpha=.5);"
   ]
  },
  {
   "cell_type": "code",
   "execution_count": 54,
   "metadata": {},
   "outputs": [
    {
     "data": {
      "image/png": "[encoded data removed]",
      "text/plain": [
       "<Figure size 432x288 with 1 Axes>"
      ]
     },
     "metadata": {
      "needs_background": "light"
     },
     "output_type": "display_data"
    }
   ],
   "source": [
    "plt.hist(plant_1['var_2'], bins = 50, color='blue',alpha=.5);\n",
    "plt.hist(plant_2['var_2'], bins = 50, color='orange',alpha=.5);\n",
    "plt.hist(plant_3['var_2'], bins = 50, color='green',alpha=.5);"
   ]
  },
  {
   "cell_type": "code",
   "execution_count": 19,
   "metadata": {},
   "outputs": [
    {
     "data": {
      "text/html": [
       "<div>\n",
       "<style scoped>\n",
       "    .dataframe tbody tr th:only-of-type {\n",
       "        vertical-align: middle;\n",
       "    }\n",
       "\n",
       "    .dataframe tbody tr th {\n",
       "        vertical-align: top;\n",
       "    }\n",
       "\n",
       "    .dataframe thead th {\n",
       "        text-align: right;\n",
       "    }\n",
       "</style>\n",
       "<table border=\"1\" class=\"dataframe\">\n",
       "  <thead>\n",
       "    <tr style=\"text-align: right;\">\n",
       "      <th></th>\n",
       "      <th>Base_gauss</th>\n",
       "      <th>Sun_gauss</th>\n",
       "      <th>Water_multi</th>\n",
       "      <th>var_1</th>\n",
       "      <th>plant_type</th>\n",
       "    </tr>\n",
       "  </thead>\n",
       "  <tbody>\n",
       "    <tr>\n",
       "      <th>322</th>\n",
       "      <td>0.493576</td>\n",
       "      <td>0.488536</td>\n",
       "      <td>0.00</td>\n",
       "      <td>14.899542</td>\n",
       "      <td>plant_1</td>\n",
       "    </tr>\n",
       "    <tr>\n",
       "      <th>5698</th>\n",
       "      <td>0.341562</td>\n",
       "      <td>0.527258</td>\n",
       "      <td>0.00</td>\n",
       "      <td>14.725446</td>\n",
       "      <td>plant_1</td>\n",
       "    </tr>\n",
       "    <tr>\n",
       "      <th>17662</th>\n",
       "      <td>0.448877</td>\n",
       "      <td>0.521753</td>\n",
       "      <td>0.02</td>\n",
       "      <td>15.167584</td>\n",
       "      <td>plant_1</td>\n",
       "    </tr>\n",
       "    <tr>\n",
       "      <th>14877</th>\n",
       "      <td>0.604977</td>\n",
       "      <td>0.318673</td>\n",
       "      <td>-0.02</td>\n",
       "      <td>14.587928</td>\n",
       "      <td>plant_1</td>\n",
       "    </tr>\n",
       "    <tr>\n",
       "      <th>11919</th>\n",
       "      <td>0.590805</td>\n",
       "      <td>0.575342</td>\n",
       "      <td>-0.02</td>\n",
       "      <td>14.820020</td>\n",
       "      <td>plant_1</td>\n",
       "    </tr>\n",
       "  </tbody>\n",
       "</table>\n",
       "</div>"
      ],
      "text/plain": [
       "       Base_gauss  Sun_gauss  Water_multi      var_1 plant_type\n",
       "322      0.493576   0.488536         0.00  14.899542    plant_1\n",
       "5698     0.341562   0.527258         0.00  14.725446    plant_1\n",
       "17662    0.448877   0.521753         0.02  15.167584    plant_1\n",
       "14877    0.604977   0.318673        -0.02  14.587928    plant_1\n",
       "11919    0.590805   0.575342        -0.02  14.820020    plant_1"
      ]
     },
     "execution_count": 19,
     "metadata": {},
     "output_type": "execute_result"
    }
   ],
   "source": [
    "plant_3.sample(5)"
   ]
  },
  {
   "cell_type": "code",
   "execution_count": 30,
   "metadata": {},
   "outputs": [],
   "source": [
    "gauss_1 = get_gaussian_dist(mean,std,datapoints)\n",
    "gauss_2 = get_gaussian_dist(mean,std,datapoints)\n",
    "water = get_waterfall(datapoints)\n",
    "\n",
    "dict = {'Base_Gauss':gauss_1,'Sun_gauss':gauss_2,'Water_multi':water}\n",
    "fake_iris=pd.DataFrame(dict)"
   ]
  },
  {
   "cell_type": "code",
   "execution_count": null,
   "metadata": {},
   "outputs": [],
   "source": [
    "fake_iris.sample(5)"
   ]
  },
  {
   "cell_type": "code",
   "execution_count": 31,
   "metadata": {},
   "outputs": [],
   "source": [
    "fake_iris['water_1_base'] = fake_iris['Water_multi'] + 1\n",
    "fake_iris['water_2_base'] = fake_iris['Water_multi'] + 1\n",
    "fake_iris['water_3_base'] = fake_iris['Water_multi'] + 1"
   ]
  },
  {
   "cell_type": "code",
   "execution_count": 32,
   "metadata": {},
   "outputs": [],
   "source": [
    "fake_iris['plant_1_base'] = fake_iris['Base_Gauss'] + 9.9\n",
    "fake_iris['plant_2_base'] = fake_iris['Base_Gauss'] + 10.1\n",
    "fake_iris['plant_3_base'] = (fake_iris['Base_Gauss'] * 1.4) + 9.8"
   ]
  },
  {
   "cell_type": "code",
   "execution_count": 33,
   "metadata": {},
   "outputs": [],
   "source": [
    "fake_iris['var_1'] = (fake_iris['plant_1_base'] + fake_iris['Sun_gauss']) * fake_iris['water_1_base']\n",
    "fake_iris['var_2'] = (fake_iris['plant_2_base'] + fake_iris['Sun_gauss']) * fake_iris['water_2_base']\n",
    "fake_iris['var_3'] = (fake_iris['plant_3_base'] + fake_iris['Sun_gauss']) * fake_iris['water_3_base']"
   ]
  },
  {
   "cell_type": "code",
   "execution_count": null,
   "metadata": {},
   "outputs": [],
   "source": [
    "fake_iris.sample(5)"
   ]
  },
  {
   "cell_type": "code",
   "execution_count": 34,
   "metadata": {},
   "outputs": [
    {
     "data": {
      "image/png": "[encoded data removed]",
      "text/plain": [
       "<Figure size 432x288 with 1 Axes>"
      ]
     },
     "metadata": {
      "needs_background": "light"
     },
     "output_type": "display_data"
    }
   ],
   "source": [
    "plt.hist(fake_iris['plant_1_base'], bins = 50, color='blue',alpha=.5);\n",
    "plt.hist(fake_iris['plant_2_base'], bins = 50, color='orange',alpha=.5);\n",
    "plt.hist(fake_iris['plant_3_base'], bins = 50, color='green',alpha=.5);"
   ]
  },
  {
   "cell_type": "code",
   "execution_count": 36,
   "metadata": {},
   "outputs": [
    {
     "data": {
      "image/png": "[encoded data removed]",
      "text/plain": [
       "<Figure size 432x288 with 1 Axes>"
      ]
     },
     "metadata": {
      "needs_background": "light"
     },
     "output_type": "display_data"
    }
   ],
   "source": [
    "plt.hist(fake_iris['var_1'], bins = 50, color='blue',alpha=.5);\n",
    "plt.hist(fake_iris['var_2'], bins = 50, color='orange',alpha=.5);\n",
    "plt.hist(fake_iris['var_3'], bins = 50, color='green',alpha=.5);"
   ]
  },
  {
   "cell_type": "code",
   "execution_count": null,
   "metadata": {},
   "outputs": [],
   "source": []
  },
  {
   "cell_type": "code",
   "execution_count": null,
   "metadata": {
    "scrolled": true
   },
   "outputs": [],
   "source": []
  },
  {
   "cell_type": "code",
   "execution_count": null,
   "metadata": {},
   "outputs": [],
   "source": []
  },
  {
   "cell_type": "code",
   "execution_count": null,
   "metadata": {},
   "outputs": [],
   "source": []
  },
  {
   "cell_type": "code",
   "execution_count": null,
   "metadata": {},
   "outputs": [],
   "source": []
  }
 ],
 "metadata": {
  "kernelspec": {
   "display_name": "Python 3",
   "language": "python",
   "name": "python3"
  },
  "language_info": {
   "codemirror_mode": {
    "name": "ipython",
    "version": 3
   },
   "file_extension": ".py",
   "mimetype": "text/x-python",
   "name": "python",
   "nbconvert_exporter": "python",
   "pygments_lexer": "ipython3",
   "version": "3.8.3"
  }
 },
 "nbformat": 4,
 "nbformat_minor": 4
}
