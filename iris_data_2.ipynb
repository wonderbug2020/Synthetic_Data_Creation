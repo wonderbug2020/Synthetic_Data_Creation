{
 "cells": [
  {
   "cell_type": "code",
   "execution_count": 1,
   "metadata": {},
   "outputs": [],
   "source": [
    "#Import libraries\n",
    "import random\n",
    "import pandas as pd\n",
    "import matplotlib.pyplot as plt"
   ]
  },
  {
   "cell_type": "code",
   "execution_count": 2,
   "metadata": {},
   "outputs": [],
   "source": [
    "#Setting the variables for my initial data\n",
    "mean = .5\n",
    "std = mean/6\n",
    "datapoints = 20000"
   ]
  },
  {
   "cell_type": "code",
   "execution_count": 3,
   "metadata": {},
   "outputs": [],
   "source": [
    "#Function to get a list with a gaussian distribution\n",
    "def get_gaussian_dist(mean,std,datapoints):\n",
    "    gauss_lst = []\n",
    "    while len(gauss_lst) < datapoints:\n",
    "        sample = random.gauss(mean, std)\n",
    "        if sample >= 0 and sample <= 1:\n",
    "            gauss_lst.append(sample)\n",
    "    return gauss_lst    \n",
    "\n",
    "#Function to calculate the multiplier for water based on 3 regions\n",
    "def get_waterfall(datapoints):\n",
    "    pop = [-.02,0,.02]\n",
    "    wei = [3,3,3]    \n",
    "    lst = []\n",
    "    for points in range(datapoints):\n",
    "        multi = random.choices(pop,wei,k=1)\n",
    "        lst.append(multi[0])\n",
    "    return(lst)"
   ]
  },
  {
   "cell_type": "code",
   "execution_count": 26,
   "metadata": {},
   "outputs": [],
   "source": [
    "def make_dataframe(mean,std,datapoints,plant,base,multi):\n",
    "    gauss_1 = get_gaussian_dist(mean,std,datapoints)\n",
    "    gauss_2 = get_gaussian_dist(mean,std,datapoints)\n",
    "    gauss_3 = get_gaussian_dist(mean,std,datapoints)\n",
    "    gauss_4 = get_gaussian_dist(mean,std,datapoints)\n",
    "    water = get_waterfall(datapoints)\n",
    "    dict = {'Base_gauss':gauss_1,'Sun_gauss':gauss_2,'Water_multi':water}\n",
    "    df=pd.DataFrame(dict)\n",
    "    df['var_1'] = (((df['Base_gauss'] * multi) + base) + df['Sun_gauss']) * (df['Water_multi'] + 1)\n",
    "    df['plant_type'] = plant\n",
    "    return(df)"
   ]
  },
  {
   "cell_type": "code",
   "execution_count": 6,
   "metadata": {},
   "outputs": [],
   "source": [
    "plant_1 = make_dataframe(mean,std,datapoints,'plant_1',9.9,1)\n",
    "plant_2 = make_dataframe(mean,std,datapoints,'plant_2',10.1,1)\n",
    "plant_3 = make_dataframe(mean,std,datapoints,'plant_3',9.8,1.4)"
   ]
  },
  {
   "cell_type": "code",
   "execution_count": 30,
   "metadata": {},
   "outputs": [],
   "source": [
    "fake_iris = pd.concat([plant_1,plant_2,plant_3])"
   ]
  },
  {
   "cell_type": "code",
   "execution_count": 31,
   "metadata": {},
   "outputs": [
    {
     "data": {
      "text/html": [
       "<div>\n",
       "<style scoped>\n",
       "    .dataframe tbody tr th:only-of-type {\n",
       "        vertical-align: middle;\n",
       "    }\n",
       "\n",
       "    .dataframe tbody tr th {\n",
       "        vertical-align: top;\n",
       "    }\n",
       "\n",
       "    .dataframe thead th {\n",
       "        text-align: right;\n",
       "    }\n",
       "</style>\n",
       "<table border=\"1\" class=\"dataframe\">\n",
       "  <thead>\n",
       "    <tr style=\"text-align: right;\">\n",
       "      <th></th>\n",
       "      <th>Base_gauss</th>\n",
       "      <th>Sun_gauss</th>\n",
       "      <th>Water_multi</th>\n",
       "      <th>var_1</th>\n",
       "      <th>plant_type</th>\n",
       "    </tr>\n",
       "  </thead>\n",
       "  <tbody>\n",
       "    <tr>\n",
       "      <th>2171</th>\n",
       "      <td>0.535000</td>\n",
       "      <td>0.543223</td>\n",
       "      <td>0.00</td>\n",
       "      <td>11.178223</td>\n",
       "      <td>plant_2</td>\n",
       "    </tr>\n",
       "    <tr>\n",
       "      <th>11594</th>\n",
       "      <td>0.585768</td>\n",
       "      <td>0.410445</td>\n",
       "      <td>0.02</td>\n",
       "      <td>11.114137</td>\n",
       "      <td>plant_1</td>\n",
       "    </tr>\n",
       "    <tr>\n",
       "      <th>12682</th>\n",
       "      <td>0.551604</td>\n",
       "      <td>0.471927</td>\n",
       "      <td>0.02</td>\n",
       "      <td>11.265056</td>\n",
       "      <td>plant_3</td>\n",
       "    </tr>\n",
       "    <tr>\n",
       "      <th>14377</th>\n",
       "      <td>0.441383</td>\n",
       "      <td>0.567898</td>\n",
       "      <td>0.02</td>\n",
       "      <td>11.205551</td>\n",
       "      <td>plant_3</td>\n",
       "    </tr>\n",
       "    <tr>\n",
       "      <th>17288</th>\n",
       "      <td>0.377806</td>\n",
       "      <td>0.371289</td>\n",
       "      <td>0.02</td>\n",
       "      <td>10.914222</td>\n",
       "      <td>plant_3</td>\n",
       "    </tr>\n",
       "    <tr>\n",
       "      <th>9941</th>\n",
       "      <td>0.485763</td>\n",
       "      <td>0.532190</td>\n",
       "      <td>-0.02</td>\n",
       "      <td>10.895594</td>\n",
       "      <td>plant_2</td>\n",
       "    </tr>\n",
       "    <tr>\n",
       "      <th>11894</th>\n",
       "      <td>0.497817</td>\n",
       "      <td>0.478607</td>\n",
       "      <td>-0.02</td>\n",
       "      <td>10.854895</td>\n",
       "      <td>plant_2</td>\n",
       "    </tr>\n",
       "    <tr>\n",
       "      <th>18933</th>\n",
       "      <td>0.478459</td>\n",
       "      <td>0.580557</td>\n",
       "      <td>-0.02</td>\n",
       "      <td>10.739836</td>\n",
       "      <td>plant_1</td>\n",
       "    </tr>\n",
       "    <tr>\n",
       "      <th>8107</th>\n",
       "      <td>0.531252</td>\n",
       "      <td>0.527148</td>\n",
       "      <td>0.02</td>\n",
       "      <td>11.381568</td>\n",
       "      <td>plant_2</td>\n",
       "    </tr>\n",
       "    <tr>\n",
       "      <th>4483</th>\n",
       "      <td>0.504832</td>\n",
       "      <td>0.367885</td>\n",
       "      <td>0.02</td>\n",
       "      <td>11.092144</td>\n",
       "      <td>plant_3</td>\n",
       "    </tr>\n",
       "  </tbody>\n",
       "</table>\n",
       "</div>"
      ],
      "text/plain": [
       "       Base_gauss  Sun_gauss  Water_multi      var_1 plant_type\n",
       "2171     0.535000   0.543223         0.00  11.178223    plant_2\n",
       "11594    0.585768   0.410445         0.02  11.114137    plant_1\n",
       "12682    0.551604   0.471927         0.02  11.265056    plant_3\n",
       "14377    0.441383   0.567898         0.02  11.205551    plant_3\n",
       "17288    0.377806   0.371289         0.02  10.914222    plant_3\n",
       "9941     0.485763   0.532190        -0.02  10.895594    plant_2\n",
       "11894    0.497817   0.478607        -0.02  10.854895    plant_2\n",
       "18933    0.478459   0.580557        -0.02  10.739836    plant_1\n",
       "8107     0.531252   0.527148         0.02  11.381568    plant_2\n",
       "4483     0.504832   0.367885         0.02  11.092144    plant_3"
      ]
     },
     "execution_count": 31,
     "metadata": {},
     "output_type": "execute_result"
    }
   ],
   "source": [
    "fake_iris.sample(10)"
   ]
  },
  {
   "cell_type": "code",
   "execution_count": 28,
   "metadata": {},
   "outputs": [
    {
     "data": {
      "image/png": "[encoded data removed]",
      "text/plain": [
       "<Figure size 432x288 with 1 Axes>"
      ]
     },
     "metadata": {
      "needs_background": "light"
     },
     "output_type": "display_data"
    }
   ],
   "source": [
    "plt.hist(plant_1['var_1'], bins = 50, color='blue',alpha=.5);\n",
    "plt.hist(plant_2['var_1'], bins = 50, color='orange',alpha=.5);\n",
    "plt.hist(plant_3['var_1'], bins = 50, color='green',alpha=.5);"
   ]
  },
  {
   "cell_type": "code",
   "execution_count": 19,
   "metadata": {},
   "outputs": [
    {
     "data": {
      "text/html": [
       "<div>\n",
       "<style scoped>\n",
       "    .dataframe tbody tr th:only-of-type {\n",
       "        vertical-align: middle;\n",
       "    }\n",
       "\n",
       "    .dataframe tbody tr th {\n",
       "        vertical-align: top;\n",
       "    }\n",
       "\n",
       "    .dataframe thead th {\n",
       "        text-align: right;\n",
       "    }\n",
       "</style>\n",
       "<table border=\"1\" class=\"dataframe\">\n",
       "  <thead>\n",
       "    <tr style=\"text-align: right;\">\n",
       "      <th></th>\n",
       "      <th>Base_gauss</th>\n",
       "      <th>Sun_gauss</th>\n",
       "      <th>Water_multi</th>\n",
       "      <th>var_1</th>\n",
       "      <th>plant_type</th>\n",
       "    </tr>\n",
       "  </thead>\n",
       "  <tbody>\n",
       "    <tr>\n",
       "      <th>322</th>\n",
       "      <td>0.493576</td>\n",
       "      <td>0.488536</td>\n",
       "      <td>0.00</td>\n",
       "      <td>14.899542</td>\n",
       "      <td>plant_1</td>\n",
       "    </tr>\n",
       "    <tr>\n",
       "      <th>5698</th>\n",
       "      <td>0.341562</td>\n",
       "      <td>0.527258</td>\n",
       "      <td>0.00</td>\n",
       "      <td>14.725446</td>\n",
       "      <td>plant_1</td>\n",
       "    </tr>\n",
       "    <tr>\n",
       "      <th>17662</th>\n",
       "      <td>0.448877</td>\n",
       "      <td>0.521753</td>\n",
       "      <td>0.02</td>\n",
       "      <td>15.167584</td>\n",
       "      <td>plant_1</td>\n",
       "    </tr>\n",
       "    <tr>\n",
       "      <th>14877</th>\n",
       "      <td>0.604977</td>\n",
       "      <td>0.318673</td>\n",
       "      <td>-0.02</td>\n",
       "      <td>14.587928</td>\n",
       "      <td>plant_1</td>\n",
       "    </tr>\n",
       "    <tr>\n",
       "      <th>11919</th>\n",
       "      <td>0.590805</td>\n",
       "      <td>0.575342</td>\n",
       "      <td>-0.02</td>\n",
       "      <td>14.820020</td>\n",
       "      <td>plant_1</td>\n",
       "    </tr>\n",
       "  </tbody>\n",
       "</table>\n",
       "</div>"
      ],
      "text/plain": [
       "       Base_gauss  Sun_gauss  Water_multi      var_1 plant_type\n",
       "322      0.493576   0.488536         0.00  14.899542    plant_1\n",
       "5698     0.341562   0.527258         0.00  14.725446    plant_1\n",
       "17662    0.448877   0.521753         0.02  15.167584    plant_1\n",
       "14877    0.604977   0.318673        -0.02  14.587928    plant_1\n",
       "11919    0.590805   0.575342        -0.02  14.820020    plant_1"
      ]
     },
     "execution_count": 19,
     "metadata": {},
     "output_type": "execute_result"
    }
   ],
   "source": [
    "plant_3.sample(5)"
   ]
  },
  {
   "cell_type": "code",
   "execution_count": 30,
   "metadata": {},
   "outputs": [],
   "source": [
    "gauss_1 = get_gaussian_dist(mean,std,datapoints)\n",
    "gauss_2 = get_gaussian_dist(mean,std,datapoints)\n",
    "water = get_waterfall(datapoints)\n",
    "\n",
    "dict = {'Base_Gauss':gauss_1,'Sun_gauss':gauss_2,'Water_multi':water}\n",
    "fake_iris=pd.DataFrame(dict)"
   ]
  },
  {
   "cell_type": "code",
   "execution_count": null,
   "metadata": {},
   "outputs": [],
   "source": [
    "fake_iris.sample(5)"
   ]
  },
  {
   "cell_type": "code",
   "execution_count": 31,
   "metadata": {},
   "outputs": [],
   "source": [
    "fake_iris['water_1_base'] = fake_iris['Water_multi'] + 1\n",
    "fake_iris['water_2_base'] = fake_iris['Water_multi'] + 1\n",
    "fake_iris['water_3_base'] = fake_iris['Water_multi'] + 1"
   ]
  },
  {
   "cell_type": "code",
   "execution_count": 32,
   "metadata": {},
   "outputs": [],
   "source": [
    "fake_iris['plant_1_base'] = fake_iris['Base_Gauss'] + 9.9\n",
    "fake_iris['plant_2_base'] = fake_iris['Base_Gauss'] + 10.1\n",
    "fake_iris['plant_3_base'] = (fake_iris['Base_Gauss'] * 1.4) + 9.8"
   ]
  },
  {
   "cell_type": "code",
   "execution_count": 33,
   "metadata": {},
   "outputs": [],
   "source": [
    "fake_iris['var_1'] = (fake_iris['plant_1_base'] + fake_iris['Sun_gauss']) * fake_iris['water_1_base']\n",
    "fake_iris['var_2'] = (fake_iris['plant_2_base'] + fake_iris['Sun_gauss']) * fake_iris['water_2_base']\n",
    "fake_iris['var_3'] = (fake_iris['plant_3_base'] + fake_iris['Sun_gauss']) * fake_iris['water_3_base']"
   ]
  },
  {
   "cell_type": "code",
   "execution_count": null,
   "metadata": {},
   "outputs": [],
   "source": [
    "fake_iris.sample(5)"
   ]
  },
  {
   "cell_type": "code",
   "execution_count": 34,
   "metadata": {},
   "outputs": [
    {
     "data": {
      "image/png": "[encoded data removed]",
      "text/plain": [
       "<Figure size 432x288 with 1 Axes>"
      ]
     },
     "metadata": {
      "needs_background": "light"
     },
     "output_type": "display_data"
    }
   ],
   "source": [
    "plt.hist(fake_iris['plant_1_base'], bins = 50, color='blue',alpha=.5);\n",
    "plt.hist(fake_iris['plant_2_base'], bins = 50, color='orange',alpha=.5);\n",
    "plt.hist(fake_iris['plant_3_base'], bins = 50, color='green',alpha=.5);"
   ]
  },
  {
   "cell_type": "code",
   "execution_count": 36,
   "metadata": {},
   "outputs": [
    {
     "data": {
      "image/png": "[encoded data removed]",
      "text/plain": [
       "<Figure size 432x288 with 1 Axes>"
      ]
     },
     "metadata": {
      "needs_background": "light"
     },
     "output_type": "display_data"
    }
   ],
   "source": [
    "plt.hist(fake_iris['var_1'], bins = 50, color='blue',alpha=.5);\n",
    "plt.hist(fake_iris['var_2'], bins = 50, color='orange',alpha=.5);\n",
    "plt.hist(fake_iris['var_3'], bins = 50, color='green',alpha=.5);"
   ]
  },
  {
   "cell_type": "code",
   "execution_count": null,
   "metadata": {},
   "outputs": [],
   "source": []
  },
  {
   "cell_type": "code",
   "execution_count": null,
   "metadata": {
    "scrolled": true
   },
   "outputs": [],
   "source": []
  },
  {
   "cell_type": "code",
   "execution_count": null,
   "metadata": {},
   "outputs": [],
   "source": []
  },
  {
   "cell_type": "code",
   "execution_count": null,
   "metadata": {},
   "outputs": [],
   "source": []
  },
  {
   "cell_type": "code",
   "execution_count": null,
   "metadata": {},
   "outputs": [],
   "source": []
  }
 ],
 "metadata": {
  "kernelspec": {
   "display_name": "Python 3",
   "language": "python",
   "name": "python3"
  },
  "language_info": {
   "codemirror_mode": {
    "name": "ipython",
    "version": 3
   },
   "file_extension": ".py",
   "mimetype": "text/x-python",
   "name": "python",
   "nbconvert_exporter": "python",
   "pygments_lexer": "ipython3",
   "version": "3.8.3"
  }
 },
 "nbformat": 4,
 "nbformat_minor": 4
}
