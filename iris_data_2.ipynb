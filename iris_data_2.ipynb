{
 "cells": [
  {
   "cell_type": "code",
   "execution_count": 1,
   "metadata": {},
   "outputs": [],
   "source": [
    "#Import libraries\n",
    "import random\n",
    "import pandas as pd\n",
    "import matplotlib.pyplot as plt"
   ]
  },
  {
   "cell_type": "code",
   "execution_count": 2,
   "metadata": {},
   "outputs": [],
   "source": [
    "#Setting the variables for my initial data\n",
    "mean = .5\n",
    "std = mean/6\n",
    "datapoints = 20000"
   ]
  },
  {
   "cell_type": "code",
   "execution_count": 3,
   "metadata": {},
   "outputs": [],
   "source": [
    "#Function to get a list with a gaussian distribution\n",
    "def get_gaussian_dist(mean,std,datapoints):\n",
    "    gauss_lst = []\n",
    "    while len(gauss_lst) < datapoints:\n",
    "        sample = random.gauss(mean, std)\n",
    "        if sample >= 0 and sample <= 1:\n",
    "            gauss_lst.append(sample)\n",
    "    return gauss_lst    \n",
    "\n",
    "#Function to calculate the multiplier for water based on 3 regions\n",
    "def get_waterfall(datapoints):\n",
    "    pop = [-.1,0,.1]\n",
    "    wei = [3,3,3]    \n",
    "    lst = []\n",
    "    for points in range(datapoints):\n",
    "        multi = random.choices(pop,wei,k=1)\n",
    "        lst.append(multi[0])\n",
    "    return(lst)"
   ]
  },
  {
   "cell_type": "code",
   "execution_count": 4,
   "metadata": {},
   "outputs": [],
   "source": [
    "gauss_1 = get_gaussian_dist(mean,std,datapoints)\n",
    "gauss_2 = get_gaussian_dist(mean,std,datapoints)\n",
    "water = get_waterfall(datapoints)\n",
    "\n",
    "dict = {'Base_Gauss':gauss_1,'Sun_gauss':gauss_2,'Water_multi':water}\n",
    "fake_iris=pd.DataFrame(dict)"
   ]
  },
  {
   "cell_type": "code",
   "execution_count": 6,
   "metadata": {},
   "outputs": [
    {
     "data": {
      "text/html": [
       "<div>\n",
       "<style scoped>\n",
       "    .dataframe tbody tr th:only-of-type {\n",
       "        vertical-align: middle;\n",
       "    }\n",
       "\n",
       "    .dataframe tbody tr th {\n",
       "        vertical-align: top;\n",
       "    }\n",
       "\n",
       "    .dataframe thead th {\n",
       "        text-align: right;\n",
       "    }\n",
       "</style>\n",
       "<table border=\"1\" class=\"dataframe\">\n",
       "  <thead>\n",
       "    <tr style=\"text-align: right;\">\n",
       "      <th></th>\n",
       "      <th>Base_Gauss</th>\n",
       "      <th>Sun_gauss</th>\n",
       "      <th>Water_multi</th>\n",
       "    </tr>\n",
       "  </thead>\n",
       "  <tbody>\n",
       "    <tr>\n",
       "      <th>17409</th>\n",
       "      <td>0.363938</td>\n",
       "      <td>0.575455</td>\n",
       "      <td>-0.1</td>\n",
       "    </tr>\n",
       "    <tr>\n",
       "      <th>3841</th>\n",
       "      <td>0.708698</td>\n",
       "      <td>0.487989</td>\n",
       "      <td>0.0</td>\n",
       "    </tr>\n",
       "    <tr>\n",
       "      <th>1289</th>\n",
       "      <td>0.561722</td>\n",
       "      <td>0.445556</td>\n",
       "      <td>0.0</td>\n",
       "    </tr>\n",
       "    <tr>\n",
       "      <th>10500</th>\n",
       "      <td>0.479331</td>\n",
       "      <td>0.568143</td>\n",
       "      <td>0.0</td>\n",
       "    </tr>\n",
       "    <tr>\n",
       "      <th>13417</th>\n",
       "      <td>0.529981</td>\n",
       "      <td>0.512941</td>\n",
       "      <td>-0.1</td>\n",
       "    </tr>\n",
       "  </tbody>\n",
       "</table>\n",
       "</div>"
      ],
      "text/plain": [
       "       Base_Gauss  Sun_gauss  Water_multi\n",
       "17409    0.363938   0.575455         -0.1\n",
       "3841     0.708698   0.487989          0.0\n",
       "1289     0.561722   0.445556          0.0\n",
       "10500    0.479331   0.568143          0.0\n",
       "13417    0.529981   0.512941         -0.1"
      ]
     },
     "execution_count": 6,
     "metadata": {},
     "output_type": "execute_result"
    }
   ],
   "source": [
    "fake_iris.sample(5)"
   ]
  },
  {
   "cell_type": "code",
   "execution_count": 7,
   "metadata": {},
   "outputs": [],
   "source": [
    "fake_iris['plant_1_base'] = fake_iris['Base_Gauss'] + 9.7\n",
    "fake_iris['plant_2_base'] = fake_iris['Base_Gauss'] + 10.3\n",
    "fake_iris['plant_3_base'] = (fake_iris['Base_Gauss'] * 1.5) + 10.0"
   ]
  },
  {
   "cell_type": "code",
   "execution_count": 8,
   "metadata": {},
   "outputs": [
    {
     "data": {
      "text/html": [
       "<div>\n",
       "<style scoped>\n",
       "    .dataframe tbody tr th:only-of-type {\n",
       "        vertical-align: middle;\n",
       "    }\n",
       "\n",
       "    .dataframe tbody tr th {\n",
       "        vertical-align: top;\n",
       "    }\n",
       "\n",
       "    .dataframe thead th {\n",
       "        text-align: right;\n",
       "    }\n",
       "</style>\n",
       "<table border=\"1\" class=\"dataframe\">\n",
       "  <thead>\n",
       "    <tr style=\"text-align: right;\">\n",
       "      <th></th>\n",
       "      <th>Base_Gauss</th>\n",
       "      <th>Sun_gauss</th>\n",
       "      <th>Water_multi</th>\n",
       "      <th>plant_1_base</th>\n",
       "      <th>plant_2_base</th>\n",
       "      <th>plant_3_base</th>\n",
       "    </tr>\n",
       "  </thead>\n",
       "  <tbody>\n",
       "    <tr>\n",
       "      <th>3722</th>\n",
       "      <td>0.472031</td>\n",
       "      <td>0.335620</td>\n",
       "      <td>0.1</td>\n",
       "      <td>10.172031</td>\n",
       "      <td>10.772031</td>\n",
       "      <td>10.708047</td>\n",
       "    </tr>\n",
       "    <tr>\n",
       "      <th>471</th>\n",
       "      <td>0.632441</td>\n",
       "      <td>0.473007</td>\n",
       "      <td>0.1</td>\n",
       "      <td>10.332441</td>\n",
       "      <td>10.932441</td>\n",
       "      <td>10.948662</td>\n",
       "    </tr>\n",
       "    <tr>\n",
       "      <th>1764</th>\n",
       "      <td>0.470828</td>\n",
       "      <td>0.529122</td>\n",
       "      <td>0.0</td>\n",
       "      <td>10.170828</td>\n",
       "      <td>10.770828</td>\n",
       "      <td>10.706242</td>\n",
       "    </tr>\n",
       "    <tr>\n",
       "      <th>11725</th>\n",
       "      <td>0.537027</td>\n",
       "      <td>0.562983</td>\n",
       "      <td>0.1</td>\n",
       "      <td>10.237027</td>\n",
       "      <td>10.837027</td>\n",
       "      <td>10.805541</td>\n",
       "    </tr>\n",
       "    <tr>\n",
       "      <th>9700</th>\n",
       "      <td>0.642720</td>\n",
       "      <td>0.600231</td>\n",
       "      <td>-0.1</td>\n",
       "      <td>10.342720</td>\n",
       "      <td>10.942720</td>\n",
       "      <td>10.964079</td>\n",
       "    </tr>\n",
       "  </tbody>\n",
       "</table>\n",
       "</div>"
      ],
      "text/plain": [
       "       Base_Gauss  Sun_gauss  Water_multi  plant_1_base  plant_2_base  \\\n",
       "3722     0.472031   0.335620          0.1     10.172031     10.772031   \n",
       "471      0.632441   0.473007          0.1     10.332441     10.932441   \n",
       "1764     0.470828   0.529122          0.0     10.170828     10.770828   \n",
       "11725    0.537027   0.562983          0.1     10.237027     10.837027   \n",
       "9700     0.642720   0.600231         -0.1     10.342720     10.942720   \n",
       "\n",
       "       plant_3_base  \n",
       "3722      10.708047  \n",
       "471       10.948662  \n",
       "1764      10.706242  \n",
       "11725     10.805541  \n",
       "9700      10.964079  "
      ]
     },
     "execution_count": 8,
     "metadata": {},
     "output_type": "execute_result"
    }
   ],
   "source": [
    "fake_iris.sample(5)"
   ]
  },
  {
   "cell_type": "code",
   "execution_count": null,
   "metadata": {},
   "outputs": [],
   "source": []
  },
  {
   "cell_type": "code",
   "execution_count": null,
   "metadata": {},
   "outputs": [],
   "source": []
  },
  {
   "cell_type": "code",
   "execution_count": null,
   "metadata": {},
   "outputs": [],
   "source": []
  },
  {
   "cell_type": "code",
   "execution_count": null,
   "metadata": {
    "scrolled": true
   },
   "outputs": [],
   "source": []
  },
  {
   "cell_type": "code",
   "execution_count": null,
   "metadata": {},
   "outputs": [],
   "source": []
  },
  {
   "cell_type": "code",
   "execution_count": null,
   "metadata": {},
   "outputs": [],
   "source": []
  },
  {
   "cell_type": "code",
   "execution_count": null,
   "metadata": {},
   "outputs": [],
   "source": []
  }
 ],
 "metadata": {
  "kernelspec": {
   "display_name": "Python 3",
   "language": "python",
   "name": "python3"
  },
  "language_info": {
   "codemirror_mode": {
    "name": "ipython",
    "version": 3
   },
   "file_extension": ".py",
   "mimetype": "text/x-python",
   "name": "python",
   "nbconvert_exporter": "python",
   "pygments_lexer": "ipython3",
   "version": "3.8.3"
  }
 },
 "nbformat": 4,
 "nbformat_minor": 4
}
