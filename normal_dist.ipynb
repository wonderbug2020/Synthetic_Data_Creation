{
 "cells": [
  {
   "cell_type": "code",
   "execution_count": 1,
   "metadata": {},
   "outputs": [],
   "source": [
    "import random\n",
    "import matplotlib.pyplot as plt"
   ]
  },
  {
   "cell_type": "code",
   "execution_count": 2,
   "metadata": {},
   "outputs": [],
   "source": [
    "mean = 5000\n",
    "stdev_1 = 2500/1\n",
    "stdev_3 = 2500/3\n",
    "stdev_6 = 2500/6"
   ]
  },
  {
   "cell_type": "code",
   "execution_count": 6,
   "metadata": {},
   "outputs": [],
   "source": [
    "def get_lst(mean, std):\n",
    "    blk_lst = []\n",
    "    while len(blk_lst) < 10000:\n",
    "        sample = random.gauss(mean, std)\n",
    "        if sample >= 2500 and sample < 7500:\n",
    "            blk_lst.append(sample)\n",
    "            \n",
    "    return blk_lst"
   ]
  },
  {
   "cell_type": "code",
   "execution_count": 7,
   "metadata": {},
   "outputs": [],
   "source": [
    "dist_1 = get_lst(mean, stdev_1)\n",
    "dist_3 = get_lst(mean, stdev_3)\n",
    "dist_6 = get_lst(mean, stdev_6)"
   ]
  },
  {
   "cell_type": "code",
   "execution_count": 15,
   "metadata": {},
   "outputs": [
    {
     "data": {
      "text/plain": [
       "(array([151., 146., 146., 124., 191., 173., 201., 189., 195., 193., 217.,\n",
       "        197., 179., 209., 212., 216., 213., 199., 225., 259., 230., 228.,\n",
       "        232., 211., 257., 218., 242., 249., 237., 221., 244., 217., 214.,\n",
       "        214., 220., 209., 232., 223., 180., 212., 209., 178., 164., 190.,\n",
       "        134., 170., 178., 152., 147., 153.]),\n",
       " array([2500.41746168, 2600.39471259, 2700.37196349, 2800.3492144 ,\n",
       "        2900.3264653 , 3000.3037162 , 3100.28096711, 3200.25821801,\n",
       "        3300.23546891, 3400.21271982, 3500.18997072, 3600.16722163,\n",
       "        3700.14447253, 3800.12172343, 3900.09897434, 4000.07622524,\n",
       "        4100.05347615, 4200.03072705, 4300.00797795, 4399.98522886,\n",
       "        4499.96247976, 4599.93973067, 4699.91698157, 4799.89423247,\n",
       "        4899.87148338, 4999.84873428, 5099.82598519, 5199.80323609,\n",
       "        5299.78048699, 5399.7577379 , 5499.7349888 , 5599.71223971,\n",
       "        5699.68949061, 5799.66674151, 5899.64399242, 5999.62124332,\n",
       "        6099.59849423, 6199.57574513, 6299.55299603, 6399.53024694,\n",
       "        6499.50749784, 6599.48474874, 6699.46199965, 6799.43925055,\n",
       "        6899.41650146, 6999.39375236, 7099.37100326, 7199.34825417,\n",
       "        7299.32550507, 7399.30275598, 7499.28000688]),\n",
       " <a list of 50 Patch objects>)"
      ]
     },
     "execution_count": 15,
     "metadata": {},
     "output_type": "execute_result"
    },
    {
     "data": {
      "image/png": "[encoded data removed]",
      "text/plain": [
       "<Figure size 432x288 with 1 Axes>"
      ]
     },
     "metadata": {
      "needs_background": "light"
     },
     "output_type": "display_data"
    }
   ],
   "source": [
    "plt.hist(dist_6,bins=50,color='green')\n",
    "plt.hist(dist_3,bins=50,color='orange')\n",
    "plt.hist(dist_1,bins=50,color='blue')"
   ]
  },
  {
   "cell_type": "code",
   "execution_count": 4,
   "metadata": {},
   "outputs": [],
   "source": [
    "values_unbound = [random.gauss(mean, stdev) for _ in range(10000)]"
   ]
  },
  {
   "cell_type": "code",
   "execution_count": 6,
   "metadata": {},
   "outputs": [],
   "source": [
    "values_bound = []\n",
    "while len(values_bound) < 10000:\n",
    "    sample = random.gauss(mean, stdev)\n",
    "    if sample >= 2500 and sample < 7500:\n",
    "        values_bound.append(sample)"
   ]
  },
  {
   "cell_type": "code",
   "execution_count": 9,
   "metadata": {
    "scrolled": true
   },
   "outputs": [
    {
     "ename": "NameError",
     "evalue": "name 'values_unbound' is not defined",
     "output_type": "error",
     "traceback": [
      "\u001b[1;31m---------------------------------------------------------------------------\u001b[0m",
      "\u001b[1;31mNameError\u001b[0m                                 Traceback (most recent call last)",
      "\u001b[1;32m<ipython-input-9-f4a067663e1e>\u001b[0m in \u001b[0;36m<module>\u001b[1;34m\u001b[0m\n\u001b[0;32m      1\u001b[0m \u001b[1;31m#ax[0].hist(X1.rvs(10000), normed=True)\u001b[0m\u001b[1;33m\u001b[0m\u001b[1;33m\u001b[0m\u001b[1;33m\u001b[0m\u001b[0m\n\u001b[1;32m----> 2\u001b[1;33m \u001b[0mplt\u001b[0m\u001b[1;33m.\u001b[0m\u001b[0mhist\u001b[0m\u001b[1;33m(\u001b[0m\u001b[0mvalues_unbound\u001b[0m\u001b[1;33m,\u001b[0m\u001b[0mbins\u001b[0m\u001b[1;33m=\u001b[0m\u001b[1;36m50\u001b[0m\u001b[1;33m)\u001b[0m\u001b[1;33m\u001b[0m\u001b[1;33m\u001b[0m\u001b[0m\n\u001b[0m",
      "\u001b[1;31mNameError\u001b[0m: name 'values_unbound' is not defined"
     ]
    }
   ],
   "source": [
    "#ax[0].hist(X1.rvs(10000), normed=True)\n",
    "plt.hist(values_unbound,bins=50)"
   ]
  },
  {
   "cell_type": "code",
   "execution_count": 12,
   "metadata": {},
   "outputs": [
    {
     "data": {
      "text/plain": [
       "(array([  78.,  273.,  808., 1593., 2259., 2204., 1541.,  881.,  286.,\n",
       "          77.]),\n",
       " array([2519.06109818, 3013.5017851 , 3507.94247202, 4002.38315895,\n",
       "        4496.82384587, 4991.26453279, 5485.70521971, 5980.14590663,\n",
       "        6474.58659355, 6969.02728047, 7463.46796739]),\n",
       " <a list of 10 Patch objects>)"
      ]
     },
     "execution_count": 12,
     "metadata": {},
     "output_type": "execute_result"
    },
    {
     "data": {
      "image/png": "[encoded data removed]",
      "text/plain": [
       "<Figure size 432x288 with 1 Axes>"
      ]
     },
     "metadata": {
      "needs_background": "light"
     },
     "output_type": "display_data"
    }
   ],
   "source": [
    "plt.hist(values_bound)"
   ]
  },
  {
   "cell_type": "code",
   "execution_count": 15,
   "metadata": {},
   "outputs": [
    {
     "data": {
      "text/plain": [
       "(array([  7.,  10.,  22.,  17.,  22.,  32.,  49.,  57.,  56.,  79., 110.,\n",
       "        148., 155., 174., 221., 253., 276., 302., 355., 407., 443., 423.,\n",
       "        443., 483., 467., 499., 438., 418., 431., 418., 376., 353., 273.,\n",
       "        294., 245., 249., 204., 156., 145., 127.,  84.,  69.,  63.,  35.,\n",
       "         35.,  15.,  22.,  18.,  13.,   9.]),\n",
       " array([2519.06109818, 2617.94923557, 2716.83737295, 2815.72551033,\n",
       "        2914.61364772, 3013.5017851 , 3112.38992249, 3211.27805987,\n",
       "        3310.16619726, 3409.05433464, 3507.94247202, 3606.83060941,\n",
       "        3705.71874679, 3804.60688418, 3903.49502156, 4002.38315895,\n",
       "        4101.27129633, 4200.15943371, 4299.0475711 , 4397.93570848,\n",
       "        4496.82384587, 4595.71198325, 4694.60012064, 4793.48825802,\n",
       "        4892.3763954 , 4991.26453279, 5090.15267017, 5189.04080756,\n",
       "        5287.92894494, 5386.81708233, 5485.70521971, 5584.59335709,\n",
       "        5683.48149448, 5782.36963186, 5881.25776925, 5980.14590663,\n",
       "        6079.03404401, 6177.9221814 , 6276.81031878, 6375.69845617,\n",
       "        6474.58659355, 6573.47473094, 6672.36286832, 6771.2510057 ,\n",
       "        6870.13914309, 6969.02728047, 7067.91541786, 7166.80355524,\n",
       "        7265.69169263, 7364.57983001, 7463.46796739]),\n",
       " <a list of 50 Patch objects>)"
      ]
     },
     "execution_count": 15,
     "metadata": {},
     "output_type": "execute_result"
    },
    {
     "data": {
      "image/png": "[encoded data removed]",
      "text/plain": [
       "<Figure size 432x288 with 1 Axes>"
      ]
     },
     "metadata": {
      "needs_background": "light"
     },
     "output_type": "display_data"
    }
   ],
   "source": [
    "plt.hist(values_bound,bins=50)"
   ]
  },
  {
   "cell_type": "code",
   "execution_count": 16,
   "metadata": {},
   "outputs": [
    {
     "data": {
      "text/plain": [
       "(array([  5.,   2.,   8.,   5.,  11.,  14.,  26.,  35.,  51.,  71.,  77.,\n",
       "        112., 159., 210., 248., 266., 311., 400., 477., 467., 509., 587.,\n",
       "        577., 657., 635., 543., 544., 487., 482., 374., 351., 266., 205.,\n",
       "        187., 172., 106., 100.,  59.,  77.,  36.,  26.,  19.,  19.,   5.,\n",
       "          7.,   8.,   4.,   1.,   0.,   2.]),\n",
       " array([2085.93094304, 2209.38745102, 2332.84395901, 2456.300467  ,\n",
       "        2579.75697498, 2703.21348297, 2826.66999095, 2950.12649894,\n",
       "        3073.58300693, 3197.03951491, 3320.4960229 , 3443.95253088,\n",
       "        3567.40903887, 3690.86554686, 3814.32205484, 3937.77856283,\n",
       "        4061.23507082, 4184.6915788 , 4308.14808679, 4431.60459477,\n",
       "        4555.06110276, 4678.51761075, 4801.97411873, 4925.43062672,\n",
       "        5048.88713471, 5172.34364269, 5295.80015068, 5419.25665866,\n",
       "        5542.71316665, 5666.16967464, 5789.62618262, 5913.08269061,\n",
       "        6036.5391986 , 6159.99570658, 6283.45221457, 6406.90872255,\n",
       "        6530.36523054, 6653.82173853, 6777.27824651, 6900.7347545 ,\n",
       "        7024.19126248, 7147.64777047, 7271.10427846, 7394.56078644,\n",
       "        7518.01729443, 7641.47380242, 7764.9303104 , 7888.38681839,\n",
       "        8011.84332637, 8135.29983436, 8258.75634235]),\n",
       " <a list of 50 Patch objects>)"
      ]
     },
     "execution_count": 16,
     "metadata": {},
     "output_type": "execute_result"
    },
    {
     "data": {
      "image/png": "[encoded data removed]",
      "text/plain": [
       "<Figure size 432x288 with 1 Axes>"
      ]
     },
     "metadata": {
      "needs_background": "light"
     },
     "output_type": "display_data"
    }
   ],
   "source": [
    "plt.hist(values_unbound,bins=50)"
   ]
  },
  {
   "cell_type": "code",
   "execution_count": null,
   "metadata": {},
   "outputs": [],
   "source": []
  }
 ],
 "metadata": {
  "kernelspec": {
   "display_name": "Python 3",
   "language": "python",
   "name": "python3"
  },
  "language_info": {
   "codemirror_mode": {
    "name": "ipython",
    "version": 3
   },
   "file_extension": ".py",
   "mimetype": "text/x-python",
   "name": "python",
   "nbconvert_exporter": "python",
   "pygments_lexer": "ipython3",
   "version": "3.8.3"
  }
 },
 "nbformat": 4,
 "nbformat_minor": 4
}
