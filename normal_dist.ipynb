{
 "cells": [
  {
   "cell_type": "code",
   "execution_count": 9,
   "metadata": {},
   "outputs": [],
   "source": [
    "import random\n",
    "import matplotlib.pyplot as plt"
   ]
  },
  {
   "cell_type": "code",
   "execution_count": 3,
   "metadata": {},
   "outputs": [],
   "source": [
    "mean = 5000\n",
    "stdev = 2500/3"
   ]
  },
  {
   "cell_type": "code",
   "execution_count": 4,
   "metadata": {},
   "outputs": [],
   "source": [
    "values_unbound = [random.gauss(mean, stdev) for _ in range(10000)]"
   ]
  },
  {
   "cell_type": "code",
   "execution_count": 6,
   "metadata": {},
   "outputs": [],
   "source": [
    "values_bound = []\n",
    "while len(values_bound) < 10000:\n",
    "    sample = random.gauss(mean, stdev)\n",
    "    if sample >= 2500 and sample < 7500:\n",
    "        values_bound.append(sample)"
   ]
  },
  {
   "cell_type": "code",
   "execution_count": 11,
   "metadata": {
    "scrolled": true
   },
   "outputs": [
    {
     "data": {
      "text/plain": [
       "(array([  31.,  197.,  806., 1921., 2965., 2430., 1181.,  378.,   76.,\n",
       "          15.]),\n",
       " array([2085.93094304, 2703.21348297, 3320.4960229 , 3937.77856283,\n",
       "        4555.06110276, 5172.34364269, 5789.62618262, 6406.90872255,\n",
       "        7024.19126248, 7641.47380242, 8258.75634235]),\n",
       " <a list of 10 Patch objects>)"
      ]
     },
     "execution_count": 11,
     "metadata": {},
     "output_type": "execute_result"
    },
    {
     "data": {
      "image/png": "[encoded data removed]",
      "text/plain": [
       "<Figure size 432x288 with 1 Axes>"
      ]
     },
     "metadata": {
      "needs_background": "light"
     },
     "output_type": "display_data"
    }
   ],
   "source": [
    "#ax[0].hist(X1.rvs(10000), normed=True)\n",
    "plt.hist(values_unbound)"
   ]
  },
  {
   "cell_type": "code",
   "execution_count": 12,
   "metadata": {},
   "outputs": [
    {
     "data": {
      "text/plain": [
       "(array([  78.,  273.,  808., 1593., 2259., 2204., 1541.,  881.,  286.,\n",
       "          77.]),\n",
       " array([2519.06109818, 3013.5017851 , 3507.94247202, 4002.38315895,\n",
       "        4496.82384587, 4991.26453279, 5485.70521971, 5980.14590663,\n",
       "        6474.58659355, 6969.02728047, 7463.46796739]),\n",
       " <a list of 10 Patch objects>)"
      ]
     },
     "execution_count": 12,
     "metadata": {},
     "output_type": "execute_result"
    },
    {
     "data": {
      "image/png": "[encoded data removed]",
      "text/plain": [
       "<Figure size 432x288 with 1 Axes>"
      ]
     },
     "metadata": {
      "needs_background": "light"
     },
     "output_type": "display_data"
    }
   ],
   "source": [
    "plt.hist(values_bound)"
   ]
  },
  {
   "cell_type": "code",
   "execution_count": 15,
   "metadata": {},
   "outputs": [
    {
     "data": {
      "text/plain": [
       "(array([  7.,  10.,  22.,  17.,  22.,  32.,  49.,  57.,  56.,  79., 110.,\n",
       "        148., 155., 174., 221., 253., 276., 302., 355., 407., 443., 423.,\n",
       "        443., 483., 467., 499., 438., 418., 431., 418., 376., 353., 273.,\n",
       "        294., 245., 249., 204., 156., 145., 127.,  84.,  69.,  63.,  35.,\n",
       "         35.,  15.,  22.,  18.,  13.,   9.]),\n",
       " array([2519.06109818, 2617.94923557, 2716.83737295, 2815.72551033,\n",
       "        2914.61364772, 3013.5017851 , 3112.38992249, 3211.27805987,\n",
       "        3310.16619726, 3409.05433464, 3507.94247202, 3606.83060941,\n",
       "        3705.71874679, 3804.60688418, 3903.49502156, 4002.38315895,\n",
       "        4101.27129633, 4200.15943371, 4299.0475711 , 4397.93570848,\n",
       "        4496.82384587, 4595.71198325, 4694.60012064, 4793.48825802,\n",
       "        4892.3763954 , 4991.26453279, 5090.15267017, 5189.04080756,\n",
       "        5287.92894494, 5386.81708233, 5485.70521971, 5584.59335709,\n",
       "        5683.48149448, 5782.36963186, 5881.25776925, 5980.14590663,\n",
       "        6079.03404401, 6177.9221814 , 6276.81031878, 6375.69845617,\n",
       "        6474.58659355, 6573.47473094, 6672.36286832, 6771.2510057 ,\n",
       "        6870.13914309, 6969.02728047, 7067.91541786, 7166.80355524,\n",
       "        7265.69169263, 7364.57983001, 7463.46796739]),\n",
       " <a list of 50 Patch objects>)"
      ]
     },
     "execution_count": 15,
     "metadata": {},
     "output_type": "execute_result"
    },
    {
     "data": {
      "image/png": "[encoded data removed]",
      "text/plain": [
       "<Figure size 432x288 with 1 Axes>"
      ]
     },
     "metadata": {
      "needs_background": "light"
     },
     "output_type": "display_data"
    }
   ],
   "source": [
    "plt.hist(values_bound,bins=50)"
   ]
  },
  {
   "cell_type": "code",
   "execution_count": null,
   "metadata": {},
   "outputs": [],
   "source": []
  }
 ],
 "metadata": {
  "kernelspec": {
   "display_name": "Python 3",
   "language": "python",
   "name": "python3"
  },
  "language_info": {
   "codemirror_mode": {
    "name": "ipython",
    "version": 3
   },
   "file_extension": ".py",
   "mimetype": "text/x-python",
   "name": "python",
   "nbconvert_exporter": "python",
   "pygments_lexer": "ipython3",
   "version": "3.8.3"
  }
 },
 "nbformat": 4,
 "nbformat_minor": 4
}
