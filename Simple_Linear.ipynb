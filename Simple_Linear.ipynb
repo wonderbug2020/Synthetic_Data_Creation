{
 "cells": [
  {
   "cell_type": "code",
   "execution_count": null,
   "metadata": {},
   "outputs": [],
   "source": [
    "import pandas as pd\n",
    "import random\n",
    "import matplotlib.pyplot as plt"
   ]
  },
  {
   "cell_type": "code",
   "execution_count": null,
   "metadata": {},
   "outputs": [],
   "source": [
    "x=[]\n",
    "y=[]\n",
    "rand_var=[]\n",
    "x_base=.5\n",
    "y_base=.25\n",
    "mult = [25,20,20,15,15,15,10,10,10,10,5,5,5,5,0,0\n",
    "        ,0,0,5,5,5,5,10,10,10,10,15,15,15,20,20,25]\n",
    "data_points=1500\n",
    "for point in range(data_points):\n",
    "    x.append((point+1)*x_base)\n",
    "    y.append((point+1)*y_base)\n",
    "    rand_var.append(((point+1)*y_base)*(1+random.choice(mult)))"
   ]
  },
  {
   "cell_type": "code",
   "execution_count": null,
   "metadata": {
    "scrolled": true
   },
   "outputs": [],
   "source": [
    "dict = {'variable':x,'solution':y,'rand_var':rand_var}\n",
    "sim_lin=pd.DataFrame(dict)\n",
    "sim_lin.sample(8)"
   ]
  },
  {
   "cell_type": "code",
   "execution_count": null,
   "metadata": {},
   "outputs": [],
   "source": [
    "sim_lin.plot.scatter(x='variable', y='solution')"
   ]
  },
  {
   "cell_type": "code",
   "execution_count": null,
   "metadata": {},
   "outputs": [],
   "source": [
    "sim_lin.plot.scatter(x='rand_var',y='solution')"
   ]
  },
  {
   "cell_type": "code",
   "execution_count": null,
   "metadata": {},
   "outputs": [],
   "source": [
    "x=[]\n",
    "y=[]\n",
    "rand_var=[]\n",
    "x_base=.5\n",
    "y_base=.25\n",
    "#rander\n",
    "data_points=1500\n",
    "for point in range(data_points):\n",
    "    x.append((point+1)*x_base)\n",
    "    y.append((point+1)*y_base)\n",
    "    rand_var.append(((point+1)*y_base)*(1+random.random()))"
   ]
  },
  {
   "cell_type": "code",
   "execution_count": null,
   "metadata": {},
   "outputs": [],
   "source": [
    "dict = {'variable':x,'solution':y,'rand_var':rand_var}\n",
    "sim_lin=pd.DataFrame(dict)\n",
    "sim_lin.sample(8)"
   ]
  },
  {
   "cell_type": "code",
   "execution_count": null,
   "metadata": {},
   "outputs": [],
   "source": [
    "sim_lin.plot.scatter(x='variable',y='rand_var')"
   ]
  },
  {
   "cell_type": "code",
   "execution_count": null,
   "metadata": {},
   "outputs": [],
   "source": [
    "def get_random():\n",
    "    pos_neg_lst = [-1,1]\n",
    "    rand = random.random()\n",
    "    pos_neg = random.choice(pos_neg_lst)\n",
    "    pos_neg_rand = (1+rand)*pos_neg\n",
    "    #print(pos_neg_rand)\n",
    "    return(pos_neg_rand)"
   ]
  },
  {
   "cell_type": "code",
   "execution_count": null,
   "metadata": {},
   "outputs": [],
   "source": [
    "get_random()"
   ]
  },
  {
   "cell_type": "code",
   "execution_count": null,
   "metadata": {},
   "outputs": [],
   "source": [
    "x=[]\n",
    "y=[]\n",
    "rand_var=[]\n",
    "x_base=.5\n",
    "y_base=.25\n",
    "data_points=1500\n",
    "for point in range(data_points):\n",
    "    x.append((point+1)*x_base)\n",
    "    y.append((point+1)*y_base)\n",
    "    rand_var.append(((point+1)*y_base)*get_random())"
   ]
  },
  {
   "cell_type": "code",
   "execution_count": null,
   "metadata": {},
   "outputs": [],
   "source": [
    "dict = {'variable':x,'solution':y,'rand_var':rand_var}\n",
    "sim_lin=pd.DataFrame(dict)\n",
    "sim_lin.sample(8)"
   ]
  },
  {
   "cell_type": "code",
   "execution_count": null,
   "metadata": {},
   "outputs": [],
   "source": [
    "#out for pos_neg_rand = (1+rand)*pos_neg\n",
    "sim_lin.plot.scatter(x='variable',y='rand_var')"
   ]
  },
  {
   "cell_type": "code",
   "execution_count": null,
   "metadata": {},
   "outputs": [],
   "source": [
    "def get_random_2():\n",
    "    pos_neg_lst = [-1,1]\n",
    "    rand = random.random()\n",
    "    pos_neg = random.choice(pos_neg_lst)\n",
    "    pos_neg_rand = (1+rand)*pos_neg\n",
    "    #print(pos_neg_rand)\n",
    "    return(pos_neg_rand)"
   ]
  },
  {
   "cell_type": "code",
   "execution_count": null,
   "metadata": {},
   "outputs": [],
   "source": [
    "x=[]\n",
    "y=[]\n",
    "rand_var=[]\n",
    "for point in range(data_points):\n",
    "    x.append((point+1)*x_base)\n",
    "    y.append((point+1)*y_base)\n",
    "    #rand_var.append((70*x[point])*get_random_2())\n",
    "    rand_var.append(y[point]+(70*get_random_2()))\n",
    "    \n",
    "dict = {'variable':x,'solution':y,'rand_var':rand_var}\n",
    "sim_lin=pd.DataFrame(dict)\n",
    "\n",
    "#out for pos_neg_rand = (1+rand)*pos_neg\n",
    "#takr thje median \n",
    "sim_lin.plot.scatter(x='variable',y='rand_var')"
   ]
  },
  {
   "cell_type": "code",
   "execution_count": null,
   "metadata": {},
   "outputs": [],
   "source": [
    "def get_random_3():\n",
    "    pos_neg_lst = [-1,1]\n",
    "    rand = random.random()\n",
    "    pos_neg = random.choice(pos_neg_lst)\n",
    "    pos_neg_rand = (rand)*pos_neg\n",
    "    #print(pos_neg_rand)\n",
    "    return(pos_neg_rand)"
   ]
  },
  {
   "cell_type": "code",
   "execution_count": null,
   "metadata": {},
   "outputs": [],
   "source": [
    "x=[]\n",
    "y=[]\n",
    "rand_var=[]\n",
    "for point in range(data_points):\n",
    "    x.append((point+1)*x_base)\n",
    "    y.append((point+1)*y_base)\n",
    "    #rand_var.append((70*x[point])*get_random_2())\n",
    "    rand_var.append(y[point]+(70*get_random_3()))\n",
    "    \n",
    "dict = {'variable':x,'solution':y,'rand_var':rand_var}\n",
    "sim_lin=pd.DataFrame(dict)\n",
    "\n",
    "#out for pos_neg_rand = (1+rand)*pos_neg\n",
    "#takr thje median \n",
    "#sim_lin.plot.scatter(x='variable',y='rand_var')\n",
    "plt.scatter(sim_lin['variable'],sim_lin['rand_var'])\n",
    "plt.plot(sim_lin['variable'],sim_lin['solution'],color='red')"
   ]
  },
  {
   "cell_type": "code",
   "execution_count": null,
   "metadata": {},
   "outputs": [],
   "source": [
    "def get_random_4():\n",
    "    pos_neg_lst = [-1,1]\n",
    "    pop = [0.0001,1,2,3,4,5,10]\n",
    "    weight = [35,35,15,5,2.5,2.4,.1]\n",
    "    rand = random.random()\n",
    "    pos_neg = random.choice(pos_neg_lst)\n",
    "    multi = random.choices(pop,weight,k=1)\n",
    "    pos_neg_rand = rand*pos_neg*multi[0]\n",
    "    #print(pos_neg_rand)\n",
    "    \n",
    "    return(pos_neg_rand)"
   ]
  },
  {
   "cell_type": "code",
   "execution_count": null,
   "metadata": {},
   "outputs": [],
   "source": [
    "x=[]\n",
    "y=[]\n",
    "rand_var=[]\n",
    "for point in range(data_points):\n",
    "    x.append((point+1)*x_base)\n",
    "    y.append((point+1)*y_base)\n",
    "    rand_var.append(y[point]+(70*get_random_4()))\n",
    "    \n",
    "dict = {'variable':x,'solution':y,'rand_var':rand_var}\n",
    "sim_lin=pd.DataFrame(dict)\n",
    "\n",
    "#out for pos_neg_rand = (1+rand)*pos_neg\n",
    "#takr thje median \n",
    "#sim_lin.plot.scatter(x='variable',y='rand_var')\n",
    "plt.scatter(sim_lin['variable'],sim_lin['rand_var'])\n",
    "plt.plot(sim_lin['variable'],sim_lin['solution'],color='red')"
   ]
  },
  {
   "cell_type": "code",
   "execution_count": null,
   "metadata": {},
   "outputs": [],
   "source": [
    "def get_random_5():\n",
    "    pos_neg_lst = [-1,1]\n",
    "    pop = [0.0,1,1.5,2,3,4,5,10]\n",
    "    weight = [15,35,20,15,5,2.5,2.4,.1]\n",
    "    rand = random.random()\n",
    "    pos_neg = random.choice(pos_neg_lst)\n",
    "    multi = random.choices(pop,weight,k=1)\n",
    "    pos_neg_rand = rand*pos_neg*multi[0]\n",
    "    #print(pos_neg_rand)\n",
    "    \n",
    "    return(pos_neg_rand)"
   ]
  },
  {
   "cell_type": "code",
   "execution_count": null,
   "metadata": {},
   "outputs": [],
   "source": [
    "x=[]\n",
    "y=[]\n",
    "rand_var=[]\n",
    "for point in range(data_points):\n",
    "    x.append((point+1)*x_base)\n",
    "    y.append((point+1)*y_base)\n",
    "    rand_var.append(y[point]+(70*get_random_5()))\n",
    "    \n",
    "dict = {'variable':x,'solution':y,'rand_var':rand_var}\n",
    "sim_lin=pd.DataFrame(dict)\n",
    "\n",
    "#out for pos_neg_rand = (1+rand)*pos_neg\n",
    "#takr thje median \n",
    "#sim_lin.plot.scatter(x='variable',y='rand_var')\n",
    "plt.scatter(sim_lin['variable'],sim_lin['rand_var'])\n",
    "plt.plot(sim_lin['variable'],sim_lin['solution'],color='red')"
   ]
  },
  {
   "cell_type": "code",
   "execution_count": null,
   "metadata": {},
   "outputs": [],
   "source": [
    "def get_random_6():\n",
    "    pos_neg_lst = [-1,1]\n",
    "    pop = [1,1.5,2,2.5,3,4,5,10]\n",
    "    weight = [32.5,20,15,10,9,7.5,5,.5]\n",
    "    rand = random.random()\n",
    "    pos_neg = random.choice(pos_neg_lst)\n",
    "    multi = random.choices(pop,weight,k=1)\n",
    "    pos_neg_rand = rand*pos_neg*multi[0]\n",
    "    #print(pos_neg_rand)\n",
    "    \n",
    "    return(pos_neg_rand)"
   ]
  },
  {
   "cell_type": "code",
   "execution_count": null,
   "metadata": {},
   "outputs": [],
   "source": [
    "x=[]\n",
    "y=[]\n",
    "rand_var=[]\n",
    "removal = []\n",
    "rem_cho = [0,1]\n",
    "rem_weight = [16,84]   \n",
    "for point in range(data_points):\n",
    "    x.append((point+1)*x_base)\n",
    "    y.append((point+1)*y_base)\n",
    "    rand_var.append(y[point]+(70*get_random_6()))\n",
    "    removal.append(random.choices(rem_cho,rem_weight)[0])\n",
    "    \n",
    "dict = {'variable':x,'solution':y,'rand_var':rand_var,'removal_odds':removal}\n",
    "sim_lin=pd.DataFrame(dict)\n",
    "plt.scatter(sim_lin['variable'],sim_lin['rand_var'])\n",
    "plt.plot(sim_lin['variable'],sim_lin['solution'],color='red')"
   ]
  },
  {
   "cell_type": "code",
   "execution_count": null,
   "metadata": {},
   "outputs": [],
   "source": [
    "sim_lin.head()"
   ]
  },
  {
   "cell_type": "code",
   "execution_count": null,
   "metadata": {},
   "outputs": [],
   "source": [
    "new_sim_lin = sim_lin.loc[sim_lin['removal_odds']==1]"
   ]
  },
  {
   "cell_type": "code",
   "execution_count": null,
   "metadata": {},
   "outputs": [],
   "source": [
    "new_sim_lin.head()"
   ]
  },
  {
   "cell_type": "code",
   "execution_count": null,
   "metadata": {},
   "outputs": [],
   "source": [
    "plt.scatter(new_sim_lin['variable'],new_sim_lin['rand_var'])\n",
    "plt.plot(new_sim_lin['variable'],new_sim_lin['solution'],color='red')"
   ]
  },
  {
   "cell_type": "code",
   "execution_count": null,
   "metadata": {},
   "outputs": [],
   "source": []
  }
 ],
 "metadata": {
  "kernelspec": {
   "display_name": "Python 3",
   "language": "python",
   "name": "python3"
  },
  "language_info": {
   "codemirror_mode": {
    "name": "ipython",
    "version": 3
   },
   "file_extension": ".py",
   "mimetype": "text/x-python",
   "name": "python",
   "nbconvert_exporter": "python",
   "pygments_lexer": "ipython3",
   "version": "3.8.3"
  }
 },
 "nbformat": 4,
 "nbformat_minor": 4
}
