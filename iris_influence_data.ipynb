{
 "cells": [
  {
   "cell_type": "code",
   "execution_count": null,
   "metadata": {},
   "outputs": [],
   "source": [
    "#Import libraries\n",
    "import random\n",
    "import pandas as pd\n",
    "import matplotlib.pyplot as plt"
   ]
  },
  {
   "cell_type": "code",
   "execution_count": null,
   "metadata": {},
   "outputs": [],
   "source": [
    "#Setting the variables for my initial data\n",
    "mean = .5\n",
    "std = mean/6"
   ]
  },
  {
   "cell_type": "code",
   "execution_count": null,
   "metadata": {},
   "outputs": [],
   "source": [
    "nrm_raw = []\n",
    "while len(nrm_raw) <= 20000:\n",
    "    sample = random.gauss(mean, std)\n",
    "    if sample >=0 and sample <= 1:\n",
    "        nrm_raw.append(sample)"
   ]
  },
  {
   "cell_type": "code",
   "execution_count": null,
   "metadata": {},
   "outputs": [],
   "source": [
    "dict = {'nrm_raw':nrm_raw}\n",
    "fake_iris=pd.DataFrame(dict)"
   ]
  },
  {
   "cell_type": "code",
   "execution_count": null,
   "metadata": {},
   "outputs": [],
   "source": [
    "species_1 = fake_iris.copy()\n",
    "species_2 = fake_iris.copy()\n",
    "species_3 = fake_iris.copy()"
   ]
  },
  {
   "cell_type": "code",
   "execution_count": null,
   "metadata": {},
   "outputs": [],
   "source": [
    "species_1['par_1'] = 4.65*(1+species_1['nrm_raw'])\n",
    "species_2['par_1'] = 5.35*(1+species_2['nrm_raw'])\n",
    "species_3['par_1'] = 6.5*(1+species_3['nrm_raw'])"
   ]
  },
  {
   "cell_type": "code",
   "execution_count": null,
   "metadata": {},
   "outputs": [],
   "source": [
    "species_1['par_2'] = 6.85*(1+(species_1['nrm_raw']*2))\n",
    "species_2['par_2'] = 7.25*(1+species_2['nrm_raw'])\n",
    "species_3['par_2'] = 9.0*(1+species_3['nrm_raw'])"
   ]
  },
  {
   "cell_type": "code",
   "execution_count": null,
   "metadata": {},
   "outputs": [],
   "source": [
    "species_1['Type'] = 'Plant_1'\n",
    "species_2['Type'] = 'Plant_2'\n",
    "species_3['Type'] = 'Plant_3'"
   ]
  },
  {
   "cell_type": "code",
   "execution_count": null,
   "metadata": {},
   "outputs": [],
   "source": [
    "frames = [species_1,species_2,species_3]\n",
    "iris_data_1 = pd.concat(frames)"
   ]
  },
  {
   "cell_type": "code",
   "execution_count": null,
   "metadata": {},
   "outputs": [],
   "source": [
    "iris_data_1.to_csv('fake_iris_data.csv', index=False)"
   ]
  },
  {
   "cell_type": "code",
   "execution_count": null,
   "metadata": {},
   "outputs": [],
   "source": [
    "plt.hist(iris_data_1['par_1'],bins=50,color='blue',alpha=.5)\n",
    "#plt.hist(iris_data_1['par_2'],bins=50,color='orange',alpha=.5)"
   ]
  },
  {
   "cell_type": "code",
   "execution_count": null,
   "metadata": {},
   "outputs": [],
   "source": [
    "plt.hist(species_1['par_1'],bins=50,color='blue',alpha=.5)\n",
    "plt.hist(species_2['par_1'],bins=50,color='orange',alpha=.5)\n",
    "plt.hist(species_3['par_1'],bins=50,color='green',alpha=.5)"
   ]
  },
  {
   "cell_type": "code",
   "execution_count": null,
   "metadata": {},
   "outputs": [],
   "source": [
    "plt.hist(species_1['par_2'],bins=50,color='blue',alpha=.5)\n",
    "plt.hist(species_2['par_2'],bins=50,color='orange',alpha=.5)\n",
    "plt.hist(species_3['par_2'],bins=50,color='green',alpha=.5)"
   ]
  },
  {
   "cell_type": "code",
   "execution_count": null,
   "metadata": {},
   "outputs": [],
   "source": []
  }
 ],
 "metadata": {
  "kernelspec": {
   "display_name": "Python 3",
   "language": "python",
   "name": "python3"
  },
  "language_info": {
   "codemirror_mode": {
    "name": "ipython",
    "version": 3
   },
   "file_extension": ".py",
   "mimetype": "text/x-python",
   "name": "python",
   "nbconvert_exporter": "python",
   "pygments_lexer": "ipython3",
   "version": "3.8.3"
  }
 },
 "nbformat": 4,
 "nbformat_minor": 4
}
