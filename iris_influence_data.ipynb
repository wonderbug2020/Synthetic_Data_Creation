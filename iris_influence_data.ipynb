{
 "cells": [
  {
   "cell_type": "code",
   "execution_count": 1,
   "metadata": {},
   "outputs": [],
   "source": [
    "#Import libraries\n",
    "import random\n",
    "import pandas as pd\n",
    "import matplotlib.pyplot as plt"
   ]
  },
  {
   "cell_type": "code",
   "execution_count": 2,
   "metadata": {},
   "outputs": [],
   "source": [
    "#Setting the variables for my initial data\n",
    "mean = .5\n",
    "std = mean/6"
   ]
  },
  {
   "cell_type": "code",
   "execution_count": 3,
   "metadata": {},
   "outputs": [],
   "source": [
    "nrm_raw = []\n",
    "while len(nrm_raw) <= 20000:\n",
    "    sample = random.gauss(mean, std)\n",
    "    if sample >=0 and sample <= 1:\n",
    "        nrm_raw.append(sample)"
   ]
  },
  {
   "cell_type": "code",
   "execution_count": 4,
   "metadata": {},
   "outputs": [],
   "source": [
    "dict = {'nrm_raw':nrm_raw}\n",
    "fake_iris=pd.DataFrame(dict)"
   ]
  },
  {
   "cell_type": "code",
   "execution_count": 5,
   "metadata": {},
   "outputs": [],
   "source": [
    "species_1 = fake_iris.copy()\n",
    "species_2 = fake_iris.copy()\n",
    "species_3 = fake_iris.copy()"
   ]
  },
  {
   "cell_type": "code",
   "execution_count": 6,
   "metadata": {},
   "outputs": [],
   "source": [
    "species_1['par_1'] = 4.65*(1+species_1['nrm_raw'])\n",
    "species_2['par_1'] = 5.35*(1+species_2['nrm_raw'])\n",
    "species_3['par_1'] = 6.5*(1+species_3['nrm_raw'])"
   ]
  },
  {
   "cell_type": "code",
   "execution_count": 7,
   "metadata": {},
   "outputs": [],
   "source": [
    "species_1['par_2'] = 6.85*(1+(species_1['nrm_raw']*2))\n",
    "species_2['par_2'] = 7.25*(1+species_2['nrm_raw'])\n",
    "species_3['par_2'] = 9.0*(1+species_3['nrm_raw'])"
   ]
  },
  {
   "cell_type": "code",
   "execution_count": 8,
   "metadata": {},
   "outputs": [],
   "source": [
    "species_1['Type'] = 'Plant_1'\n",
    "species_2['Type'] = 'Plant_2'\n",
    "species_3['Type'] = 'Plant_3'"
   ]
  },
  {
   "cell_type": "code",
   "execution_count": 9,
   "metadata": {},
   "outputs": [],
   "source": [
    "frames = [species_1,species_2,species_3]\n",
    "iris_data_1 = pd.concat(frames)"
   ]
  },
  {
   "cell_type": "code",
   "execution_count": 10,
   "metadata": {},
   "outputs": [],
   "source": [
    "iris_data_1.to_csv('fake_iris_data.csv', index=False)"
   ]
  },
  {
   "cell_type": "code",
   "execution_count": 20,
   "metadata": {},
   "outputs": [
    {
     "data": {
      "text/plain": [
       "(array([1.000e+00, 0.000e+00, 2.000e+00, 1.300e+01, 2.000e+01, 6.400e+01,\n",
       "        1.680e+02, 3.620e+02, 6.520e+02, 1.075e+03, 1.695e+03, 2.164e+03,\n",
       "        2.602e+03, 2.923e+03, 2.907e+03, 2.673e+03, 2.512e+03, 2.290e+03,\n",
       "        2.305e+03, 2.312e+03, 2.434e+03, 2.477e+03, 2.312e+03, 1.991e+03,\n",
       "        1.634e+03, 1.305e+03, 1.066e+03, 9.350e+02, 1.004e+03, 1.141e+03,\n",
       "        1.356e+03, 1.603e+03, 1.744e+03, 1.931e+03, 1.967e+03, 1.860e+03,\n",
       "        1.711e+03, 1.317e+03, 1.162e+03, 8.260e+02, 5.680e+02, 4.020e+02,\n",
       "        2.250e+02, 1.440e+02, 6.900e+01, 4.300e+01, 2.300e+01, 8.000e+00,\n",
       "        2.000e+00, 3.000e+00]),\n",
       " array([ 5.16761615,  5.30177272,  5.43592929,  5.57008586,  5.70424243,\n",
       "         5.83839899,  5.97255556,  6.10671213,  6.2408687 ,  6.37502527,\n",
       "         6.50918184,  6.64333841,  6.77749498,  6.91165154,  7.04580811,\n",
       "         7.17996468,  7.31412125,  7.44827782,  7.58243439,  7.71659096,\n",
       "         7.85074752,  7.98490409,  8.11906066,  8.25321723,  8.3873738 ,\n",
       "         8.52153037,  8.65568694,  8.7898435 ,  8.92400007,  9.05815664,\n",
       "         9.19231321,  9.32646978,  9.46062635,  9.59478292,  9.72893948,\n",
       "         9.86309605,  9.99725262, 10.13140919, 10.26556576, 10.39972233,\n",
       "        10.5338789 , 10.66803547, 10.80219203, 10.9363486 , 11.07050517,\n",
       "        11.20466174, 11.33881831, 11.47297488, 11.60713145, 11.74128801,\n",
       "        11.87544458]),\n",
       " <a list of 50 Patch objects>)"
      ]
     },
     "execution_count": 20,
     "metadata": {},
     "output_type": "execute_result"
    },
    {
     "data": {
      "image/png": "[encoded data removed]",
      "text/plain": [
       "<Figure size 432x288 with 1 Axes>"
      ]
     },
     "metadata": {
      "needs_background": "light"
     },
     "output_type": "display_data"
    }
   ],
   "source": [
    "plt.hist(iris_data_1['par_1'],bins=50,color='blue',alpha=.5)\n",
    "#plt.hist(iris_data_1['par_2'],bins=50,color='orange',alpha=.5)"
   ]
  },
  {
   "cell_type": "code",
   "execution_count": 21,
   "metadata": {},
   "outputs": [
    {
     "data": {
      "text/plain": [
       "(array([1.000e+00, 0.000e+00, 0.000e+00, 0.000e+00, 0.000e+00, 1.000e+00,\n",
       "        7.000e+00, 7.000e+00, 8.000e+00, 1.200e+01, 2.600e+01, 3.100e+01,\n",
       "        6.700e+01, 9.100e+01, 1.530e+02, 1.880e+02, 2.990e+02, 3.370e+02,\n",
       "        4.530e+02, 5.770e+02, 7.260e+02, 8.860e+02, 9.690e+02, 1.127e+03,\n",
       "        1.141e+03, 1.333e+03, 1.334e+03, 1.341e+03, 1.374e+03, 1.235e+03,\n",
       "        1.192e+03, 1.018e+03, 8.770e+02, 7.730e+02, 6.430e+02, 4.750e+02,\n",
       "        3.760e+02, 2.980e+02, 2.000e+02, 1.450e+02, 9.900e+01, 6.900e+01,\n",
       "        4.300e+01, 2.700e+01, 2.200e+01, 1.100e+01, 4.000e+00, 1.000e+00,\n",
       "        2.000e+00, 2.000e+00]),\n",
       " array([ 7.22354946,  7.31658736,  7.40962526,  7.50266317,  7.59570107,\n",
       "         7.68873897,  7.78177687,  7.87481478,  7.96785268,  8.06089058,\n",
       "         8.15392848,  8.24696639,  8.34000429,  8.43304219,  8.52608009,\n",
       "         8.619118  ,  8.7121559 ,  8.8051938 ,  8.8982317 ,  8.99126961,\n",
       "         9.08430751,  9.17734541,  9.27038331,  9.36342122,  9.45645912,\n",
       "         9.54949702,  9.64253492,  9.73557283,  9.82861073,  9.92164863,\n",
       "        10.01468653, 10.10772444, 10.20076234, 10.29380024, 10.38683814,\n",
       "        10.47987605, 10.57291395, 10.66595185, 10.75898975, 10.85202766,\n",
       "        10.94506556, 11.03810346, 11.13114136, 11.22417927, 11.31721717,\n",
       "        11.41025507, 11.50329297, 11.59633088, 11.68936878, 11.78240668,\n",
       "        11.87544458]),\n",
       " <a list of 50 Patch objects>)"
      ]
     },
     "execution_count": 21,
     "metadata": {},
     "output_type": "execute_result"
    },
    {
     "data": {
      "image/png": "[encoded data removed]",
      "text/plain": [
       "<Figure size 432x288 with 1 Axes>"
      ]
     },
     "metadata": {
      "needs_background": "light"
     },
     "output_type": "display_data"
    }
   ],
   "source": [
    "plt.hist(species_1['par_1'],bins=50,color='blue',alpha=.5)\n",
    "plt.hist(species_2['par_1'],bins=50,color='orange',alpha=.5)\n",
    "plt.hist(species_3['par_1'],bins=50,color='green',alpha=.5)"
   ]
  },
  {
   "cell_type": "code",
   "execution_count": 22,
   "metadata": {},
   "outputs": [
    {
     "data": {
      "text/plain": [
       "(array([1.000e+00, 0.000e+00, 0.000e+00, 0.000e+00, 0.000e+00, 1.000e+00,\n",
       "        7.000e+00, 7.000e+00, 8.000e+00, 1.200e+01, 2.600e+01, 3.100e+01,\n",
       "        6.700e+01, 9.100e+01, 1.530e+02, 1.880e+02, 2.990e+02, 3.370e+02,\n",
       "        4.530e+02, 5.770e+02, 7.260e+02, 8.860e+02, 9.690e+02, 1.127e+03,\n",
       "        1.141e+03, 1.333e+03, 1.334e+03, 1.341e+03, 1.374e+03, 1.235e+03,\n",
       "        1.192e+03, 1.018e+03, 8.770e+02, 7.730e+02, 6.430e+02, 4.750e+02,\n",
       "        3.760e+02, 2.980e+02, 2.000e+02, 1.450e+02, 9.900e+01, 6.900e+01,\n",
       "        4.300e+01, 2.700e+01, 2.200e+01, 1.100e+01, 4.000e+00, 1.000e+00,\n",
       "        2.000e+00, 2.000e+00]),\n",
       " array([10.00183771, 10.13065942, 10.25948113, 10.38830285, 10.51712456,\n",
       "        10.64594627, 10.77476798, 10.90358969, 11.0324114 , 11.16123311,\n",
       "        11.29005482, 11.41887654, 11.54769825, 11.67651996, 11.80534167,\n",
       "        11.93416338, 12.06298509, 12.1918068 , 12.32062851, 12.44945022,\n",
       "        12.57827194, 12.70709365, 12.83591536, 12.96473707, 13.09355878,\n",
       "        13.22238049, 13.3512022 , 13.48002391, 13.60884562, 13.73766734,\n",
       "        13.86648905, 13.99531076, 14.12413247, 14.25295418, 14.38177589,\n",
       "        14.5105976 , 14.63941931, 14.76824102, 14.89706274, 15.02588445,\n",
       "        15.15470616, 15.28352787, 15.41234958, 15.54117129, 15.669993  ,\n",
       "        15.79881471, 15.92763642, 16.05645814, 16.18527985, 16.31410156,\n",
       "        16.44292327]),\n",
       " <a list of 50 Patch objects>)"
      ]
     },
     "execution_count": 22,
     "metadata": {},
     "output_type": "execute_result"
    },
    {
     "data": {
      "image/png": "[encoded data removed]",
      "text/plain": [
       "<Figure size 432x288 with 1 Axes>"
      ]
     },
     "metadata": {
      "needs_background": "light"
     },
     "output_type": "display_data"
    }
   ],
   "source": [
    "plt.hist(species_1['par_2'],bins=50,color='blue',alpha=.5)\n",
    "plt.hist(species_2['par_2'],bins=50,color='orange',alpha=.5)\n",
    "plt.hist(species_3['par_2'],bins=50,color='green',alpha=.5)"
   ]
  },
  {
   "cell_type": "code",
   "execution_count": null,
   "metadata": {},
   "outputs": [],
   "source": []
  }
 ],
 "metadata": {
  "kernelspec": {
   "display_name": "Python 3",
   "language": "python",
   "name": "python3"
  },
  "language_info": {
   "codemirror_mode": {
    "name": "ipython",
    "version": 3
   },
   "file_extension": ".py",
   "mimetype": "text/x-python",
   "name": "python",
   "nbconvert_exporter": "python",
   "pygments_lexer": "ipython3",
   "version": "3.8.3"
  }
 },
 "nbformat": 4,
 "nbformat_minor": 4
}
