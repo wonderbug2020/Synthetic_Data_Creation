{
 "cells": [
  {
   "cell_type": "code",
   "execution_count": 1,
   "metadata": {},
   "outputs": [],
   "source": [
    "#Import libraries\n",
    "import random\n",
    "import pandas as pd\n",
    "import matplotlib.pyplot as plt"
   ]
  },
  {
   "cell_type": "code",
   "execution_count": 2,
   "metadata": {},
   "outputs": [],
   "source": [
    "#Setting the variables for my initial data\n",
    "mean = .5\n",
    "std = mean/6"
   ]
  },
  {
   "cell_type": "code",
   "execution_count": 3,
   "metadata": {},
   "outputs": [],
   "source": [
    "nrm_raw = []\n",
    "while len(nrm_raw) <= 20000:\n",
    "    sample = random.gauss(mean, std)\n",
    "    if sample >=0 and sample <= 1:\n",
    "        nrm_raw.append(sample)"
   ]
  },
  {
   "cell_type": "code",
   "execution_count": 4,
   "metadata": {},
   "outputs": [],
   "source": [
    "dict = {'nrm_raw':nrm_raw}\n",
    "fake_iris=pd.DataFrame(dict)"
   ]
  },
  {
   "cell_type": "code",
   "execution_count": 5,
   "metadata": {},
   "outputs": [],
   "source": [
    "species_1 = fake_iris.copy()\n",
    "species_2 = fake_iris.copy()\n",
    "species_3 = fake_iris.copy()"
   ]
  },
  {
   "cell_type": "code",
   "execution_count": 6,
   "metadata": {},
   "outputs": [],
   "source": [
    "species_1['par_1'] = 4.85*(1+species_1['nrm_raw'])\n",
    "species_2['par_1'] = 5.25*(1+species_2['nrm_raw'])\n",
    "species_3['par_1'] = 6.0*(1+species_3['nrm_raw'])"
   ]
  },
  {
   "cell_type": "code",
   "execution_count": 11,
   "metadata": {},
   "outputs": [],
   "source": [
    "species_1['par_2'] = 6.85*(1+(species_1['nrm_raw']*2))\n",
    "species_2['par_2'] = 7.25*(1+species_2['nrm_raw'])\n",
    "species_3['par_2'] = 9.0*(1+species_3['nrm_raw'])"
   ]
  },
  {
   "cell_type": "code",
   "execution_count": 8,
   "metadata": {},
   "outputs": [],
   "source": [
    "species_1['Type'] = 'Plant_1'\n",
    "species_2['Type'] = 'Plant_2'\n",
    "species_3['Type'] = 'Plant_3'"
   ]
  },
  {
   "cell_type": "code",
   "execution_count": 12,
   "metadata": {},
   "outputs": [],
   "source": [
    "frames = [species_1,species_2,species_3]\n",
    "iris_data_1 = pd.concat(frames)"
   ]
  },
  {
   "cell_type": "code",
   "execution_count": null,
   "metadata": {},
   "outputs": [],
   "source": [
    "iris_data_1"
   ]
  },
  {
   "cell_type": "code",
   "execution_count": 13,
   "metadata": {},
   "outputs": [
    {
     "data": {
      "text/plain": [
       "(array([4.000e+00, 3.000e+00, 2.400e+01, 7.900e+01, 1.620e+02, 3.050e+02,\n",
       "        6.190e+02, 1.085e+03, 1.603e+03, 2.217e+03, 2.660e+03, 2.864e+03,\n",
       "        2.704e+03, 2.295e+03, 1.940e+03, 1.503e+03, 1.260e+03, 1.337e+03,\n",
       "        1.516e+03, 1.942e+03, 2.406e+03, 2.936e+03, 3.369e+03, 3.692e+03,\n",
       "        3.721e+03, 3.452e+03, 3.151e+03, 2.663e+03, 2.238e+03, 1.687e+03,\n",
       "        1.330e+03, 9.580e+02, 7.040e+02, 5.240e+02, 3.540e+02, 2.510e+02,\n",
       "        1.540e+02, 1.110e+02, 7.100e+01, 4.100e+01, 2.900e+01, 1.800e+01,\n",
       "        7.000e+00, 7.000e+00, 1.000e+00, 0.000e+00, 3.000e+00, 1.000e+00,\n",
       "        1.000e+00, 1.000e+00]),\n",
       " array([ 8.46906208,  8.6780913 ,  8.88712051,  9.09614972,  9.30517894,\n",
       "         9.51420815,  9.72323737,  9.93226658, 10.14129579, 10.35032501,\n",
       "        10.55935422, 10.76838344, 10.97741265, 11.18644186, 11.39547108,\n",
       "        11.60450029, 11.81352951, 12.02255872, 12.23158793, 12.44061715,\n",
       "        12.64964636, 12.85867558, 13.06770479, 13.27673401, 13.48576322,\n",
       "        13.69479243, 13.90382165, 14.11285086, 14.32188008, 14.53090929,\n",
       "        14.7399385 , 14.94896772, 15.15799693, 15.36702615, 15.57605536,\n",
       "        15.78508457, 15.99411379, 16.203143  , 16.41217222, 16.62120143,\n",
       "        16.83023064, 17.03925986, 17.24828907, 17.45731829, 17.6663475 ,\n",
       "        17.87537672, 18.08440593, 18.29343514, 18.50246436, 18.71149357,\n",
       "        18.92052279]),\n",
       " <a list of 50 Patch objects>)"
      ]
     },
     "execution_count": 13,
     "metadata": {},
     "output_type": "execute_result"
    },
    {
     "data": {
      "image/png": "[encoded data removed]",
      "text/plain": [
       "<Figure size 432x288 with 1 Axes>"
      ]
     },
     "metadata": {
      "needs_background": "light"
     },
     "output_type": "display_data"
    }
   ],
   "source": [
    "plt.hist(iris_data_1['par_1'],bins=50,color='green',alpha=.5)\n",
    "plt.hist(iris_data_1['par_2'],bins=50,color='orange',alpha=.5)"
   ]
  },
  {
   "cell_type": "code",
   "execution_count": null,
   "metadata": {},
   "outputs": [],
   "source": []
  }
 ],
 "metadata": {
  "kernelspec": {
   "display_name": "Python 3",
   "language": "python",
   "name": "python3"
  },
  "language_info": {
   "codemirror_mode": {
    "name": "ipython",
    "version": 3
   },
   "file_extension": ".py",
   "mimetype": "text/x-python",
   "name": "python",
   "nbconvert_exporter": "python",
   "pygments_lexer": "ipython3",
   "version": "3.8.3"
  }
 },
 "nbformat": 4,
 "nbformat_minor": 4
}
