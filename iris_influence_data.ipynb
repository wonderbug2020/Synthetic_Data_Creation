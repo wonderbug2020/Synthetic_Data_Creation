{
 "cells": [
  {
   "cell_type": "code",
   "execution_count": 1,
   "metadata": {},
   "outputs": [],
   "source": [
    "#Import libraries\n",
    "import random\n",
    "import pandas as pd\n",
    "import matplotlib.pyplot as plt"
   ]
  },
  {
   "cell_type": "code",
   "execution_count": 2,
   "metadata": {},
   "outputs": [],
   "source": [
    "#Setting the variables for my initial data\n",
    "mean = .5\n",
    "std = mean/6"
   ]
  },
  {
   "cell_type": "code",
   "execution_count": 3,
   "metadata": {},
   "outputs": [],
   "source": [
    "nrm_raw = []\n",
    "while len(nrm_raw) <= 20000:\n",
    "    sample = random.gauss(mean, std)\n",
    "    if sample >=0 and sample <= 1:\n",
    "        nrm_raw.append(sample)"
   ]
  },
  {
   "cell_type": "code",
   "execution_count": 4,
   "metadata": {},
   "outputs": [],
   "source": [
    "dict = {'nrm_raw':nrm_raw}\n",
    "fake_iris=pd.DataFrame(dict)"
   ]
  },
  {
   "cell_type": "code",
   "execution_count": 8,
   "metadata": {},
   "outputs": [],
   "source": [
    "species_1 = fake_iris.copy()\n",
    "species_2 = fake_iris.copy()\n",
    "species_3 = fake_iris.copy()"
   ]
  },
  {
   "cell_type": "code",
   "execution_count": 9,
   "metadata": {},
   "outputs": [],
   "source": [
    "species_1['par_1'] = 4.75*(1+species_1['nrm_raw'])\n",
    "species_2['par_1'] = 5.25*(1+species_2['nrm_raw'])\n",
    "species_3['par_1'] = 6.0*(1+species_3['nrm_raw'])"
   ]
  },
  {
   "cell_type": "code",
   "execution_count": 10,
   "metadata": {},
   "outputs": [],
   "source": [
    "species_1['par_2'] = 7.0*(1+(species_1['nrm_raw']*2))\n",
    "species_2['par_2'] = 7.25*(1+species_2['nrm_raw'])\n",
    "species_3['par_2'] = 9.0*(1+species_3['nrm_raw'])"
   ]
  },
  {
   "cell_type": "code",
   "execution_count": 14,
   "metadata": {},
   "outputs": [],
   "source": [
    "species_1['Type'] = 'Plant_1'\n",
    "species_2['Type'] = 'Plant_2'\n",
    "species_3['Type'] = 'Plant_3'"
   ]
  },
  {
   "cell_type": "code",
   "execution_count": 15,
   "metadata": {},
   "outputs": [],
   "source": [
    "frames = [species_1,species_2,species_3]"
   ]
  },
  {
   "cell_type": "code",
   "execution_count": 16,
   "metadata": {},
   "outputs": [],
   "source": [
    "iris_data_1 = pd.concat(frames)"
   ]
  },
  {
   "cell_type": "code",
   "execution_count": 17,
   "metadata": {},
   "outputs": [
    {
     "data": {
      "text/html": [
       "<div>\n",
       "<style scoped>\n",
       "    .dataframe tbody tr th:only-of-type {\n",
       "        vertical-align: middle;\n",
       "    }\n",
       "\n",
       "    .dataframe tbody tr th {\n",
       "        vertical-align: top;\n",
       "    }\n",
       "\n",
       "    .dataframe thead th {\n",
       "        text-align: right;\n",
       "    }\n",
       "</style>\n",
       "<table border=\"1\" class=\"dataframe\">\n",
       "  <thead>\n",
       "    <tr style=\"text-align: right;\">\n",
       "      <th></th>\n",
       "      <th>nrm_raw</th>\n",
       "      <th>par_1</th>\n",
       "      <th>par_2</th>\n",
       "      <th>Type</th>\n",
       "    </tr>\n",
       "  </thead>\n",
       "  <tbody>\n",
       "    <tr>\n",
       "      <th>0</th>\n",
       "      <td>0.525343</td>\n",
       "      <td>7.245380</td>\n",
       "      <td>14.354804</td>\n",
       "      <td>Plant_1</td>\n",
       "    </tr>\n",
       "    <tr>\n",
       "      <th>1</th>\n",
       "      <td>0.548815</td>\n",
       "      <td>7.356870</td>\n",
       "      <td>14.683405</td>\n",
       "      <td>Plant_1</td>\n",
       "    </tr>\n",
       "    <tr>\n",
       "      <th>2</th>\n",
       "      <td>0.555362</td>\n",
       "      <td>7.387970</td>\n",
       "      <td>14.775071</td>\n",
       "      <td>Plant_1</td>\n",
       "    </tr>\n",
       "    <tr>\n",
       "      <th>3</th>\n",
       "      <td>0.652318</td>\n",
       "      <td>7.848512</td>\n",
       "      <td>16.132457</td>\n",
       "      <td>Plant_1</td>\n",
       "    </tr>\n",
       "    <tr>\n",
       "      <th>4</th>\n",
       "      <td>0.449699</td>\n",
       "      <td>6.886072</td>\n",
       "      <td>13.295791</td>\n",
       "      <td>Plant_1</td>\n",
       "    </tr>\n",
       "    <tr>\n",
       "      <th>...</th>\n",
       "      <td>...</td>\n",
       "      <td>...</td>\n",
       "      <td>...</td>\n",
       "      <td>...</td>\n",
       "    </tr>\n",
       "    <tr>\n",
       "      <th>19996</th>\n",
       "      <td>0.338090</td>\n",
       "      <td>8.028537</td>\n",
       "      <td>12.042806</td>\n",
       "      <td>Plant_3</td>\n",
       "    </tr>\n",
       "    <tr>\n",
       "      <th>19997</th>\n",
       "      <td>0.565041</td>\n",
       "      <td>9.390244</td>\n",
       "      <td>14.085366</td>\n",
       "      <td>Plant_3</td>\n",
       "    </tr>\n",
       "    <tr>\n",
       "      <th>19998</th>\n",
       "      <td>0.432858</td>\n",
       "      <td>8.597148</td>\n",
       "      <td>12.895722</td>\n",
       "      <td>Plant_3</td>\n",
       "    </tr>\n",
       "    <tr>\n",
       "      <th>19999</th>\n",
       "      <td>0.469330</td>\n",
       "      <td>8.815982</td>\n",
       "      <td>13.223973</td>\n",
       "      <td>Plant_3</td>\n",
       "    </tr>\n",
       "    <tr>\n",
       "      <th>20000</th>\n",
       "      <td>0.442332</td>\n",
       "      <td>8.653994</td>\n",
       "      <td>12.980992</td>\n",
       "      <td>Plant_3</td>\n",
       "    </tr>\n",
       "  </tbody>\n",
       "</table>\n",
       "<p>60003 rows × 4 columns</p>\n",
       "</div>"
      ],
      "text/plain": [
       "        nrm_raw     par_1      par_2     Type\n",
       "0      0.525343  7.245380  14.354804  Plant_1\n",
       "1      0.548815  7.356870  14.683405  Plant_1\n",
       "2      0.555362  7.387970  14.775071  Plant_1\n",
       "3      0.652318  7.848512  16.132457  Plant_1\n",
       "4      0.449699  6.886072  13.295791  Plant_1\n",
       "...         ...       ...        ...      ...\n",
       "19996  0.338090  8.028537  12.042806  Plant_3\n",
       "19997  0.565041  9.390244  14.085366  Plant_3\n",
       "19998  0.432858  8.597148  12.895722  Plant_3\n",
       "19999  0.469330  8.815982  13.223973  Plant_3\n",
       "20000  0.442332  8.653994  12.980992  Plant_3\n",
       "\n",
       "[60003 rows x 4 columns]"
      ]
     },
     "execution_count": 17,
     "metadata": {},
     "output_type": "execute_result"
    }
   ],
   "source": [
    "iris_data_1"
   ]
  },
  {
   "cell_type": "code",
   "execution_count": null,
   "metadata": {},
   "outputs": [],
   "source": []
  }
 ],
 "metadata": {
  "kernelspec": {
   "display_name": "Python 3",
   "language": "python",
   "name": "python3"
  },
  "language_info": {
   "codemirror_mode": {
    "name": "ipython",
    "version": 3
   },
   "file_extension": ".py",
   "mimetype": "text/x-python",
   "name": "python",
   "nbconvert_exporter": "python",
   "pygments_lexer": "ipython3",
   "version": "3.8.3"
  }
 },
 "nbformat": 4,
 "nbformat_minor": 4
}
