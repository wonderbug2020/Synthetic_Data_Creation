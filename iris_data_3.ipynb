{
 "cells": [
  {
   "cell_type": "code",
   "execution_count": 1,
   "metadata": {},
   "outputs": [],
   "source": [
    "#Import libraries\n",
    "import random\n",
    "import pandas as pd\n",
    "import matplotlib.pyplot as plt"
   ]
  },
  {
   "cell_type": "code",
   "execution_count": 2,
   "metadata": {},
   "outputs": [],
   "source": [
    "#Setting the variables for my initial data\n",
    "mean = .5\n",
    "std = mean/6\n",
    "datapoints = 20000"
   ]
  },
  {
   "cell_type": "code",
   "execution_count": 3,
   "metadata": {},
   "outputs": [],
   "source": [
    "#Function to get a list with a gaussian distribution\n",
    "def get_gaussian_dist(mean,std,datapoints):\n",
    "    gauss_lst = []\n",
    "    while len(gauss_lst) < datapoints:\n",
    "        sample = random.gauss(mean, std)\n",
    "        if sample >= 0 and sample <= 1:\n",
    "            gauss_lst.append(sample)\n",
    "    return gauss_lst    \n",
    "\n",
    "#Function to calculate the multiplier for water based on 3 regions\n",
    "def get_waterfall(datapoints):\n",
    "    pop = [-.02,0,.02]\n",
    "    wei = [3,3,3]    \n",
    "    lst = []\n",
    "    for points in range(datapoints):\n",
    "        multi = random.choices(pop,wei,k=1)\n",
    "        lst.append(multi[0])\n",
    "    return(lst)"
   ]
  },
  {
   "cell_type": "code",
   "execution_count": 4,
   "metadata": {},
   "outputs": [],
   "source": [
    "def make_dataframe(mean,std,datapoints,plant,base_add,base_multi,length_multi):\n",
    "    gauss_1 = get_gaussian_dist(mean,std,datapoints)\n",
    "    gauss_2 = get_gaussian_dist(mean,std,datapoints)\n",
    "    water_1 = get_waterfall(datapoints)\n",
    "    dict = {'Base_gauss_1':gauss_1,'Sun_gauss_1':gauss_2,'Water_multi_1':water_1}\n",
    "    df=pd.DataFrame(dict)\n",
    "    df['var_1_w'] = (((df['Base_gauss_1'] * base_multi) + base_add) + df['Sun_gauss_1']) * (df['Water_multi_1'] + 1)\n",
    "    df['var_1_l'] = df['var_1_w'] * (length_multi)\n",
    "    #df['rand'] = (df['var_1_l']/df['var_1_w']) - length_multi\n",
    "    df['plant_type'] = plant\n",
    "    return(df)"
   ]
  },
  {
   "cell_type": "code",
   "execution_count": 5,
   "metadata": {},
   "outputs": [],
   "source": [
    "plant_1 = make_dataframe(mean,std,datapoints,'plant_1',9.9,1,8.8)\n",
    "plant_2 = make_dataframe(mean,std,datapoints,'plant_2',10.1,1,8.5)\n",
    "plant_3 = make_dataframe(mean,std,datapoints,'plant_3',9.8,1.4,8.2)"
   ]
  },
  {
   "cell_type": "code",
   "execution_count": 6,
   "metadata": {},
   "outputs": [],
   "source": [
    "fake_iris = pd.concat([plant_1,plant_2,plant_3])"
   ]
  },
  {
   "cell_type": "code",
   "execution_count": 7,
   "metadata": {},
   "outputs": [
    {
     "data": {
      "text/html": [
       "<div>\n",
       "<style scoped>\n",
       "    .dataframe tbody tr th:only-of-type {\n",
       "        vertical-align: middle;\n",
       "    }\n",
       "\n",
       "    .dataframe tbody tr th {\n",
       "        vertical-align: top;\n",
       "    }\n",
       "\n",
       "    .dataframe thead th {\n",
       "        text-align: right;\n",
       "    }\n",
       "</style>\n",
       "<table border=\"1\" class=\"dataframe\">\n",
       "  <thead>\n",
       "    <tr style=\"text-align: right;\">\n",
       "      <th></th>\n",
       "      <th>Base_gauss_1</th>\n",
       "      <th>Sun_gauss_1</th>\n",
       "      <th>Water_multi_1</th>\n",
       "      <th>var_1_w</th>\n",
       "      <th>var_1_l</th>\n",
       "      <th>plant_type</th>\n",
       "    </tr>\n",
       "  </thead>\n",
       "  <tbody>\n",
       "    <tr>\n",
       "      <th>7586</th>\n",
       "      <td>0.576535</td>\n",
       "      <td>0.521440</td>\n",
       "      <td>0.00</td>\n",
       "      <td>11.197975</td>\n",
       "      <td>95.182786</td>\n",
       "      <td>plant_2</td>\n",
       "    </tr>\n",
       "    <tr>\n",
       "      <th>7478</th>\n",
       "      <td>0.557538</td>\n",
       "      <td>0.499746</td>\n",
       "      <td>0.02</td>\n",
       "      <td>11.301904</td>\n",
       "      <td>92.675614</td>\n",
       "      <td>plant_3</td>\n",
       "    </tr>\n",
       "    <tr>\n",
       "      <th>8675</th>\n",
       "      <td>0.521480</td>\n",
       "      <td>0.598510</td>\n",
       "      <td>0.00</td>\n",
       "      <td>11.128582</td>\n",
       "      <td>91.254375</td>\n",
       "      <td>plant_3</td>\n",
       "    </tr>\n",
       "    <tr>\n",
       "      <th>14596</th>\n",
       "      <td>0.586882</td>\n",
       "      <td>0.404794</td>\n",
       "      <td>-0.02</td>\n",
       "      <td>10.673843</td>\n",
       "      <td>93.929815</td>\n",
       "      <td>plant_1</td>\n",
       "    </tr>\n",
       "    <tr>\n",
       "      <th>4257</th>\n",
       "      <td>0.310603</td>\n",
       "      <td>0.493714</td>\n",
       "      <td>-0.02</td>\n",
       "      <td>10.513987</td>\n",
       "      <td>86.214691</td>\n",
       "      <td>plant_3</td>\n",
       "    </tr>\n",
       "    <tr>\n",
       "      <th>18066</th>\n",
       "      <td>0.455108</td>\n",
       "      <td>0.443788</td>\n",
       "      <td>0.00</td>\n",
       "      <td>10.880939</td>\n",
       "      <td>89.223696</td>\n",
       "      <td>plant_3</td>\n",
       "    </tr>\n",
       "    <tr>\n",
       "      <th>16226</th>\n",
       "      <td>0.486301</td>\n",
       "      <td>0.437842</td>\n",
       "      <td>0.00</td>\n",
       "      <td>10.918664</td>\n",
       "      <td>89.533045</td>\n",
       "      <td>plant_3</td>\n",
       "    </tr>\n",
       "    <tr>\n",
       "      <th>4768</th>\n",
       "      <td>0.503651</td>\n",
       "      <td>0.442107</td>\n",
       "      <td>-0.02</td>\n",
       "      <td>10.728274</td>\n",
       "      <td>87.971851</td>\n",
       "      <td>plant_3</td>\n",
       "    </tr>\n",
       "    <tr>\n",
       "      <th>17644</th>\n",
       "      <td>0.450444</td>\n",
       "      <td>0.515084</td>\n",
       "      <td>-0.02</td>\n",
       "      <td>10.844217</td>\n",
       "      <td>92.175844</td>\n",
       "      <td>plant_2</td>\n",
       "    </tr>\n",
       "    <tr>\n",
       "      <th>13617</th>\n",
       "      <td>0.450148</td>\n",
       "      <td>0.416803</td>\n",
       "      <td>0.00</td>\n",
       "      <td>10.766951</td>\n",
       "      <td>94.749170</td>\n",
       "      <td>plant_1</td>\n",
       "    </tr>\n",
       "  </tbody>\n",
       "</table>\n",
       "</div>"
      ],
      "text/plain": [
       "       Base_gauss_1  Sun_gauss_1  Water_multi_1    var_1_w    var_1_l  \\\n",
       "7586       0.576535     0.521440           0.00  11.197975  95.182786   \n",
       "7478       0.557538     0.499746           0.02  11.301904  92.675614   \n",
       "8675       0.521480     0.598510           0.00  11.128582  91.254375   \n",
       "14596      0.586882     0.404794          -0.02  10.673843  93.929815   \n",
       "4257       0.310603     0.493714          -0.02  10.513987  86.214691   \n",
       "18066      0.455108     0.443788           0.00  10.880939  89.223696   \n",
       "16226      0.486301     0.437842           0.00  10.918664  89.533045   \n",
       "4768       0.503651     0.442107          -0.02  10.728274  87.971851   \n",
       "17644      0.450444     0.515084          -0.02  10.844217  92.175844   \n",
       "13617      0.450148     0.416803           0.00  10.766951  94.749170   \n",
       "\n",
       "      plant_type  \n",
       "7586     plant_2  \n",
       "7478     plant_3  \n",
       "8675     plant_3  \n",
       "14596    plant_1  \n",
       "4257     plant_3  \n",
       "18066    plant_3  \n",
       "16226    plant_3  \n",
       "4768     plant_3  \n",
       "17644    plant_2  \n",
       "13617    plant_1  "
      ]
     },
     "execution_count": 7,
     "metadata": {},
     "output_type": "execute_result"
    }
   ],
   "source": [
    "fake_iris.sample(10)"
   ]
  },
  {
   "cell_type": "code",
   "execution_count": 8,
   "metadata": {},
   "outputs": [
    {
     "data": {
      "image/png": "[encoded data removed]",
      "text/plain": [
       "<Figure size 432x288 with 1 Axes>"
      ]
     },
     "metadata": {
      "needs_background": "light"
     },
     "output_type": "display_data"
    }
   ],
   "source": [
    "plt.hist(plant_1['var_1_w'], bins = 50, color='blue',alpha=.5);\n",
    "plt.hist(plant_2['var_1_w'], bins = 50, color='orange',alpha=.5);\n",
    "plt.hist(plant_3['var_1_w'], bins = 50, color='green',alpha=.5);"
   ]
  },
  {
   "cell_type": "code",
   "execution_count": 9,
   "metadata": {},
   "outputs": [
    {
     "data": {
      "image/png": "[encoded data removed]",
      "text/plain": [
       "<Figure size 432x288 with 1 Axes>"
      ]
     },
     "metadata": {
      "needs_background": "light"
     },
     "output_type": "display_data"
    }
   ],
   "source": [
    "plt.hist(plant_1['var_1_l'], bins = 50, color='blue',alpha=.5);\n",
    "plt.hist(plant_2['var_1_l'], bins = 50, color='orange',alpha=.5);\n",
    "plt.hist(plant_3['var_1_l'], bins = 50, color='green',alpha=.5);"
   ]
  },
  {
   "cell_type": "code",
   "execution_count": 10,
   "metadata": {},
   "outputs": [],
   "source": [
    "export_data = fake_iris[['var_1_l','var_1_w','plant_type']]"
   ]
  },
  {
   "cell_type": "code",
   "execution_count": 13,
   "metadata": {},
   "outputs": [],
   "source": [
    "export_data.to_csv('data_folder/fake_iris_2.csv')"
   ]
  },
  {
   "cell_type": "code",
   "execution_count": null,
   "metadata": {},
   "outputs": [],
   "source": []
  }
 ],
 "metadata": {
  "kernelspec": {
   "display_name": "Python 3",
   "language": "python",
   "name": "python3"
  },
  "language_info": {
   "codemirror_mode": {
    "name": "ipython",
    "version": 3
   },
   "file_extension": ".py",
   "mimetype": "text/x-python",
   "name": "python",
   "nbconvert_exporter": "python",
   "pygments_lexer": "ipython3",
   "version": "3.8.3"
  }
 },
 "nbformat": 4,
 "nbformat_minor": 4
}
