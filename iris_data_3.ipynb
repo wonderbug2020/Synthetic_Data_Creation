{
 "cells": [
  {
   "cell_type": "code",
   "execution_count": 1,
   "metadata": {},
   "outputs": [],
   "source": [
    "#Import libraries\n",
    "import random\n",
    "import pandas as pd\n",
    "import matplotlib.pyplot as plt"
   ]
  },
  {
   "cell_type": "code",
   "execution_count": 3,
   "metadata": {},
   "outputs": [],
   "source": [
    "#Setting the variables for my initial data\n",
    "mean = .5\n",
    "std = mean/6\n",
    "datapoints = 20000"
   ]
  },
  {
   "cell_type": "code",
   "execution_count": 4,
   "metadata": {},
   "outputs": [],
   "source": [
    "#Function to get a list with a gaussian distribution\n",
    "def get_gaussian_dist(mean,std,datapoints):\n",
    "    gauss_lst = []\n",
    "    while len(gauss_lst) < datapoints:\n",
    "        sample = random.gauss(mean, std)\n",
    "        if sample >= 0 and sample <= 1:\n",
    "            gauss_lst.append(sample)\n",
    "    return gauss_lst    \n",
    "\n",
    "#Function to calculate the multiplier for water based on 3 regions\n",
    "def get_waterfall(datapoints):\n",
    "    pop = [-.02,0,.02]\n",
    "    wei = [3,3,3]    \n",
    "    lst = []\n",
    "    for points in range(datapoints):\n",
    "        multi = random.choices(pop,wei,k=1)\n",
    "        lst.append(multi[0])\n",
    "    return(lst)"
   ]
  },
  {
   "cell_type": "code",
   "execution_count": 27,
   "metadata": {},
   "outputs": [],
   "source": [
    "def make_dataframe(mean,std,datapoints,plant,base_add,base_multi,length_multi):\n",
    "    gauss_1 = get_gaussian_dist(mean,std,datapoints)\n",
    "    gauss_2 = get_gaussian_dist(mean,std,datapoints)\n",
    "    water_1 = get_waterfall(datapoints)\n",
    "    dict = {'Base_gauss_1':gauss_1,'Sun_gauss_1':gauss_2,'Water_multi_1':water_1}\n",
    "    df=pd.DataFrame(dict)\n",
    "    df['var_1_w'] = (((df['Base_gauss_1'] * base_multi) + base_add) + df['Sun_gauss_1']) * (df['Water_multi_1'] + 1)\n",
    "    df['var_1_l'] = df['var_1_w'] * (length_multi)\n",
    "    #df['rand'] = (df['var_1_l']/df['var_1_w']) - length_multi\n",
    "    df['plant_type'] = plant\n",
    "    return(df)"
   ]
  },
  {
   "cell_type": "code",
   "execution_count": 48,
   "metadata": {},
   "outputs": [],
   "source": [
    "plant_1 = make_dataframe(mean,std,datapoints,'plant_1',9.9,1,8.8)\n",
    "plant_2 = make_dataframe(mean,std,datapoints,'plant_2',10.1,1,8.5)\n",
    "plant_3 = make_dataframe(mean,std,datapoints,'plant_3',9.8,1.4,8.2)"
   ]
  },
  {
   "cell_type": "code",
   "execution_count": 49,
   "metadata": {},
   "outputs": [],
   "source": [
    "fake_iris = pd.concat([plant_1,plant_2,plant_3])"
   ]
  },
  {
   "cell_type": "code",
   "execution_count": 50,
   "metadata": {},
   "outputs": [
    {
     "data": {
      "text/html": [
       "<div>\n",
       "<style scoped>\n",
       "    .dataframe tbody tr th:only-of-type {\n",
       "        vertical-align: middle;\n",
       "    }\n",
       "\n",
       "    .dataframe tbody tr th {\n",
       "        vertical-align: top;\n",
       "    }\n",
       "\n",
       "    .dataframe thead th {\n",
       "        text-align: right;\n",
       "    }\n",
       "</style>\n",
       "<table border=\"1\" class=\"dataframe\">\n",
       "  <thead>\n",
       "    <tr style=\"text-align: right;\">\n",
       "      <th></th>\n",
       "      <th>Base_gauss_1</th>\n",
       "      <th>Sun_gauss_1</th>\n",
       "      <th>Water_multi_1</th>\n",
       "      <th>var_1_w</th>\n",
       "      <th>var_1_l</th>\n",
       "      <th>plant_type</th>\n",
       "    </tr>\n",
       "  </thead>\n",
       "  <tbody>\n",
       "    <tr>\n",
       "      <th>7787</th>\n",
       "      <td>0.438270</td>\n",
       "      <td>0.538159</td>\n",
       "      <td>-0.02</td>\n",
       "      <td>10.854901</td>\n",
       "      <td>92.266655</td>\n",
       "      <td>plant_2</td>\n",
       "    </tr>\n",
       "    <tr>\n",
       "      <th>17914</th>\n",
       "      <td>0.517159</td>\n",
       "      <td>0.469477</td>\n",
       "      <td>0.00</td>\n",
       "      <td>10.993500</td>\n",
       "      <td>90.146698</td>\n",
       "      <td>plant_3</td>\n",
       "    </tr>\n",
       "    <tr>\n",
       "      <th>8674</th>\n",
       "      <td>0.503294</td>\n",
       "      <td>0.519803</td>\n",
       "      <td>-0.02</td>\n",
       "      <td>10.803927</td>\n",
       "      <td>88.592198</td>\n",
       "      <td>plant_3</td>\n",
       "    </tr>\n",
       "    <tr>\n",
       "      <th>19608</th>\n",
       "      <td>0.418009</td>\n",
       "      <td>0.598071</td>\n",
       "      <td>0.02</td>\n",
       "      <td>11.202950</td>\n",
       "      <td>91.864188</td>\n",
       "      <td>plant_3</td>\n",
       "    </tr>\n",
       "    <tr>\n",
       "      <th>5750</th>\n",
       "      <td>0.585674</td>\n",
       "      <td>0.567456</td>\n",
       "      <td>0.02</td>\n",
       "      <td>11.411147</td>\n",
       "      <td>93.571409</td>\n",
       "      <td>plant_3</td>\n",
       "    </tr>\n",
       "    <tr>\n",
       "      <th>19280</th>\n",
       "      <td>0.469815</td>\n",
       "      <td>0.548665</td>\n",
       "      <td>0.00</td>\n",
       "      <td>11.006406</td>\n",
       "      <td>90.252529</td>\n",
       "      <td>plant_3</td>\n",
       "    </tr>\n",
       "    <tr>\n",
       "      <th>16491</th>\n",
       "      <td>0.443897</td>\n",
       "      <td>0.538228</td>\n",
       "      <td>-0.02</td>\n",
       "      <td>10.664483</td>\n",
       "      <td>93.847446</td>\n",
       "      <td>plant_1</td>\n",
       "    </tr>\n",
       "    <tr>\n",
       "      <th>15373</th>\n",
       "      <td>0.411835</td>\n",
       "      <td>0.617405</td>\n",
       "      <td>0.02</td>\n",
       "      <td>11.213854</td>\n",
       "      <td>91.953599</td>\n",
       "      <td>plant_3</td>\n",
       "    </tr>\n",
       "    <tr>\n",
       "      <th>2285</th>\n",
       "      <td>0.425876</td>\n",
       "      <td>0.436787</td>\n",
       "      <td>0.02</td>\n",
       "      <td>11.181917</td>\n",
       "      <td>95.046291</td>\n",
       "      <td>plant_2</td>\n",
       "    </tr>\n",
       "    <tr>\n",
       "      <th>2511</th>\n",
       "      <td>0.363517</td>\n",
       "      <td>0.592544</td>\n",
       "      <td>0.00</td>\n",
       "      <td>11.056061</td>\n",
       "      <td>93.976516</td>\n",
       "      <td>plant_2</td>\n",
       "    </tr>\n",
       "  </tbody>\n",
       "</table>\n",
       "</div>"
      ],
      "text/plain": [
       "       Base_gauss_1  Sun_gauss_1  Water_multi_1    var_1_w    var_1_l  \\\n",
       "7787       0.438270     0.538159          -0.02  10.854901  92.266655   \n",
       "17914      0.517159     0.469477           0.00  10.993500  90.146698   \n",
       "8674       0.503294     0.519803          -0.02  10.803927  88.592198   \n",
       "19608      0.418009     0.598071           0.02  11.202950  91.864188   \n",
       "5750       0.585674     0.567456           0.02  11.411147  93.571409   \n",
       "19280      0.469815     0.548665           0.00  11.006406  90.252529   \n",
       "16491      0.443897     0.538228          -0.02  10.664483  93.847446   \n",
       "15373      0.411835     0.617405           0.02  11.213854  91.953599   \n",
       "2285       0.425876     0.436787           0.02  11.181917  95.046291   \n",
       "2511       0.363517     0.592544           0.00  11.056061  93.976516   \n",
       "\n",
       "      plant_type  \n",
       "7787     plant_2  \n",
       "17914    plant_3  \n",
       "8674     plant_3  \n",
       "19608    plant_3  \n",
       "5750     plant_3  \n",
       "19280    plant_3  \n",
       "16491    plant_1  \n",
       "15373    plant_3  \n",
       "2285     plant_2  \n",
       "2511     plant_2  "
      ]
     },
     "execution_count": 50,
     "metadata": {},
     "output_type": "execute_result"
    }
   ],
   "source": [
    "fake_iris.sample(10)"
   ]
  },
  {
   "cell_type": "code",
   "execution_count": 51,
   "metadata": {},
   "outputs": [
    {
     "data": {
      "image/png": "[encoded data removed]",
      "text/plain": [
       "<Figure size 432x288 with 1 Axes>"
      ]
     },
     "metadata": {
      "needs_background": "light"
     },
     "output_type": "display_data"
    }
   ],
   "source": [
    "plt.hist(plant_1['var_1_w'], bins = 50, color='blue',alpha=.5);\n",
    "plt.hist(plant_2['var_1_w'], bins = 50, color='orange',alpha=.5);\n",
    "plt.hist(plant_3['var_1_w'], bins = 50, color='green',alpha=.5);"
   ]
  },
  {
   "cell_type": "code",
   "execution_count": 52,
   "metadata": {},
   "outputs": [
    {
     "data": {
      "image/png": "[encoded data removed]",
      "text/plain": [
       "<Figure size 432x288 with 1 Axes>"
      ]
     },
     "metadata": {
      "needs_background": "light"
     },
     "output_type": "display_data"
    }
   ],
   "source": [
    "plt.hist(plant_1['var_1_l'], bins = 50, color='blue',alpha=.5);\n",
    "plt.hist(plant_2['var_1_l'], bins = 50, color='orange',alpha=.5);\n",
    "plt.hist(plant_3['var_1_l'], bins = 50, color='green',alpha=.5);"
   ]
  },
  {
   "cell_type": "code",
   "execution_count": null,
   "metadata": {},
   "outputs": [],
   "source": []
  }
 ],
 "metadata": {
  "kernelspec": {
   "display_name": "Python 3",
   "language": "python",
   "name": "python3"
  },
  "language_info": {
   "codemirror_mode": {
    "name": "ipython",
    "version": 3
   },
   "file_extension": ".py",
   "mimetype": "text/x-python",
   "name": "python",
   "nbconvert_exporter": "python",
   "pygments_lexer": "ipython3",
   "version": "3.8.3"
  }
 },
 "nbformat": 4,
 "nbformat_minor": 4
}
